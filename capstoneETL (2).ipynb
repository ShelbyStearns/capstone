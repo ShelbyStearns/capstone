{
 "cells": [
  {
   "cell_type": "markdown",
   "metadata": {
    "editable": true
   },
   "source": [
    "# Import Libraries and Start Spark\n",
    "____________"
   ]
  },
  {
   "cell_type": "code",
   "execution_count": 1,
   "metadata": {
    "editable": true,
    "execution": {
     "iopub.execute_input": "2022-10-15T17:44:09.443224Z",
     "iopub.status.busy": "2022-10-15T17:44:09.442884Z",
     "iopub.status.idle": "2022-10-15T17:44:41.861909Z",
     "shell.execute_reply": "2022-10-15T17:44:41.859740Z",
     "shell.execute_reply.started": "2022-10-15T17:44:09.443195Z"
    },
    "tags": []
   },
   "outputs": [
    {
     "data": {
      "application/vnd.jupyter.widget-view+json": {
       "model_id": "f29a7dec18bc4116aafdd74ead791b41",
       "version_major": 2,
       "version_minor": 0
      },
      "text/plain": [
       "VBox()"
      ]
     },
     "metadata": {},
     "output_type": "display_data"
    },
    {
     "name": "stdout",
     "output_type": "stream",
     "text": [
      "Starting Spark application\n"
     ]
    },
    {
     "data": {
      "text/html": [
       "<table>\n",
       "<tr><th>ID</th><th>YARN Application ID</th><th>Kind</th><th>State</th><th>Spark UI</th><th>Driver log</th><th>Current session?</th></tr><tr><td>0</td><td>application_1665855331808_0001</td><td>pyspark</td><td>idle</td><td><a target=\"_blank\" href=\"http://ip-172-31-31-209.us-west-2.compute.internal:20888/proxy/application_1665855331808_0001/\">Link</a></td><td><a target=\"_blank\" href=\"http://ip-172-31-24-213.us-west-2.compute.internal:8042/node/containerlogs/container_1665855331808_0001_01_000001/livy\">Link</a></td><td>✔</td></tr></table>"
      ],
      "text/plain": [
       "<IPython.core.display.HTML object>"
      ]
     },
     "metadata": {},
     "output_type": "display_data"
    },
    {
     "data": {
      "application/vnd.jupyter.widget-view+json": {
       "model_id": "",
       "version_major": 2,
       "version_minor": 0
      },
      "text/plain": [
       "FloatProgress(value=0.0, bar_style='info', description='Progress:', layout=Layout(height='25px', width='50%'),…"
      ]
     },
     "metadata": {},
     "output_type": "display_data"
    },
    {
     "name": "stdout",
     "output_type": "stream",
     "text": [
      "SparkSession available as 'spark'.\n"
     ]
    },
    {
     "data": {
      "application/vnd.jupyter.widget-view+json": {
       "model_id": "",
       "version_major": 2,
       "version_minor": 0
      },
      "text/plain": [
       "FloatProgress(value=0.0, bar_style='info', description='Progress:', layout=Layout(height='25px', width='50%'),…"
      ]
     },
     "metadata": {},
     "output_type": "display_data"
    },
    {
     "name": "stderr",
     "output_type": "stream",
     "text": [
      "No module named 'boto3'\n",
      "Traceback (most recent call last):\n",
      "ModuleNotFoundError: No module named 'boto3'\n",
      "\n"
     ]
    }
   ],
   "source": [
    "import pyspark\n",
    "from pyspark.sql import SparkSession\n",
    "from pyspark.sql import SQLContext\n",
    "from pyspark.sql.functions import *\n",
    "from pyspark.sql.functions import udf, col, desc, asc\n",
    "import pyspark.sql.functions as F\n",
    "from pyspark.sql.functions import year, month, dayofmonth, \\\n",
    "    hour, weekofyear, date_format\n",
    "from pyspark.sql.functions import isnan, col, when, count\n",
    "from pyspark.context import SparkContext\n",
    "from pyspark.sql.types import *\n",
    "from pyspark.sql.types import StructType as R, \\\n",
    "            StructField as Fld, \\\n",
    "            DoubleType as Dbl,  \\\n",
    "            LongType as Long,   \\\n",
    "            StringType as Str,  \\\n",
    "            IntegerType as Int, \\\n",
    "            DecimalType as Dec, \\\n",
    "            DateType as Date,   \\\n",
    "            FloatType as Float, \\\n",
    "            TimestampType as Stamp\n",
    "from pyspark.sql.window import Window as W\n",
    "\n",
    "import datetime\n",
    "import numpy as np\n",
    "import os"
   ]
  },
  {
   "cell_type": "code",
   "execution_count": 2,
   "metadata": {
    "editable": true,
    "execution": {
     "iopub.execute_input": "2022-10-15T17:45:22.527315Z",
     "iopub.status.busy": "2022-10-15T17:45:22.526979Z",
     "iopub.status.idle": "2022-10-15T17:45:22.836919Z",
     "shell.execute_reply": "2022-10-15T17:45:22.833944Z",
     "shell.execute_reply.started": "2022-10-15T17:45:22.527287Z"
    },
    "tags": []
   },
   "outputs": [
    {
     "data": {
      "application/vnd.jupyter.widget-view+json": {
       "model_id": "b6f4415753d54825b6f5a686e096e939",
       "version_major": 2,
       "version_minor": 0
      },
      "text/plain": [
       "VBox()"
      ]
     },
     "metadata": {},
     "output_type": "display_data"
    },
    {
     "data": {
      "application/vnd.jupyter.widget-view+json": {
       "model_id": "",
       "version_major": 2,
       "version_minor": 0
      },
      "text/plain": [
       "FloatProgress(value=0.0, bar_style='info', description='Progress:', layout=Layout(height='25px', width='50%'),…"
      ]
     },
     "metadata": {},
     "output_type": "display_data"
    }
   ],
   "source": [
    "# https://knowledge.udacity.com/questions/73278\n",
    "sc = spark.sparkContext\n",
    "sc._jsc.hadoopConfiguration().set(\"mapreduce.fileoutputcommitter.algorithm.version\", \"2\")"
   ]
  },
  {
   "cell_type": "code",
   "execution_count": 3,
   "metadata": {
    "editable": true,
    "execution": {
     "iopub.execute_input": "2022-10-15T17:45:24.808974Z",
     "iopub.status.busy": "2022-10-15T17:45:24.808568Z",
     "iopub.status.idle": "2022-10-15T17:45:25.828060Z",
     "shell.execute_reply": "2022-10-15T17:45:25.827134Z",
     "shell.execute_reply.started": "2022-10-15T17:45:24.808942Z"
    },
    "tags": []
   },
   "outputs": [
    {
     "data": {
      "application/vnd.jupyter.widget-view+json": {
       "model_id": "6e50d972eab84fa5981fdfa0a2b47978",
       "version_major": 2,
       "version_minor": 0
      },
      "text/plain": [
       "VBox()"
      ]
     },
     "metadata": {},
     "output_type": "display_data"
    },
    {
     "data": {
      "application/vnd.jupyter.widget-view+json": {
       "model_id": "",
       "version_major": 2,
       "version_minor": 0
      },
      "text/plain": [
       "FloatProgress(value=0.0, bar_style='info', description='Progress:', layout=Layout(height='25px', width='50%'),…"
      ]
     },
     "metadata": {},
     "output_type": "display_data"
    }
   ],
   "source": [
    "spark.conf.set(\"spark.sql.execution.arrow.enabled\", \"true\")"
   ]
  },
  {
   "cell_type": "markdown",
   "metadata": {
    "editable": true
   },
   "source": [
    "# Add missing packages"
   ]
  },
  {
   "cell_type": "code",
   "execution_count": 4,
   "metadata": {
    "editable": true,
    "execution": {
     "iopub.execute_input": "2022-10-15T17:45:29.380141Z",
     "iopub.status.busy": "2022-10-15T17:45:29.379806Z",
     "iopub.status.idle": "2022-10-15T17:45:49.241836Z",
     "shell.execute_reply": "2022-10-15T17:45:49.240333Z",
     "shell.execute_reply.started": "2022-10-15T17:45:29.380112Z"
    }
   },
   "outputs": [
    {
     "data": {
      "application/vnd.jupyter.widget-view+json": {
       "model_id": "36ebb84efe934715992f4e139807f6a1",
       "version_major": 2,
       "version_minor": 0
      },
      "text/plain": [
       "VBox()"
      ]
     },
     "metadata": {},
     "output_type": "display_data"
    },
    {
     "data": {
      "application/vnd.jupyter.widget-view+json": {
       "model_id": "",
       "version_major": 2,
       "version_minor": 0
      },
      "text/plain": [
       "FloatProgress(value=0.0, bar_style='info', description='Progress:', layout=Layout(height='25px', width='50%'),…"
      ]
     },
     "metadata": {},
     "output_type": "display_data"
    },
    {
     "name": "stdout",
     "output_type": "stream",
     "text": [
      "Collecting boto3\n",
      "  Downloading boto3-1.23.10-py3-none-any.whl (132 kB)\n",
      "Collecting botocore<1.27.0,>=1.26.10\n",
      "  Downloading botocore-1.26.10-py3-none-any.whl (8.8 MB)\n",
      "Requirement already satisfied: jmespath<2.0.0,>=0.7.1 in /usr/local/lib/python3.6/site-packages (from boto3) (0.9.4)\n",
      "Collecting s3transfer<0.6.0,>=0.5.0\n",
      "  Downloading s3transfer-0.5.2-py3-none-any.whl (79 kB)\n",
      "Collecting urllib3<1.27,>=1.25.4\n",
      "  Downloading urllib3-1.26.12-py2.py3-none-any.whl (140 kB)\n",
      "Collecting python-dateutil<3.0.0,>=2.1\n",
      "  Downloading python_dateutil-2.8.2-py2.py3-none-any.whl (247 kB)\n",
      "Requirement already satisfied: six>=1.5 in /usr/local/lib/python3.6/site-packages (from python-dateutil<3.0.0,>=2.1->botocore<1.27.0,>=1.26.10->boto3) (1.12.0)\n",
      "Installing collected packages: urllib3, python-dateutil, botocore, s3transfer, boto3\n",
      "Successfully installed boto3-1.23.10 botocore-1.26.10 python-dateutil-2.8.2 s3transfer-0.5.2 urllib3-1.26.12"
     ]
    }
   ],
   "source": [
    "sc.install_pypi_package(\"boto3\")"
   ]
  },
  {
   "cell_type": "code",
   "execution_count": null,
   "metadata": {
    "editable": true,
    "tags": []
   },
   "outputs": [],
   "source": [
    "# sc.install_pypi_package(\"pip==22.1.2\")"
   ]
  },
  {
   "cell_type": "code",
   "execution_count": 5,
   "metadata": {
    "editable": true,
    "execution": {
     "iopub.execute_input": "2022-10-15T17:45:53.611300Z",
     "iopub.status.busy": "2022-10-15T17:45:53.610963Z",
     "iopub.status.idle": "2022-10-15T17:45:59.247839Z",
     "shell.execute_reply": "2022-10-15T17:45:59.246869Z",
     "shell.execute_reply.started": "2022-10-15T17:45:53.611271Z"
    },
    "tags": []
   },
   "outputs": [
    {
     "data": {
      "application/vnd.jupyter.widget-view+json": {
       "model_id": "f534c32ee8c04065bc3542de3c720b04",
       "version_major": 2,
       "version_minor": 0
      },
      "text/plain": [
       "VBox()"
      ]
     },
     "metadata": {},
     "output_type": "display_data"
    },
    {
     "data": {
      "application/vnd.jupyter.widget-view+json": {
       "model_id": "",
       "version_major": 2,
       "version_minor": 0
      },
      "text/plain": [
       "FloatProgress(value=0.0, bar_style='info', description='Progress:', layout=Layout(height='25px', width='50%'),…"
      ]
     },
     "metadata": {},
     "output_type": "display_data"
    },
    {
     "name": "stdout",
     "output_type": "stream",
     "text": [
      "Collecting cython==0.29.30\n",
      "  Downloading Cython-0.29.30-cp36-cp36m-manylinux_2_17_x86_64.manylinux2014_x86_64.manylinux_2_24_x86_64.whl (2.0 MB)\n",
      "Installing collected packages: cython\n",
      "Successfully installed cython-0.29.30"
     ]
    }
   ],
   "source": [
    "sc.install_pypi_package(\"cython==0.29.30\")"
   ]
  },
  {
   "cell_type": "code",
   "execution_count": 6,
   "metadata": {
    "editable": true,
    "execution": {
     "iopub.execute_input": "2022-10-15T17:45:59.250143Z",
     "iopub.status.busy": "2022-10-15T17:45:59.249708Z",
     "iopub.status.idle": "2022-10-15T17:46:07.090520Z",
     "shell.execute_reply": "2022-10-15T17:46:07.089433Z",
     "shell.execute_reply.started": "2022-10-15T17:45:59.250103Z"
    },
    "tags": []
   },
   "outputs": [
    {
     "data": {
      "application/vnd.jupyter.widget-view+json": {
       "model_id": "077975cafe3d4da58b67121cf99547b7",
       "version_major": 2,
       "version_minor": 0
      },
      "text/plain": [
       "VBox()"
      ]
     },
     "metadata": {},
     "output_type": "display_data"
    },
    {
     "data": {
      "application/vnd.jupyter.widget-view+json": {
       "model_id": "",
       "version_major": 2,
       "version_minor": 0
      },
      "text/plain": [
       "FloatProgress(value=0.0, bar_style='info', description='Progress:', layout=Layout(height='25px', width='50%'),…"
      ]
     },
     "metadata": {},
     "output_type": "display_data"
    },
    {
     "name": "stdout",
     "output_type": "stream",
     "text": [
      "Collecting pandas==0.19.2\n",
      "  Downloading pandas-0.19.2-cp36-cp36m-manylinux1_x86_64.whl (18.9 MB)\n",
      "Requirement already satisfied: numpy>=1.7.0 in /usr/local/lib64/python3.6/site-packages (from pandas==0.19.2) (1.14.5)\n",
      "Requirement already satisfied: python-dateutil>=2 in /mnt/tmp/1665855876236-0/lib/python3.6/site-packages (from pandas==0.19.2) (2.8.2)\n",
      "Requirement already satisfied: pytz>=2011k in /usr/local/lib/python3.6/site-packages (from pandas==0.19.2) (2019.3)\n",
      "Requirement already satisfied: six>=1.5 in /usr/local/lib/python3.6/site-packages (from python-dateutil>=2->pandas==0.19.2) (1.12.0)\n",
      "Installing collected packages: pandas\n",
      "Successfully installed pandas-0.19.2"
     ]
    }
   ],
   "source": [
    "# sc.install_pypi_package(\"pandas==1.3.5\")\n",
    "sc.install_pypi_package(\"pandas==0.19.2\")"
   ]
  },
  {
   "cell_type": "code",
   "execution_count": 7,
   "metadata": {
    "editable": true,
    "execution": {
     "iopub.execute_input": "2022-10-15T17:46:07.094120Z",
     "iopub.status.busy": "2022-10-15T17:46:07.093235Z",
     "iopub.status.idle": "2022-10-15T17:46:10.769047Z",
     "shell.execute_reply": "2022-10-15T17:46:10.767940Z",
     "shell.execute_reply.started": "2022-10-15T17:46:07.094076Z"
    },
    "tags": []
   },
   "outputs": [
    {
     "data": {
      "application/vnd.jupyter.widget-view+json": {
       "model_id": "5b6469d9c0264640889d8996e8b4837f",
       "version_major": 2,
       "version_minor": 0
      },
      "text/plain": [
       "VBox()"
      ]
     },
     "metadata": {},
     "output_type": "display_data"
    },
    {
     "data": {
      "application/vnd.jupyter.widget-view+json": {
       "model_id": "",
       "version_major": 2,
       "version_minor": 0
      },
      "text/plain": [
       "FloatProgress(value=0.0, bar_style='info', description='Progress:', layout=Layout(height='25px', width='50%'),…"
      ]
     },
     "metadata": {},
     "output_type": "display_data"
    },
    {
     "name": "stdout",
     "output_type": "stream",
     "text": [
      "Collecting PyArrow==0.8.0\n",
      "  Downloading pyarrow-0.8.0-cp36-cp36m-manylinux1_x86_64.whl (6.9 MB)\n",
      "Requirement already satisfied: six>=1.0.0 in /usr/local/lib/python3.6/site-packages (from PyArrow==0.8.0) (1.12.0)\n",
      "Requirement already satisfied: numpy>=1.10 in /usr/local/lib64/python3.6/site-packages (from PyArrow==0.8.0) (1.14.5)\n",
      "Installing collected packages: PyArrow\n",
      "Successfully installed PyArrow-0.8.0"
     ]
    }
   ],
   "source": [
    "sc.install_pypi_package(\"PyArrow==0.8.0\")"
   ]
  },
  {
   "cell_type": "code",
   "execution_count": 8,
   "metadata": {
    "editable": true,
    "execution": {
     "iopub.execute_input": "2022-10-15T17:46:10.771369Z",
     "iopub.status.busy": "2022-10-15T17:46:10.771016Z",
     "iopub.status.idle": "2022-10-15T17:46:13.541860Z",
     "shell.execute_reply": "2022-10-15T17:46:13.538448Z",
     "shell.execute_reply.started": "2022-10-15T17:46:10.771329Z"
    },
    "tags": []
   },
   "outputs": [
    {
     "data": {
      "application/vnd.jupyter.widget-view+json": {
       "model_id": "49ec328d9f6e4b058326fcd64e0bf46d",
       "version_major": 2,
       "version_minor": 0
      },
      "text/plain": [
       "VBox()"
      ]
     },
     "metadata": {},
     "output_type": "display_data"
    },
    {
     "data": {
      "application/vnd.jupyter.widget-view+json": {
       "model_id": "",
       "version_major": 2,
       "version_minor": 0
      },
      "text/plain": [
       "FloatProgress(value=0.0, bar_style='info', description='Progress:', layout=Layout(height='25px', width='50%'),…"
      ]
     },
     "metadata": {},
     "output_type": "display_data"
    },
    {
     "name": "stdout",
     "output_type": "stream",
     "text": [
      "Collecting geopy==2.2.0\n",
      "  Downloading geopy-2.2.0-py3-none-any.whl (118 kB)\n",
      "Collecting geographiclib<2,>=1.49\n",
      "  Downloading geographiclib-1.52-py3-none-any.whl (38 kB)\n",
      "Installing collected packages: geographiclib, geopy\n",
      "Successfully installed geographiclib-1.52 geopy-2.2.0"
     ]
    }
   ],
   "source": [
    "sc.install_pypi_package(\"geopy==2.2.0\")"
   ]
  },
  {
   "cell_type": "code",
   "execution_count": 9,
   "metadata": {
    "editable": true,
    "execution": {
     "iopub.execute_input": "2022-10-15T17:46:13.547160Z",
     "iopub.status.busy": "2022-10-15T17:46:13.545578Z",
     "iopub.status.idle": "2022-10-15T17:46:14.345644Z",
     "shell.execute_reply": "2022-10-15T17:46:14.344607Z",
     "shell.execute_reply.started": "2022-10-15T17:46:13.547114Z"
    },
    "tags": []
   },
   "outputs": [
    {
     "data": {
      "application/vnd.jupyter.widget-view+json": {
       "model_id": "55596d76379648f7ba6bff63704ca437",
       "version_major": 2,
       "version_minor": 0
      },
      "text/plain": [
       "VBox()"
      ]
     },
     "metadata": {},
     "output_type": "display_data"
    },
    {
     "data": {
      "application/vnd.jupyter.widget-view+json": {
       "model_id": "",
       "version_major": 2,
       "version_minor": 0
      },
      "text/plain": [
       "FloatProgress(value=0.0, bar_style='info', description='Progress:', layout=Layout(height='25px', width='50%'),…"
      ]
     },
     "metadata": {},
     "output_type": "display_data"
    }
   ],
   "source": [
    "import pandas as pd\n",
    "pd.set_option('max_colwidth', 200)\n",
    "pd.set_option('display.max_columns', 500)"
   ]
  },
  {
   "cell_type": "markdown",
   "metadata": {
    "editable": true
   },
   "source": [
    "# Read from S3"
   ]
  },
  {
   "cell_type": "markdown",
   "metadata": {
    "editable": true
   },
   "source": [
    "## 1. State data (json)\n",
    "https://worldpopulationreview.com/states/state-abbreviations"
   ]
  },
  {
   "cell_type": "markdown",
   "metadata": {
    "editable": true
   },
   "source": [
    "- read json file to df\n",
    "- drop unneeded column(s)\n",
    "- rename and re-case the remaining headers\n",
    "- create an 'index'"
   ]
  },
  {
   "cell_type": "code",
   "execution_count": 19,
   "metadata": {
    "editable": true,
    "execution": {
     "iopub.execute_input": "2022-10-15T17:49:17.587470Z",
     "iopub.status.busy": "2022-10-15T17:49:17.587136Z",
     "iopub.status.idle": "2022-10-15T17:49:25.295413Z",
     "shell.execute_reply": "2022-10-15T17:49:25.294106Z",
     "shell.execute_reply.started": "2022-10-15T17:49:17.587441Z"
    },
    "tags": []
   },
   "outputs": [
    {
     "data": {
      "application/vnd.jupyter.widget-view+json": {
       "model_id": "9c987de713c443689315e435a1861240",
       "version_major": 2,
       "version_minor": 0
      },
      "text/plain": [
       "VBox()"
      ]
     },
     "metadata": {},
     "output_type": "display_data"
    },
    {
     "data": {
      "application/vnd.jupyter.widget-view+json": {
       "model_id": "",
       "version_major": 2,
       "version_minor": 0
      },
      "text/plain": [
       "FloatProgress(value=0.0, bar_style='info', description='Progress:', layout=Layout(height='25px', width='50%'),…"
      ]
     },
     "metadata": {},
     "output_type": "display_data"
    },
    {
     "name": "stdout",
     "output_type": "stream",
     "text": [
      "root\n",
      " |-- Abbrev: string (nullable = true)\n",
      " |-- Code: string (nullable = true)\n",
      " |-- State: string (nullable = true)"
     ]
    }
   ],
   "source": [
    "# read json file to pyspark df\n",
    "\n",
    "spark.conf.set(\"spark.sql.legacy.json.allowEmptyString.enabled\", True)\n",
    "states_data = spark.read \\\n",
    "    .option(\"multiline\",\"true\")\\\n",
    "    .json('s3://capstonesources/SOURCE/states.json')\n",
    "\n",
    "states_data.printSchema()"
   ]
  },
  {
   "cell_type": "code",
   "execution_count": 20,
   "metadata": {
    "editable": true,
    "execution": {
     "iopub.execute_input": "2022-10-15T17:49:28.708409Z",
     "iopub.status.busy": "2022-10-15T17:49:28.708036Z",
     "iopub.status.idle": "2022-10-15T17:49:28.941497Z",
     "shell.execute_reply": "2022-10-15T17:49:28.940509Z",
     "shell.execute_reply.started": "2022-10-15T17:49:28.708380Z"
    },
    "tags": []
   },
   "outputs": [
    {
     "data": {
      "application/vnd.jupyter.widget-view+json": {
       "model_id": "bcfe990e98e14d12865cfbceef8b3d56",
       "version_major": 2,
       "version_minor": 0
      },
      "text/plain": [
       "VBox()"
      ]
     },
     "metadata": {},
     "output_type": "display_data"
    },
    {
     "data": {
      "application/vnd.jupyter.widget-view+json": {
       "model_id": "",
       "version_major": 2,
       "version_minor": 0
      },
      "text/plain": [
       "FloatProgress(value=0.0, bar_style='info', description='Progress:', layout=Layout(height='25px', width='50%'),…"
      ]
     },
     "metadata": {},
     "output_type": "display_data"
    },
    {
     "name": "stdout",
     "output_type": "stream",
     "text": [
      "root\n",
      " |-- Code: string (nullable = true)\n",
      " |-- State: string (nullable = true)"
     ]
    }
   ],
   "source": [
    "# drop unneeded column\n",
    "states_data = states_data.drop(col('Abbrev'))\n",
    "\n",
    "states_data.printSchema()"
   ]
  },
  {
   "cell_type": "code",
   "execution_count": 21,
   "metadata": {
    "editable": true,
    "execution": {
     "iopub.execute_input": "2022-10-15T17:49:29.872410Z",
     "iopub.status.busy": "2022-10-15T17:49:29.872076Z",
     "iopub.status.idle": "2022-10-15T17:49:30.127326Z",
     "shell.execute_reply": "2022-10-15T17:49:30.083931Z",
     "shell.execute_reply.started": "2022-10-15T17:49:29.872380Z"
    },
    "tags": []
   },
   "outputs": [
    {
     "data": {
      "application/vnd.jupyter.widget-view+json": {
       "model_id": "0d489e79c756405da9bc0f2eaeb0a080",
       "version_major": 2,
       "version_minor": 0
      },
      "text/plain": [
       "VBox()"
      ]
     },
     "metadata": {},
     "output_type": "display_data"
    },
    {
     "data": {
      "application/vnd.jupyter.widget-view+json": {
       "model_id": "",
       "version_major": 2,
       "version_minor": 0
      },
      "text/plain": [
       "FloatProgress(value=0.0, bar_style='info', description='Progress:', layout=Layout(height='25px', width='50%'),…"
      ]
     },
     "metadata": {},
     "output_type": "display_data"
    },
    {
     "name": "stdout",
     "output_type": "stream",
     "text": [
      "root\n",
      " |-- state_code: string (nullable = true)\n",
      " |-- state_name: string (nullable = true)"
     ]
    }
   ],
   "source": [
    "# rename and re-case remaining headers\n",
    "\n",
    "states_data = states_data \\\n",
    "    .withColumnRenamed(\"State\", \"state_name\") \\\n",
    "    .withColumnRenamed(\"Code\", \"state_code\") \\\n",
    "\n",
    "states_data.printSchema()"
   ]
  },
  {
   "cell_type": "code",
   "execution_count": 22,
   "metadata": {
    "editable": true,
    "execution": {
     "iopub.execute_input": "2022-10-15T17:49:30.846536Z",
     "iopub.status.busy": "2022-10-15T17:49:30.846164Z",
     "iopub.status.idle": "2022-10-15T17:49:31.401114Z",
     "shell.execute_reply": "2022-10-15T17:49:31.398950Z",
     "shell.execute_reply.started": "2022-10-15T17:49:30.846465Z"
    },
    "tags": []
   },
   "outputs": [
    {
     "data": {
      "application/vnd.jupyter.widget-view+json": {
       "model_id": "cb8228fbebb74f1cb0796dd3326cd5e6",
       "version_major": 2,
       "version_minor": 0
      },
      "text/plain": [
       "VBox()"
      ]
     },
     "metadata": {},
     "output_type": "display_data"
    },
    {
     "data": {
      "application/vnd.jupyter.widget-view+json": {
       "model_id": "",
       "version_major": 2,
       "version_minor": 0
      },
      "text/plain": [
       "FloatProgress(value=0.0, bar_style='info', description='Progress:', layout=Layout(height='25px', width='50%'),…"
      ]
     },
     "metadata": {},
     "output_type": "display_data"
    },
    {
     "name": "stdout",
     "output_type": "stream",
     "text": [
      "root\n",
      " |-- state_code: string (nullable = true)\n",
      " |-- state_name: string (nullable = true)\n",
      " |-- state_id: integer (nullable = true)"
     ]
    }
   ],
   "source": [
    "# create an 'index'\n",
    "\n",
    "states_data = states_data \\\n",
    "    .withColumn(\"state_id\", \\\n",
    "                F.monotonically_increasing_id())\n",
    "\n",
    "win = W.orderBy(\"state_id\")\n",
    "\n",
    "states_data = states_data \\\n",
    "    .withColumn(\"state_id\", \\\n",
    "                F.row_number().over(win)-1)\n",
    "\n",
    "states_data.printSchema()"
   ]
  },
  {
   "cell_type": "code",
   "execution_count": 23,
   "metadata": {
    "editable": true,
    "execution": {
     "iopub.execute_input": "2022-10-15T17:49:32.136419Z",
     "iopub.status.busy": "2022-10-15T17:49:32.135914Z",
     "iopub.status.idle": "2022-10-15T17:49:35.429380Z",
     "shell.execute_reply": "2022-10-15T17:49:35.375219Z",
     "shell.execute_reply.started": "2022-10-15T17:49:32.136370Z"
    },
    "tags": []
   },
   "outputs": [
    {
     "data": {
      "application/vnd.jupyter.widget-view+json": {
       "model_id": "950686dcfe0d495aa3682210d3a019e9",
       "version_major": 2,
       "version_minor": 0
      },
      "text/plain": [
       "VBox()"
      ]
     },
     "metadata": {},
     "output_type": "display_data"
    },
    {
     "data": {
      "application/vnd.jupyter.widget-view+json": {
       "model_id": "",
       "version_major": 2,
       "version_minor": 0
      },
      "text/plain": [
       "FloatProgress(value=0.0, bar_style='info', description='Progress:', layout=Layout(height='25px', width='50%'),…"
      ]
     },
     "metadata": {},
     "output_type": "display_data"
    },
    {
     "name": "stdout",
     "output_type": "stream",
     "text": [
      "+----------+--------------------+--------+\n",
      "|state_code|          state_name|state_id|\n",
      "+----------+--------------------+--------+\n",
      "|        AL|             Alabama|       0|\n",
      "|        AK|              Alaska|       1|\n",
      "|        AZ|             Arizona|       2|\n",
      "|        AR|            Arkansas|       3|\n",
      "|        CA|          California|       4|\n",
      "|        CO|            Colorado|       5|\n",
      "|        CT|         Connecticut|       6|\n",
      "|        DE|            Delaware|       7|\n",
      "|        DC|District of Columbia|       8|\n",
      "|        FL|             Florida|       9|\n",
      "|        GA|             Georgia|      10|\n",
      "|        HI|              Hawaii|      11|\n",
      "|        ID|               Idaho|      12|\n",
      "|        IL|            Illinois|      13|\n",
      "|        IN|             Indiana|      14|\n",
      "|        IA|                Iowa|      15|\n",
      "|        KS|              Kansas|      16|\n",
      "|        KY|            Kentucky|      17|\n",
      "|        LA|           Louisiana|      18|\n",
      "|        ME|               Maine|      19|\n",
      "+----------+--------------------+--------+\n",
      "only showing top 20 rows"
     ]
    }
   ],
   "source": [
    "states_data.show()"
   ]
  },
  {
   "cell_type": "markdown",
   "metadata": {
    "editable": true
   },
   "source": [
    "Validate"
   ]
  },
  {
   "cell_type": "code",
   "execution_count": 24,
   "metadata": {
    "editable": true,
    "execution": {
     "iopub.execute_input": "2022-10-15T17:49:35.433004Z",
     "iopub.status.busy": "2022-10-15T17:49:35.432419Z",
     "iopub.status.idle": "2022-10-15T17:49:36.367613Z",
     "shell.execute_reply": "2022-10-15T17:49:36.366600Z",
     "shell.execute_reply.started": "2022-10-15T17:49:35.432960Z"
    },
    "tags": []
   },
   "outputs": [
    {
     "data": {
      "application/vnd.jupyter.widget-view+json": {
       "model_id": "621bdaa4bf114fe9b2720b30cdefd779",
       "version_major": 2,
       "version_minor": 0
      },
      "text/plain": [
       "VBox()"
      ]
     },
     "metadata": {},
     "output_type": "display_data"
    },
    {
     "data": {
      "application/vnd.jupyter.widget-view+json": {
       "model_id": "",
       "version_major": 2,
       "version_minor": 0
      },
      "text/plain": [
       "FloatProgress(value=0.0, bar_style='info', description='Progress:', layout=Layout(height='25px', width='50%'),…"
      ]
     },
     "metadata": {},
     "output_type": "display_data"
    },
    {
     "name": "stdout",
     "output_type": "stream",
     "text": [
      "51"
     ]
    }
   ],
   "source": [
    "states_data.count()"
   ]
  },
  {
   "cell_type": "code",
   "execution_count": 25,
   "metadata": {
    "editable": true,
    "execution": {
     "iopub.execute_input": "2022-10-15T17:49:36.372219Z",
     "iopub.status.busy": "2022-10-15T17:49:36.371949Z",
     "iopub.status.idle": "2022-10-15T17:49:37.392353Z",
     "shell.execute_reply": "2022-10-15T17:49:37.391426Z",
     "shell.execute_reply.started": "2022-10-15T17:49:36.372192Z"
    },
    "tags": []
   },
   "outputs": [
    {
     "data": {
      "application/vnd.jupyter.widget-view+json": {
       "model_id": "8aef86c29f414875ba0e0e274b39205c",
       "version_major": 2,
       "version_minor": 0
      },
      "text/plain": [
       "VBox()"
      ]
     },
     "metadata": {},
     "output_type": "display_data"
    },
    {
     "data": {
      "application/vnd.jupyter.widget-view+json": {
       "model_id": "",
       "version_major": 2,
       "version_minor": 0
      },
      "text/plain": [
       "FloatProgress(value=0.0, bar_style='info', description='Progress:', layout=Layout(height='25px', width='50%'),…"
      ]
     },
     "metadata": {},
     "output_type": "display_data"
    },
    {
     "name": "stdout",
     "output_type": "stream",
     "text": [
      "+----------+----------+--------+\n",
      "|state_code|state_name|state_id|\n",
      "+----------+----------+--------+\n",
      "|         0|         0|       0|\n",
      "+----------+----------+--------+"
     ]
    }
   ],
   "source": [
    "# count of nulls for all columns\n",
    "check_emptyNullsNaNs = \\\n",
    "    states_data.select([count(when(isnan(c), c))\\\n",
    "                .alias(c) for c in states_data\\\n",
    "                .columns])\\\n",
    "                .show()"
   ]
  },
  {
   "cell_type": "code",
   "execution_count": 26,
   "metadata": {
    "editable": true,
    "execution": {
     "iopub.execute_input": "2022-10-15T17:49:37.401350Z",
     "iopub.status.busy": "2022-10-15T17:49:37.401043Z",
     "iopub.status.idle": "2022-10-15T17:49:38.627327Z",
     "shell.execute_reply": "2022-10-15T17:49:38.550114Z",
     "shell.execute_reply.started": "2022-10-15T17:49:37.401322Z"
    },
    "tags": []
   },
   "outputs": [
    {
     "data": {
      "application/vnd.jupyter.widget-view+json": {
       "model_id": "98222cfd8532413e87925dc9633c42a7",
       "version_major": 2,
       "version_minor": 0
      },
      "text/plain": [
       "VBox()"
      ]
     },
     "metadata": {},
     "output_type": "display_data"
    },
    {
     "data": {
      "application/vnd.jupyter.widget-view+json": {
       "model_id": "",
       "version_major": 2,
       "version_minor": 0
      },
      "text/plain": [
       "FloatProgress(value=0.0, bar_style='info', description='Progress:', layout=Layout(height='25px', width='50%'),…"
      ]
     },
     "metadata": {},
     "output_type": "display_data"
    },
    {
     "name": "stdout",
     "output_type": "stream",
     "text": [
      "   state_code  state_name  state_id\n",
      "44         UT        Utah        44\n",
      "31         NM  New Mexico        31\n",
      "43         TX       Texas        43\n",
      "0          AL     Alabama         0\n",
      "45         VT     Vermont        45"
     ]
    }
   ],
   "source": [
    "# states_data.show(5)\n",
    "states_data.toPandas().sample(5)"
   ]
  },
  {
   "cell_type": "markdown",
   "metadata": {
    "editable": true
   },
   "source": [
    "## 2. Baby Names by State data (TXT)\n",
    "https://www.ssa.gov/oact/babynames/limits.html"
   ]
  },
  {
   "cell_type": "markdown",
   "metadata": {
    "editable": true
   },
   "source": [
    "read multiple text files into a single df"
   ]
  },
  {
   "cell_type": "code",
   "execution_count": 27,
   "metadata": {
    "editable": true,
    "execution": {
     "iopub.execute_input": "2022-10-15T17:49:38.630649Z",
     "iopub.status.busy": "2022-10-15T17:49:38.629578Z",
     "iopub.status.idle": "2022-10-15T17:49:40.927449Z",
     "shell.execute_reply": "2022-10-15T17:49:40.851155Z",
     "shell.execute_reply.started": "2022-10-15T17:49:38.630618Z"
    },
    "tags": []
   },
   "outputs": [
    {
     "data": {
      "application/vnd.jupyter.widget-view+json": {
       "model_id": "c40e97aac1a5477481555b0d84efb5e5",
       "version_major": 2,
       "version_minor": 0
      },
      "text/plain": [
       "VBox()"
      ]
     },
     "metadata": {},
     "output_type": "display_data"
    },
    {
     "data": {
      "application/vnd.jupyter.widget-view+json": {
       "model_id": "",
       "version_major": 2,
       "version_minor": 0
      },
      "text/plain": [
       "FloatProgress(value=0.0, bar_style='info', description='Progress:', layout=Layout(height='25px', width='50%'),…"
      ]
     },
     "metadata": {},
     "output_type": "display_data"
    }
   ],
   "source": [
    "namesbystate = spark.read \\\n",
    "    .option(\"header\",False) \\\n",
    "    .text('s3://capstonesources/SOURCE/*.TXT')"
   ]
  },
  {
   "cell_type": "markdown",
   "metadata": {
    "editable": true
   },
   "source": [
    "create a new schema\n",
    "- split data to make columns\n",
    "- drop unneeded columns\n",
    "- trim leading and/or trailing spaces\n",
    "- sort in ascending order\n",
    "- create a unique record id\n",
    "- reorder columns"
   ]
  },
  {
   "cell_type": "code",
   "execution_count": 28,
   "metadata": {
    "editable": true,
    "execution": {
     "iopub.execute_input": "2022-10-15T17:49:40.930727Z",
     "iopub.status.busy": "2022-10-15T17:49:40.929010Z",
     "iopub.status.idle": "2022-10-15T17:49:42.233624Z",
     "shell.execute_reply": "2022-10-15T17:49:42.231764Z",
     "shell.execute_reply.started": "2022-10-15T17:49:40.930683Z"
    },
    "tags": []
   },
   "outputs": [
    {
     "data": {
      "application/vnd.jupyter.widget-view+json": {
       "model_id": "dd84e691c17540578c44a909d97eacc0",
       "version_major": 2,
       "version_minor": 0
      },
      "text/plain": [
       "VBox()"
      ]
     },
     "metadata": {},
     "output_type": "display_data"
    },
    {
     "data": {
      "application/vnd.jupyter.widget-view+json": {
       "model_id": "",
       "version_major": 2,
       "version_minor": 0
      },
      "text/plain": [
       "FloatProgress(value=0.0, bar_style='info', description='Progress:', layout=Layout(height='25px', width='50%'),…"
      ]
     },
     "metadata": {},
     "output_type": "display_data"
    },
    {
     "name": "stdout",
     "output_type": "stream",
     "text": [
      "root\n",
      " |-- birth_year: string (nullable = true)\n",
      " |-- popularity: string (nullable = true)\n",
      " |-- birth_state_code: string (nullable = true)\n",
      " |-- gender: string (nullable = true)\n",
      " |-- birth_name: string (nullable = true)"
     ]
    }
   ],
   "source": [
    "# use split to make headers from existing columns\n",
    "\n",
    "split_col = \\\n",
    "    F.split(namesbystate['value'], ',')\n",
    "\n",
    "namesbystate = namesbystate \\\n",
    "    .withColumn('birth_year', \\\n",
    "                split_col.getItem(2) \\\n",
    "               )\n",
    "\n",
    "namesbystate = namesbystate \\\n",
    "    .withColumn('popularity', \\\n",
    "                split_col.getItem(4) \\\n",
    "               )\n",
    "\n",
    "namesbystate = namesbystate \\\n",
    " .withColumn('birth_state_code', \\\n",
    "             split_col.getItem(0) \\\n",
    "            )\n",
    "\n",
    "namesbystate = namesbystate \\\n",
    "    .withColumn('gender', \\\n",
    "                split_col.getItem(1) \\\n",
    "               )\n",
    "\n",
    "namesbystate = namesbystate \\\n",
    "    .withColumn('birth_name', \\\n",
    "                split_col.getItem(3) \\\n",
    "               ) \\\n",
    "\n",
    "#drop unneeded column\n",
    "namesbystate = namesbystate.drop('value')\n",
    "\n",
    "namesbystate.printSchema()                                      "
   ]
  },
  {
   "cell_type": "code",
   "execution_count": 29,
   "metadata": {
    "editable": true,
    "execution": {
     "iopub.execute_input": "2022-10-15T17:49:42.335737Z",
     "iopub.status.busy": "2022-10-15T17:49:42.335340Z",
     "iopub.status.idle": "2022-10-15T17:49:43.439373Z",
     "shell.execute_reply": "2022-10-15T17:49:43.437633Z",
     "shell.execute_reply.started": "2022-10-15T17:49:42.335696Z"
    },
    "tags": []
   },
   "outputs": [
    {
     "data": {
      "application/vnd.jupyter.widget-view+json": {
       "model_id": "1b224e64c18b42908d0cf60bc1dbfcfd",
       "version_major": 2,
       "version_minor": 0
      },
      "text/plain": [
       "VBox()"
      ]
     },
     "metadata": {},
     "output_type": "display_data"
    },
    {
     "data": {
      "application/vnd.jupyter.widget-view+json": {
       "model_id": "",
       "version_major": 2,
       "version_minor": 0
      },
      "text/plain": [
       "FloatProgress(value=0.0, bar_style='info', description='Progress:', layout=Layout(height='25px', width='50%'),…"
      ]
     },
     "metadata": {},
     "output_type": "display_data"
    }
   ],
   "source": [
    "# trim leading and/or trailing spaces\n",
    "\n",
    "namesbystate = namesbystate\\\n",
    "    .withColumn('birth_state_code', \\\n",
    "                trim(namesbystate['birth_state_code']))\n",
    "\n",
    "namesbystate = namesbystate\\\n",
    "    .withColumn('gender', \\\n",
    "                trim(namesbystate['gender']))\n",
    "\n",
    "namesbystate = namesbystate\\\n",
    "    .withColumn('birth_year', \\\n",
    "                trim(namesbystate['birth_year']))\n",
    "\n",
    "namesbystate = namesbystate\\\n",
    " .withColumn('birth_name', \\\n",
    "            trim(namesbystate['birth_name'])) \\\n",
    "\n",
    "namesbystate = namesbystate\\\n",
    " .withColumn('popularity', \\\n",
    "            trim(namesbystate['popularity']))"
   ]
  },
  {
   "cell_type": "code",
   "execution_count": 30,
   "metadata": {
    "editable": true,
    "execution": {
     "iopub.execute_input": "2022-10-15T17:49:43.445434Z",
     "iopub.status.busy": "2022-10-15T17:49:43.441342Z",
     "iopub.status.idle": "2022-10-15T17:49:44.530813Z",
     "shell.execute_reply": "2022-10-15T17:49:44.529544Z",
     "shell.execute_reply.started": "2022-10-15T17:49:43.445387Z"
    },
    "tags": []
   },
   "outputs": [
    {
     "data": {
      "application/vnd.jupyter.widget-view+json": {
       "model_id": "2b42168402df4a26924750fc2ad4d4eb",
       "version_major": 2,
       "version_minor": 0
      },
      "text/plain": [
       "VBox()"
      ]
     },
     "metadata": {},
     "output_type": "display_data"
    },
    {
     "data": {
      "application/vnd.jupyter.widget-view+json": {
       "model_id": "",
       "version_major": 2,
       "version_minor": 0
      },
      "text/plain": [
       "FloatProgress(value=0.0, bar_style='info', description='Progress:', layout=Layout(height='25px', width='50%'),…"
      ]
     },
     "metadata": {},
     "output_type": "display_data"
    }
   ],
   "source": [
    "# make birth_name lowercase\n",
    "\n",
    "namesbystate = namesbystate\\\n",
    " .withColumn('birth_name', \\\n",
    "            lower(col('birth_name')))"
   ]
  },
  {
   "cell_type": "code",
   "execution_count": 31,
   "metadata": {
    "editable": true,
    "execution": {
     "iopub.execute_input": "2022-10-15T17:49:44.532257Z",
     "iopub.status.busy": "2022-10-15T17:49:44.531929Z",
     "iopub.status.idle": "2022-10-15T17:49:45.040024Z",
     "shell.execute_reply": "2022-10-15T17:49:45.038879Z",
     "shell.execute_reply.started": "2022-10-15T17:49:44.532221Z"
    },
    "tags": []
   },
   "outputs": [
    {
     "data": {
      "application/vnd.jupyter.widget-view+json": {
       "model_id": "5e722a9a0bba41daa40ecfa8953ea38a",
       "version_major": 2,
       "version_minor": 0
      },
      "text/plain": [
       "VBox()"
      ]
     },
     "metadata": {},
     "output_type": "display_data"
    },
    {
     "data": {
      "application/vnd.jupyter.widget-view+json": {
       "model_id": "",
       "version_major": 2,
       "version_minor": 0
      },
      "text/plain": [
       "FloatProgress(value=0.0, bar_style='info', description='Progress:', layout=Layout(height='25px', width='50%'),…"
      ]
     },
     "metadata": {},
     "output_type": "display_data"
    }
   ],
   "source": [
    "# sort in ascending order\n",
    "\n",
    "namesbystate = \\\n",
    "    namesbystate.sort( \\\n",
    "    namesbystate['birth_year'].asc(), \\\n",
    "    namesbystate['birth_name'].asc(),\n",
    "    namesbystate['popularity'].asc(), \\\n",
    "    namesbystate['birth_state_code'].asc(), \\\n",
    "#     namesbystate['gender'].asc() \\\n",
    "                     )"
   ]
  },
  {
   "cell_type": "code",
   "execution_count": 32,
   "metadata": {
    "editable": true,
    "execution": {
     "iopub.execute_input": "2022-10-15T17:49:45.042060Z",
     "iopub.status.busy": "2022-10-15T17:49:45.041385Z",
     "iopub.status.idle": "2022-10-15T17:49:45.436824Z",
     "shell.execute_reply": "2022-10-15T17:49:45.360516Z",
     "shell.execute_reply.started": "2022-10-15T17:49:45.041934Z"
    },
    "tags": []
   },
   "outputs": [
    {
     "data": {
      "application/vnd.jupyter.widget-view+json": {
       "model_id": "cc18a79a9523425ea59376ca4d6ca484",
       "version_major": 2,
       "version_minor": 0
      },
      "text/plain": [
       "VBox()"
      ]
     },
     "metadata": {},
     "output_type": "display_data"
    },
    {
     "data": {
      "application/vnd.jupyter.widget-view+json": {
       "model_id": "",
       "version_major": 2,
       "version_minor": 0
      },
      "text/plain": [
       "FloatProgress(value=0.0, bar_style='info', description='Progress:', layout=Layout(height='25px', width='50%'),…"
      ]
     },
     "metadata": {},
     "output_type": "display_data"
    }
   ],
   "source": [
    "# create an 'index'\n",
    "\n",
    "namesbystate = namesbystate \\\n",
    "    .withColumn(\"babyName_id\", \\\n",
    "                F.monotonically_increasing_id())\n",
    "\n",
    "win = W.orderBy(\"babyName_id\")\n",
    "\n",
    "namesbystate = namesbystate \\\n",
    "    .withColumn(\"babyName_id\", \\\n",
    "                F.row_number().over(win)-1)"
   ]
  },
  {
   "cell_type": "code",
   "execution_count": 33,
   "metadata": {
    "editable": true,
    "execution": {
     "iopub.execute_input": "2022-10-15T17:49:45.447435Z",
     "iopub.status.busy": "2022-10-15T17:49:45.447010Z",
     "iopub.status.idle": "2022-10-15T17:49:45.740961Z",
     "shell.execute_reply": "2022-10-15T17:49:45.740142Z",
     "shell.execute_reply.started": "2022-10-15T17:49:45.447394Z"
    },
    "tags": []
   },
   "outputs": [
    {
     "data": {
      "application/vnd.jupyter.widget-view+json": {
       "model_id": "4bc8383e7eeb43b4a2997d7f147a447d",
       "version_major": 2,
       "version_minor": 0
      },
      "text/plain": [
       "VBox()"
      ]
     },
     "metadata": {},
     "output_type": "display_data"
    },
    {
     "data": {
      "application/vnd.jupyter.widget-view+json": {
       "model_id": "",
       "version_major": 2,
       "version_minor": 0
      },
      "text/plain": [
       "FloatProgress(value=0.0, bar_style='info', description='Progress:', layout=Layout(height='25px', width='50%'),…"
      ]
     },
     "metadata": {},
     "output_type": "display_data"
    }
   ],
   "source": [
    "# reorder df\n",
    "\n",
    "namesbystate = namesbystate\\\n",
    "        .select('babyName_id', \\\n",
    "                'birth_year', \\\n",
    "                'popularity', \\\n",
    "                'birth_state_code', \\\n",
    "                'gender', \\\n",
    "                'birth_name')"
   ]
  },
  {
   "cell_type": "code",
   "execution_count": 34,
   "metadata": {
    "editable": true,
    "execution": {
     "iopub.execute_input": "2022-10-15T17:49:45.744308Z",
     "iopub.status.busy": "2022-10-15T17:49:45.743951Z",
     "iopub.status.idle": "2022-10-15T17:50:44.312198Z",
     "shell.execute_reply": "2022-10-15T17:50:44.310912Z",
     "shell.execute_reply.started": "2022-10-15T17:49:45.744267Z"
    },
    "tags": []
   },
   "outputs": [
    {
     "data": {
      "application/vnd.jupyter.widget-view+json": {
       "model_id": "9d7b13965a6c4c158e34888e203e697f",
       "version_major": 2,
       "version_minor": 0
      },
      "text/plain": [
       "VBox()"
      ]
     },
     "metadata": {},
     "output_type": "display_data"
    },
    {
     "data": {
      "application/vnd.jupyter.widget-view+json": {
       "model_id": "",
       "version_major": 2,
       "version_minor": 0
      },
      "text/plain": [
       "FloatProgress(value=0.0, bar_style='info', description='Progress:', layout=Layout(height='25px', width='50%'),…"
      ]
     },
     "metadata": {},
     "output_type": "display_data"
    },
    {
     "name": "stdout",
     "output_type": "stream",
     "text": [
      "+-----------+----------+----------+----------------+------+----------+\n",
      "|babyName_id|birth_year|popularity|birth_state_code|gender|birth_name|\n",
      "+-----------+----------+----------+----------------+------+----------+\n",
      "|          0|      1910|        13|              GA|     M|     aaron|\n",
      "|          1|      1910|        15|              NY|     M|     aaron|\n",
      "|          2|      1910|        15|              PA|     M|     aaron|\n",
      "|          3|      1910|         5|              TN|     M|     aaron|\n",
      "|          4|      1910|         5|              VA|     M|     aaron|\n",
      "+-----------+----------+----------+----------------+------+----------+\n",
      "only showing top 5 rows"
     ]
    }
   ],
   "source": [
    "namesbystate.show(5)"
   ]
  },
  {
   "cell_type": "markdown",
   "metadata": {
    "editable": true
   },
   "source": [
    "Validate"
   ]
  },
  {
   "cell_type": "code",
   "execution_count": 35,
   "metadata": {
    "editable": true,
    "execution": {
     "iopub.execute_input": "2022-10-15T17:50:44.315950Z",
     "iopub.status.busy": "2022-10-15T17:50:44.315013Z",
     "iopub.status.idle": "2022-10-15T17:51:18.440314Z",
     "shell.execute_reply": "2022-10-15T17:51:18.436793Z",
     "shell.execute_reply.started": "2022-10-15T17:50:44.315907Z"
    },
    "tags": []
   },
   "outputs": [
    {
     "data": {
      "application/vnd.jupyter.widget-view+json": {
       "model_id": "cee1deef17ee484d842acaec8facdbbd",
       "version_major": 2,
       "version_minor": 0
      },
      "text/plain": [
       "VBox()"
      ]
     },
     "metadata": {},
     "output_type": "display_data"
    },
    {
     "data": {
      "application/vnd.jupyter.widget-view+json": {
       "model_id": "",
       "version_major": 2,
       "version_minor": 0
      },
      "text/plain": [
       "FloatProgress(value=0.0, bar_style='info', description='Progress:', layout=Layout(height='25px', width='50%'),…"
      ]
     },
     "metadata": {},
     "output_type": "display_data"
    },
    {
     "name": "stdout",
     "output_type": "stream",
     "text": [
      "6311504"
     ]
    }
   ],
   "source": [
    "namesbystate.count()"
   ]
  },
  {
   "cell_type": "code",
   "execution_count": 36,
   "metadata": {
    "editable": true,
    "execution": {
     "iopub.execute_input": "2022-10-15T17:51:18.446204Z",
     "iopub.status.busy": "2022-10-15T17:51:18.445440Z",
     "iopub.status.idle": "2022-10-15T17:52:41.399697Z",
     "shell.execute_reply": "2022-10-15T17:52:41.397480Z",
     "shell.execute_reply.started": "2022-10-15T17:51:18.446157Z"
    },
    "tags": []
   },
   "outputs": [
    {
     "data": {
      "application/vnd.jupyter.widget-view+json": {
       "model_id": "bc6606a11b894934af46fb8200a4031b",
       "version_major": 2,
       "version_minor": 0
      },
      "text/plain": [
       "VBox()"
      ]
     },
     "metadata": {},
     "output_type": "display_data"
    },
    {
     "data": {
      "application/vnd.jupyter.widget-view+json": {
       "model_id": "",
       "version_major": 2,
       "version_minor": 0
      },
      "text/plain": [
       "FloatProgress(value=0.0, bar_style='info', description='Progress:', layout=Layout(height='25px', width='50%'),…"
      ]
     },
     "metadata": {},
     "output_type": "display_data"
    },
    {
     "name": "stdout",
     "output_type": "stream",
     "text": [
      "+-----------+----------+----------+----------------+------+----------+\n",
      "|babyName_id|birth_year|popularity|birth_state_code|gender|birth_name|\n",
      "+-----------+----------+----------+----------------+------+----------+\n",
      "|          0|         0|         0|               0|     0|         0|\n",
      "+-----------+----------+----------+----------------+------+----------+"
     ]
    }
   ],
   "source": [
    "# count of nulls for all columns\n",
    "\n",
    "check_emptyNullsNaNs = \\\n",
    "    namesbystate.select( \\\n",
    "            [count(when(isnan(c), c)) \\\n",
    "            .alias(c) for c in namesbystate\\\n",
    "            .columns] \\\n",
    "             ).show()"
   ]
  },
  {
   "cell_type": "code",
   "execution_count": 37,
   "metadata": {
    "editable": true,
    "execution": {
     "iopub.execute_input": "2022-10-15T17:52:41.404942Z",
     "iopub.status.busy": "2022-10-15T17:52:41.404175Z",
     "iopub.status.idle": "2022-10-15T17:53:32.235341Z",
     "shell.execute_reply": "2022-10-15T17:53:32.234253Z",
     "shell.execute_reply.started": "2022-10-15T17:52:41.404897Z"
    },
    "tags": []
   },
   "outputs": [
    {
     "data": {
      "application/vnd.jupyter.widget-view+json": {
       "model_id": "4968d37a892742f48a5040a25c283e45",
       "version_major": 2,
       "version_minor": 0
      },
      "text/plain": [
       "VBox()"
      ]
     },
     "metadata": {},
     "output_type": "display_data"
    },
    {
     "data": {
      "application/vnd.jupyter.widget-view+json": {
       "model_id": "",
       "version_major": 2,
       "version_minor": 0
      },
      "text/plain": [
       "FloatProgress(value=0.0, bar_style='info', description='Progress:', layout=Layout(height='25px', width='50%'),…"
      ]
     },
     "metadata": {},
     "output_type": "display_data"
    },
    {
     "name": "stdout",
     "output_type": "stream",
     "text": [
      "         babyName_id birth_year popularity birth_state_code gender  \\\n",
      "2740021      2740021       1975         60               IN      F   \n",
      "576405        576405       1927          7               IN      M   \n",
      "325528        325528       1920         18               KY      M   \n",
      "258614        258614       1919         13               IL      M   \n",
      "2677855      2677855       1974         11               AR      M   \n",
      "\n",
      "          birth_name  \n",
      "2740021        traci  \n",
      "576405         lindy  \n",
      "325528       wendell  \n",
      "258614   christopher  \n",
      "2677855         ross"
     ]
    }
   ],
   "source": [
    "# namesbystate.show(5)\n",
    "namesbystate.toPandas().sample(5)"
   ]
  },
  {
   "cell_type": "markdown",
   "metadata": {
    "editable": true,
    "tags": []
   },
   "source": [
    "# 3. Atlantic Hurricane Database 2 (HURDAT2) (txt)\n",
    "HURDAT2 description: https://www.aoml.noaa.gov/hrd/hurdat/Data_Storm.html \\\n",
    "HURDAT2 legend: https://www.aoml.noaa.gov/hrd/hurdat/hurdat2-format.pdf \\\n",
    "HURDAT2 dataset: https://www.nhc.noaa.gov/data/hurdat/hurdat2-1851-2021-041922.txt"
   ]
  },
  {
   "cell_type": "markdown",
   "metadata": {
    "editable": true
   },
   "source": [
    "Applying multiple operations to the raw Atlantic Hurricane \n",
    "Database 2 (HURDAT2 storm) dataset proved quite challenging in Pyspark. \n",
    "\n",
    "HURDAT2 storm data is a multiline text file with ~55K records and requires numerous \n",
    "complex transformations to be useful for basic analysis. \n",
    "\n",
    "By Spark standards, this is a small dataset.\n",
    "\n",
    "I discovered using Pyspark to transform \n",
    "the HURDAT2 storm data seems to take disproportionately longer to \n",
    "complete relative to our other datasets, because of the \n",
    "excess overhead given the size of the cluster \n",
    "(cores and executors).\n",
    "\n",
    "I abandon trying to transform the\n",
    "raw HURDAT2 storm data in Pyspark.\n",
    "\n",
    "Instead, for the HURDAT2 storm dataset, the more challenging \n",
    "transformations were performed using Pandas and\n",
    "written into a csv file (see: capstoneSTORMS_CSV.ipynb). \n",
    "\n",
    "The csv file of semi-transformed HURDAT2 storm data ('storms.csv') \n",
    "was imported into my Spark session along with my other data sources. \n",
    "\n",
    "A few final data transformations are done using Pyspark - \n",
    "to demonstrate some aptitude with Pyspark - before building \n",
    "the schema tables and writing to S3. "
   ]
  },
  {
   "cell_type": "code",
   "execution_count": 38,
   "metadata": {
    "editable": true,
    "execution": {
     "iopub.execute_input": "2022-10-15T17:53:32.242806Z",
     "iopub.status.busy": "2022-10-15T17:53:32.242159Z",
     "iopub.status.idle": "2022-10-15T17:53:34.040457Z",
     "shell.execute_reply": "2022-10-15T17:53:34.039332Z",
     "shell.execute_reply.started": "2022-10-15T17:53:32.242761Z"
    },
    "tags": []
   },
   "outputs": [
    {
     "data": {
      "application/vnd.jupyter.widget-view+json": {
       "model_id": "cb9c21e9368c4887b364e6f80be072f2",
       "version_major": 2,
       "version_minor": 0
      },
      "text/plain": [
       "VBox()"
      ]
     },
     "metadata": {},
     "output_type": "display_data"
    },
    {
     "data": {
      "application/vnd.jupyter.widget-view+json": {
       "model_id": "",
       "version_major": 2,
       "version_minor": 0
      },
      "text/plain": [
       "FloatProgress(value=0.0, bar_style='info', description='Progress:', layout=Layout(height='25px', width='50%'),…"
      ]
     },
     "metadata": {},
     "output_type": "display_data"
    },
    {
     "name": "stdout",
     "output_type": "stream",
     "text": [
      "root\n",
      " |-- storm_id: string (nullable = true)\n",
      " |-- storm_name: string (nullable = true)\n",
      " |-- associated_records: string (nullable = true)\n",
      " |-- storm_date: string (nullable = true)\n",
      " |-- storm_time: string (nullable = true)\n",
      " |-- rec_identifier: string (nullable = true)\n",
      " |-- storm_type: string (nullable = true)\n",
      " |-- latitude: string (nullable = true)\n",
      " |-- longitude: string (nullable = true)\n",
      " |-- max_sustained_wind(kt): string (nullable = true)\n",
      " |-- minimum_pressure(mbar): string (nullable = true)\n",
      " |-- category: string (nullable = true)\n",
      " |-- coordinates: string (nullable = true)\n",
      " |-- storm_state_code: string (nullable = true)\n",
      "\n",
      "+--------+----------+------------------+----------+----------+--------------+--------------+--------+---------+----------------------+----------------------+--------------+-------------+----------------+\n",
      "|storm_id|storm_name|associated_records|storm_date|storm_time|rec_identifier|    storm_type|latitude|longitude|max_sustained_wind(kt)|minimum_pressure(mbar)|      category|  coordinates|storm_state_code|\n",
      "+--------+----------+------------------+----------+----------+--------------+--------------+--------+---------+----------------------+----------------------+--------------+-------------+----------------+\n",
      "|AL011950|      able|                51|1950-08-12|  00:00:00|          null|tropical storm|    17.1|    -55.5|                  35.0|                -999.0|tropical storm|(17.1, -55.5)|            null|\n",
      "|AL011950|      able|                51|1950-08-12|  06:00:00|          null|tropical storm|    17.7|    -56.3|                  40.0|                -999.0|tropical storm|(17.7, -56.3)|            null|\n",
      "|AL011950|      able|                51|1950-08-12|  12:00:00|          null|tropical storm|    18.2|    -57.4|                  45.0|                -999.0|tropical storm|(18.2, -57.4)|            null|\n",
      "|AL011950|      able|                51|1950-08-12|  18:00:00|          null|tropical storm|    19.0|    -58.6|                  50.0|                -999.0|tropical storm|(19.0, -58.6)|            null|\n",
      "|AL011950|      able|                51|1950-08-13|  00:00:00|          null|tropical storm|    20.0|    -60.0|                  50.0|                -999.0|tropical storm|(20.0, -60.0)|            null|\n",
      "|AL011950|      able|                51|1950-08-13|  06:00:00|          null|tropical storm|    20.7|    -61.1|                  50.0|                -999.0|tropical storm|(20.7, -61.1)|            null|\n",
      "|AL011950|      able|                51|1950-08-13|  12:00:00|          null|tropical storm|    21.3|    -62.2|                  55.0|                -999.0|tropical storm|(21.3, -62.2)|            null|\n",
      "|AL011950|      able|                51|1950-08-13|  18:00:00|          null|tropical storm|    22.0|    -63.2|                  55.0|                 997.0|tropical storm|(22.0, -63.2)|            null|\n",
      "|AL011950|      able|                51|1950-08-14|  00:00:00|          null|tropical storm|    22.7|    -63.8|                  60.0|                 995.0|tropical storm|(22.7, -63.8)|            null|\n",
      "|AL011950|      able|                51|1950-08-14|  06:00:00|          null|tropical storm|    23.1|    -64.6|                  60.0|                -999.0|tropical storm|(23.1, -64.6)|            null|\n",
      "|AL011950|      able|                51|1950-08-14|  12:00:00|          null|tropical storm|    23.4|    -65.4|                  60.0|                 995.0|tropical storm|(23.4, -65.4)|            null|\n",
      "|AL011950|      able|                51|1950-08-14|  18:00:00|          null|     hurricane|    23.9|    -66.0|                  65.0|                 989.0|             1|(23.9, -66.0)|            null|\n",
      "|AL011950|      able|                51|1950-08-15|  00:00:00|          null|     hurricane|    24.4|    -66.2|                  65.0|                -999.0|             1|(24.4, -66.2)|            null|\n",
      "+--------+----------+------------------+----------+----------+--------------+--------------+--------+---------+----------------------+----------------------+--------------+-------------+----------------+\n",
      "only showing top 13 rows"
     ]
    }
   ],
   "source": [
    "# read storms data from csv\n",
    "\n",
    "fromStormsCSV = spark.read \\\n",
    "    .option(\"header\", True) \\\n",
    "    .option(\"ignoreTrailingWhiteSpace\",True) \\\n",
    "    .option(\"ignoreLeadingWhiteSpace\", True) \\\n",
    "    .csv('s3://capstonesources/SOURCE/*.csv')\n",
    "\n",
    "fromStormsCSV.printSchema()\n",
    "fromStormsCSV.show(13)"
   ]
  },
  {
   "cell_type": "code",
   "execution_count": 39,
   "metadata": {
    "editable": true,
    "execution": {
     "iopub.execute_input": "2022-10-15T17:53:34.045036Z",
     "iopub.status.busy": "2022-10-15T17:53:34.044420Z",
     "iopub.status.idle": "2022-10-15T17:53:35.874388Z",
     "shell.execute_reply": "2022-10-15T17:53:35.871217Z",
     "shell.execute_reply.started": "2022-10-15T17:53:34.044994Z"
    },
    "tags": []
   },
   "outputs": [
    {
     "data": {
      "application/vnd.jupyter.widget-view+json": {
       "model_id": "1e19f635ed52467f85b0ffd0500ecb33",
       "version_major": 2,
       "version_minor": 0
      },
      "text/plain": [
       "VBox()"
      ]
     },
     "metadata": {},
     "output_type": "display_data"
    },
    {
     "data": {
      "application/vnd.jupyter.widget-view+json": {
       "model_id": "",
       "version_major": 2,
       "version_minor": 0
      },
      "text/plain": [
       "FloatProgress(value=0.0, bar_style='info', description='Progress:', layout=Layout(height='25px', width='50%'),…"
      ]
     },
     "metadata": {},
     "output_type": "display_data"
    },
    {
     "name": "stdout",
     "output_type": "stream",
     "text": [
      "+--------+----------+------------------+----------+----------+--------------+----------+--------+---------+----------------------+----------------------+--------+-----------+----------------+\n",
      "|storm_id|storm_name|associated_records|storm_date|storm_time|rec_identifier|storm_type|latitude|longitude|max_sustained_wind(kt)|minimum_pressure(mbar)|category|coordinates|storm_state_code|\n",
      "+--------+----------+------------------+----------+----------+--------------+----------+--------+---------+----------------------+----------------------+--------+-----------+----------------+\n",
      "|       0|         0|                 0|         0|         0|             0|         0|       0|        0|                     0|                     0|       0|          0|               0|\n",
      "+--------+----------+------------------+----------+----------+--------------+----------+--------+---------+----------------------+----------------------+--------+-----------+----------------+"
     ]
    }
   ],
   "source": [
    "# check for NaNs\n",
    "\n",
    "check_NaNs = \\\n",
    "    fromStormsCSV.select( \\\n",
    "            [count(when(isnan(c), c)) \\\n",
    "            .alias(c) for c in fromStormsCSV\\\n",
    "            .columns] \\\n",
    "             ).show()"
   ]
  },
  {
   "cell_type": "code",
   "execution_count": 40,
   "metadata": {
    "editable": true,
    "execution": {
     "iopub.execute_input": "2022-10-15T17:53:35.927084Z",
     "iopub.status.busy": "2022-10-15T17:53:35.880982Z",
     "iopub.status.idle": "2022-10-15T17:53:37.147079Z",
     "shell.execute_reply": "2022-10-15T17:53:37.146087Z",
     "shell.execute_reply.started": "2022-10-15T17:53:35.927022Z"
    },
    "tags": []
   },
   "outputs": [
    {
     "data": {
      "application/vnd.jupyter.widget-view+json": {
       "model_id": "8630232cb833458bb6f41d630d8301c7",
       "version_major": 2,
       "version_minor": 0
      },
      "text/plain": [
       "VBox()"
      ]
     },
     "metadata": {},
     "output_type": "display_data"
    },
    {
     "data": {
      "application/vnd.jupyter.widget-view+json": {
       "model_id": "",
       "version_major": 2,
       "version_minor": 0
      },
      "text/plain": [
       "FloatProgress(value=0.0, bar_style='info', description='Progress:', layout=Layout(height='25px', width='50%'),…"
      ]
     },
     "metadata": {},
     "output_type": "display_data"
    },
    {
     "name": "stdout",
     "output_type": "stream",
     "text": [
      "+--------+----------+------------------+----------+----------+--------------+----------+--------+---------+----------------------+----------------------+--------+-----------+----------------+\n",
      "|storm_id|storm_name|associated_records|storm_date|storm_time|rec_identifier|storm_type|latitude|longitude|max_sustained_wind(kt)|minimum_pressure(mbar)|category|coordinates|storm_state_code|\n",
      "+--------+----------+------------------+----------+----------+--------------+----------+--------+---------+----------------------+----------------------+--------+-----------+----------------+\n",
      "|       0|         0|                 0|         0|         0|         25900|         0|       0|        0|                     0|                     0|       0|          0|           26363|\n",
      "+--------+----------+------------------+----------+----------+--------------+----------+--------+---------+----------------------+----------------------+--------+-----------+----------------+"
     ]
    }
   ],
   "source": [
    "# check for nulls\n",
    "\n",
    "check_Nulls = \\\n",
    "    fromStormsCSV.select( \\\n",
    "            [count(when(isnull(c), c)) \\\n",
    "            .alias(c) for c in fromStormsCSV\\\n",
    "            .columns] \\\n",
    "             ).show()"
   ]
  },
  {
   "cell_type": "code",
   "execution_count": 41,
   "metadata": {
    "editable": true,
    "execution": {
     "iopub.execute_input": "2022-10-15T17:53:37.227328Z",
     "iopub.status.busy": "2022-10-15T17:53:37.148403Z",
     "iopub.status.idle": "2022-10-15T17:53:38.037245Z",
     "shell.execute_reply": "2022-10-15T17:53:38.031172Z",
     "shell.execute_reply.started": "2022-10-15T17:53:37.227266Z"
    },
    "tags": []
   },
   "outputs": [
    {
     "data": {
      "application/vnd.jupyter.widget-view+json": {
       "model_id": "d5fe953bdf454f46af275fd9c49a324c",
       "version_major": 2,
       "version_minor": 0
      },
      "text/plain": [
       "VBox()"
      ]
     },
     "metadata": {},
     "output_type": "display_data"
    },
    {
     "data": {
      "application/vnd.jupyter.widget-view+json": {
       "model_id": "",
       "version_major": 2,
       "version_minor": 0
      },
      "text/plain": [
       "FloatProgress(value=0.0, bar_style='info', description='Progress:', layout=Layout(height='25px', width='50%'),…"
      ]
     },
     "metadata": {},
     "output_type": "display_data"
    }
   ],
   "source": [
    "# trim leading and/or trailing spaces\n",
    "\n",
    "fromStormsCSV = fromStormsCSV\\\n",
    "    .withColumn('storm_id', \\\n",
    "                trim(col('storm_id'))) \\\n",
    "    .withColumn('storm_name', \\\n",
    "                trim(col('storm_name')), \\\n",
    "               ) \\\n",
    "    .withColumn('associated_records', \\\n",
    "                trim(col('associated_records')) \\\n",
    "               ) \\\n",
    "    .withColumn('storm_time', \\\n",
    "                trim(col('storm_time'))) \\\n",
    "    .withColumn('rec_identifier', \\\n",
    "                trim(col('rec_identifier'))) \\\n",
    "    .withColumn('storm_type', \\\n",
    "                trim(col('storm_type'))) \\\n",
    "    .withColumn('latitude', \\\n",
    "                trim(col('latitude'))) \\\n",
    "    .withColumn('longitude', \\\n",
    "                trim(col('longitude'))) \\\n",
    "    .withColumn('max_sustained_wind(kt)', \\\n",
    "                trim(col('max_sustained_wind(kt)')) \\\n",
    "               ) \\\n",
    "    .withColumn('minimum_pressure(mbar)', \\\n",
    "                trim(col('minimum_pressure(mbar)'))) "
   ]
  },
  {
   "cell_type": "code",
   "execution_count": 42,
   "metadata": {
    "editable": true,
    "execution": {
     "iopub.execute_input": "2022-10-15T17:53:38.039605Z",
     "iopub.status.busy": "2022-10-15T17:53:38.039103Z",
     "iopub.status.idle": "2022-10-15T17:53:39.246574Z",
     "shell.execute_reply": "2022-10-15T17:53:39.239730Z",
     "shell.execute_reply.started": "2022-10-15T17:53:38.039562Z"
    },
    "tags": []
   },
   "outputs": [
    {
     "data": {
      "application/vnd.jupyter.widget-view+json": {
       "model_id": "5bd2d08e58734d77b4c8052600e00118",
       "version_major": 2,
       "version_minor": 0
      },
      "text/plain": [
       "VBox()"
      ]
     },
     "metadata": {},
     "output_type": "display_data"
    },
    {
     "data": {
      "application/vnd.jupyter.widget-view+json": {
       "model_id": "",
       "version_major": 2,
       "version_minor": 0
      },
      "text/plain": [
       "FloatProgress(value=0.0, bar_style='info', description='Progress:', layout=Layout(height='25px', width='50%'),…"
      ]
     },
     "metadata": {},
     "output_type": "display_data"
    }
   ],
   "source": [
    "# change to lowercase\n",
    "\n",
    "fromStormsCSV = fromStormsCSV\\\n",
    "    .withColumn('storm_name', \\\n",
    "        lower(col('storm_name')))"
   ]
  },
  {
   "cell_type": "code",
   "execution_count": 43,
   "metadata": {
    "editable": true,
    "execution": {
     "iopub.execute_input": "2022-10-15T17:53:39.248678Z",
     "iopub.status.busy": "2022-10-15T17:53:39.247992Z",
     "iopub.status.idle": "2022-10-15T17:53:40.332830Z",
     "shell.execute_reply": "2022-10-15T17:53:40.331711Z",
     "shell.execute_reply.started": "2022-10-15T17:53:39.248637Z"
    },
    "tags": []
   },
   "outputs": [
    {
     "data": {
      "application/vnd.jupyter.widget-view+json": {
       "model_id": "6ddbd87684844631af7787204c4f48d6",
       "version_major": 2,
       "version_minor": 0
      },
      "text/plain": [
       "VBox()"
      ]
     },
     "metadata": {},
     "output_type": "display_data"
    },
    {
     "data": {
      "application/vnd.jupyter.widget-view+json": {
       "model_id": "",
       "version_major": 2,
       "version_minor": 0
      },
      "text/plain": [
       "FloatProgress(value=0.0, bar_style='info', description='Progress:', layout=Layout(height='25px', width='50%'),…"
      ]
     },
     "metadata": {},
     "output_type": "display_data"
    }
   ],
   "source": [
    "# recast to str fields to int\n",
    "\n",
    "fromStormsCSV = fromStormsCSV \\\n",
    "    .withColumn(\"associated_records\", \\\n",
    "        fromStormsCSV[\"associated_records\"] \\\n",
    "    .cast(IntegerType()))\n",
    "\n",
    "fromStormsCSV = fromStormsCSV\\\n",
    "    .withColumn(\"max_sustained_wind(kt)\",\\\n",
    "        fromStormsCSV[\"max_sustained_wind(kt)\"]\\\n",
    "    .cast(IntegerType()))"
   ]
  },
  {
   "cell_type": "code",
   "execution_count": 44,
   "metadata": {
    "editable": true,
    "execution": {
     "iopub.execute_input": "2022-10-15T17:53:40.338007Z",
     "iopub.status.busy": "2022-10-15T17:53:40.337235Z",
     "iopub.status.idle": "2022-10-15T17:53:41.234510Z",
     "shell.execute_reply": "2022-10-15T17:53:41.233465Z",
     "shell.execute_reply.started": "2022-10-15T17:53:40.337965Z"
    },
    "tags": []
   },
   "outputs": [
    {
     "data": {
      "application/vnd.jupyter.widget-view+json": {
       "model_id": "c3c5f941a2c3403f8a19828fcb807a69",
       "version_major": 2,
       "version_minor": 0
      },
      "text/plain": [
       "VBox()"
      ]
     },
     "metadata": {},
     "output_type": "display_data"
    },
    {
     "data": {
      "application/vnd.jupyter.widget-view+json": {
       "model_id": "",
       "version_major": 2,
       "version_minor": 0
      },
      "text/plain": [
       "FloatProgress(value=0.0, bar_style='info', description='Progress:', layout=Layout(height='25px', width='50%'),…"
      ]
     },
     "metadata": {},
     "output_type": "display_data"
    },
    {
     "name": "stdout",
     "output_type": "stream",
     "text": [
      "root\n",
      " |-- storm_id: string (nullable = true)\n",
      " |-- storm_name: string (nullable = true)\n",
      " |-- associated_records: integer (nullable = true)\n",
      " |-- storm_date: string (nullable = true)\n",
      " |-- storm_time: string (nullable = true)\n",
      " |-- rec_identifier: string (nullable = true)\n",
      " |-- storm_type: string (nullable = true)\n",
      " |-- latitude: string (nullable = true)\n",
      " |-- longitude: string (nullable = true)\n",
      " |-- max_sustained_wind(kt): integer (nullable = true)\n",
      " |-- minimum_pressure(mbar): string (nullable = true)\n",
      " |-- category: string (nullable = true)\n",
      " |-- coordinates: string (nullable = true)\n",
      " |-- storm_state_code: string (nullable = true)\n",
      "\n",
      "+--------+----------+------------------+----------+----------+--------------+--------------+--------+---------+----------------------+----------------------+--------------+-------------+----------------+\n",
      "|storm_id|storm_name|associated_records|storm_date|storm_time|rec_identifier|    storm_type|latitude|longitude|max_sustained_wind(kt)|minimum_pressure(mbar)|      category|  coordinates|storm_state_code|\n",
      "+--------+----------+------------------+----------+----------+--------------+--------------+--------+---------+----------------------+----------------------+--------------+-------------+----------------+\n",
      "|AL011950|      able|                51|1950-08-12|  00:00:00|          null|tropical storm|    17.1|    -55.5|                    35|                -999.0|tropical storm|(17.1, -55.5)|            null|\n",
      "|AL011950|      able|                51|1950-08-12|  06:00:00|          null|tropical storm|    17.7|    -56.3|                    40|                -999.0|tropical storm|(17.7, -56.3)|            null|\n",
      "+--------+----------+------------------+----------+----------+--------------+--------------+--------+---------+----------------------+----------------------+--------------+-------------+----------------+\n",
      "only showing top 2 rows"
     ]
    }
   ],
   "source": [
    "fromStormsCSV.printSchema()\n",
    "fromStormsCSV.show(2)"
   ]
  },
  {
   "cell_type": "code",
   "execution_count": 45,
   "metadata": {
    "editable": true,
    "execution": {
     "iopub.execute_input": "2022-10-15T17:53:41.239611Z",
     "iopub.status.busy": "2022-10-15T17:53:41.237263Z",
     "iopub.status.idle": "2022-10-15T17:53:41.560395Z",
     "shell.execute_reply": "2022-10-15T17:53:41.559144Z",
     "shell.execute_reply.started": "2022-10-15T17:53:41.239571Z"
    },
    "tags": []
   },
   "outputs": [
    {
     "data": {
      "application/vnd.jupyter.widget-view+json": {
       "model_id": "18d4f0c546ef4048a788f85e2c05ef15",
       "version_major": 2,
       "version_minor": 0
      },
      "text/plain": [
       "VBox()"
      ]
     },
     "metadata": {},
     "output_type": "display_data"
    },
    {
     "data": {
      "application/vnd.jupyter.widget-view+json": {
       "model_id": "",
       "version_major": 2,
       "version_minor": 0
      },
      "text/plain": [
       "FloatProgress(value=0.0, bar_style='info', description='Progress:', layout=Layout(height='25px', width='50%'),…"
      ]
     },
     "metadata": {},
     "output_type": "display_data"
    },
    {
     "name": "stdout",
     "output_type": "stream",
     "text": [
      "root\n",
      " |-- storm_id: string (nullable = true)\n",
      " |-- storm_name: string (nullable = true)\n",
      " |-- associated_records: integer (nullable = true)\n",
      " |-- storm_date: string (nullable = true)\n",
      " |-- storm_time: string (nullable = true)\n",
      " |-- rec_identifier: string (nullable = true)\n",
      " |-- storm_type: string (nullable = true)\n",
      " |-- latitude: string (nullable = true)\n",
      " |-- longitude: string (nullable = true)\n",
      " |-- max_sustained_wind(kt): integer (nullable = true)\n",
      " |-- minimum_pressure(mbar): string (nullable = true)\n",
      " |-- category: string (nullable = true)\n",
      " |-- coordinates: string (nullable = true)\n",
      " |-- storm_state_code: string (nullable = true)"
     ]
    }
   ],
   "source": [
    "# check cast whether worked\n",
    "\n",
    "# fromStormsCSV.select('associated_records').collect()[0][0]\n",
    "# fromStormsCSV.select(\"max_sustained_wind(kt)\").collect()[0][0]\n",
    "\n",
    "fromStormsCSV.printSchema()"
   ]
  },
  {
   "cell_type": "code",
   "execution_count": 46,
   "metadata": {
    "editable": true,
    "execution": {
     "iopub.execute_input": "2022-10-15T17:53:41.562378Z",
     "iopub.status.busy": "2022-10-15T17:53:41.561672Z",
     "iopub.status.idle": "2022-10-15T17:53:42.616126Z",
     "shell.execute_reply": "2022-10-15T17:53:42.614872Z",
     "shell.execute_reply.started": "2022-10-15T17:53:41.562338Z"
    },
    "tags": []
   },
   "outputs": [
    {
     "data": {
      "application/vnd.jupyter.widget-view+json": {
       "model_id": "4708d72a3c714991b2d1426993c1b138",
       "version_major": 2,
       "version_minor": 0
      },
      "text/plain": [
       "VBox()"
      ]
     },
     "metadata": {},
     "output_type": "display_data"
    },
    {
     "data": {
      "application/vnd.jupyter.widget-view+json": {
       "model_id": "",
       "version_major": 2,
       "version_minor": 0
      },
      "text/plain": [
       "FloatProgress(value=0.0, bar_style='info', description='Progress:', layout=Layout(height='25px', width='50%'),…"
      ]
     },
     "metadata": {},
     "output_type": "display_data"
    },
    {
     "name": "stdout",
     "output_type": "stream",
     "text": [
      "+----------+\n",
      "|storm_date|\n",
      "+----------+\n",
      "|1950-08-12|\n",
      "|1950-08-12|\n",
      "|1950-08-12|\n",
      "|1950-08-12|\n",
      "|1950-08-13|\n",
      "|1950-08-13|\n",
      "|1950-08-13|\n",
      "|1950-08-13|\n",
      "|1950-08-14|\n",
      "|1950-08-14|\n",
      "+----------+\n",
      "only showing top 10 rows\n",
      "\n",
      "+--------+----------+------------------+----------+----------+--------------+--------------+--------+---------+----------------------+----------------------+--------------+-------------+----------------+----------+\n",
      "|storm_id|storm_name|associated_records|storm_date|storm_time|rec_identifier|    storm_type|latitude|longitude|max_sustained_wind(kt)|minimum_pressure(mbar)|      category|  coordinates|storm_state_code|storm_year|\n",
      "+--------+----------+------------------+----------+----------+--------------+--------------+--------+---------+----------------------+----------------------+--------------+-------------+----------------+----------+\n",
      "|AL011950|      able|                51|1950-08-12|  00:00:00|          null|tropical storm|    17.1|    -55.5|                    35|                -999.0|tropical storm|(17.1, -55.5)|            null|      1950|\n",
      "|AL011950|      able|                51|1950-08-12|  06:00:00|          null|tropical storm|    17.7|    -56.3|                    40|                -999.0|tropical storm|(17.7, -56.3)|            null|      1950|\n",
      "+--------+----------+------------------+----------+----------+--------------+--------------+--------+---------+----------------------+----------------------+--------------+-------------+----------------+----------+\n",
      "only showing top 2 rows"
     ]
    }
   ],
   "source": [
    "# split storm_date into new column for storm_year\n",
    "\n",
    "fromStormsCSV.select('storm_date').show(10,False)\n",
    "split_col = F.split(fromStormsCSV['storm_date'], '-') \n",
    "\n",
    "fromStormsCSV = fromStormsCSV \\\n",
    "    .withColumn('storm_year', \\\n",
    "                trim(split_col.getItem(0)))\n",
    "\n",
    "fromStormsCSV.show(2)"
   ]
  },
  {
   "cell_type": "code",
   "execution_count": 47,
   "metadata": {
    "editable": true,
    "execution": {
     "iopub.execute_input": "2022-10-15T17:53:42.618095Z",
     "iopub.status.busy": "2022-10-15T17:53:42.617728Z",
     "iopub.status.idle": "2022-10-15T17:53:43.074967Z",
     "shell.execute_reply": "2022-10-15T17:53:43.073881Z",
     "shell.execute_reply.started": "2022-10-15T17:53:42.618054Z"
    },
    "tags": []
   },
   "outputs": [
    {
     "data": {
      "application/vnd.jupyter.widget-view+json": {
       "model_id": "3d91650317044f2e8bf35dd9f7dd3104",
       "version_major": 2,
       "version_minor": 0
      },
      "text/plain": [
       "VBox()"
      ]
     },
     "metadata": {},
     "output_type": "display_data"
    },
    {
     "data": {
      "application/vnd.jupyter.widget-view+json": {
       "model_id": "",
       "version_major": 2,
       "version_minor": 0
      },
      "text/plain": [
       "FloatProgress(value=0.0, bar_style='info', description='Progress:', layout=Layout(height='25px', width='50%'),…"
      ]
     },
     "metadata": {},
     "output_type": "display_data"
    },
    {
     "name": "stdout",
     "output_type": "stream",
     "text": [
      "+--------+----------+------------------+----------+----------+--------------+--------------+--------+---------+----------------------+----------------------+--------------+-------------+----------------+----------+------------------------+-----+\n",
      "|storm_id|storm_name|associated_records|storm_date|storm_time|rec_identifier|    storm_type|latitude|longitude|max_sustained_wind(kt)|minimum_pressure(mbar)|      category|  coordinates|storm_state_code|storm_year|ATCF_cyclone_num_forYear|basin|\n",
      "+--------+----------+------------------+----------+----------+--------------+--------------+--------+---------+----------------------+----------------------+--------------+-------------+----------------+----------+------------------------+-----+\n",
      "|AL011950|      able|                51|1950-08-12|  00:00:00|          null|tropical storm|    17.1|    -55.5|                    35|                -999.0|tropical storm|(17.1, -55.5)|            null|      1950|                      01|   AL|\n",
      "|AL011950|      able|                51|1950-08-12|  06:00:00|          null|tropical storm|    17.7|    -56.3|                    40|                -999.0|tropical storm|(17.7, -56.3)|            null|      1950|                      01|   AL|\n",
      "|AL011950|      able|                51|1950-08-12|  12:00:00|          null|tropical storm|    18.2|    -57.4|                    45|                -999.0|tropical storm|(18.2, -57.4)|            null|      1950|                      01|   AL|\n",
      "|AL011950|      able|                51|1950-08-12|  18:00:00|          null|tropical storm|    19.0|    -58.6|                    50|                -999.0|tropical storm|(19.0, -58.6)|            null|      1950|                      01|   AL|\n",
      "|AL011950|      able|                51|1950-08-13|  00:00:00|          null|tropical storm|    20.0|    -60.0|                    50|                -999.0|tropical storm|(20.0, -60.0)|            null|      1950|                      01|   AL|\n",
      "+--------+----------+------------------+----------+----------+--------------+--------------+--------+---------+----------------------+----------------------+--------------+-------------+----------------+----------+------------------------+-----+\n",
      "only showing top 5 rows"
     ]
    }
   ],
   "source": [
    "# create basin and ATCF_cyclone_num_forYear from the storm_id using substring\n",
    "\n",
    "fromStormsCSV = fromStormsCSV\\\n",
    "    .withColumn('ATCF_cyclone_num_forYear', col('storm_id').substr(3, 2))\\\n",
    "    .withColumn('basin',col('storm_id').substr(1, 2))\n",
    "\n",
    "fromStormsCSV.show(5)"
   ]
  },
  {
   "cell_type": "code",
   "execution_count": 48,
   "metadata": {
    "editable": true,
    "execution": {
     "iopub.execute_input": "2022-10-15T17:53:43.076983Z",
     "iopub.status.busy": "2022-10-15T17:53:43.076367Z",
     "iopub.status.idle": "2022-10-15T17:53:43.833375Z",
     "shell.execute_reply": "2022-10-15T17:53:43.830975Z",
     "shell.execute_reply.started": "2022-10-15T17:53:43.076940Z"
    },
    "tags": []
   },
   "outputs": [
    {
     "data": {
      "application/vnd.jupyter.widget-view+json": {
       "model_id": "00b8266d4f014abd9434359e4bde42cf",
       "version_major": 2,
       "version_minor": 0
      },
      "text/plain": [
       "VBox()"
      ]
     },
     "metadata": {},
     "output_type": "display_data"
    },
    {
     "data": {
      "application/vnd.jupyter.widget-view+json": {
       "model_id": "",
       "version_major": 2,
       "version_minor": 0
      },
      "text/plain": [
       "FloatProgress(value=0.0, bar_style='info', description='Progress:', layout=Layout(height='25px', width='50%'),…"
      ]
     },
     "metadata": {},
     "output_type": "display_data"
    }
   ],
   "source": [
    "# filter for named storms\n",
    "\n",
    "namedStorms = fromStormsCSV.filter(col('storm_name')!= 'unnamed')"
   ]
  },
  {
   "cell_type": "code",
   "execution_count": 49,
   "metadata": {
    "editable": true,
    "execution": {
     "iopub.execute_input": "2022-10-15T17:53:43.835184Z",
     "iopub.status.busy": "2022-10-15T17:53:43.834685Z",
     "iopub.status.idle": "2022-10-15T17:53:45.238858Z",
     "shell.execute_reply": "2022-10-15T17:53:45.237599Z",
     "shell.execute_reply.started": "2022-10-15T17:53:43.835101Z"
    },
    "tags": []
   },
   "outputs": [
    {
     "data": {
      "application/vnd.jupyter.widget-view+json": {
       "model_id": "2c5e04c89c7a4b90be6406ed2a59898b",
       "version_major": 2,
       "version_minor": 0
      },
      "text/plain": [
       "VBox()"
      ]
     },
     "metadata": {},
     "output_type": "display_data"
    },
    {
     "data": {
      "application/vnd.jupyter.widget-view+json": {
       "model_id": "",
       "version_major": 2,
       "version_minor": 0
      },
      "text/plain": [
       "FloatProgress(value=0.0, bar_style='info', description='Progress:', layout=Layout(height='25px', width='50%'),…"
      ]
     },
     "metadata": {},
     "output_type": "display_data"
    },
    {
     "name": "stdout",
     "output_type": "stream",
     "text": [
      "35.0"
     ]
    }
   ],
   "source": [
    "# change data type for max_sustained_wind(kt) to float\n",
    "\n",
    "namedStorms = namedStorms \\\n",
    "    .withColumn('max_sustained_wind(kt)' \\\n",
    "                ,(namedStorms['max_sustained_wind(kt)']).cast(Float())) \n",
    "\n",
    "namedStorms.select(\"max_sustained_wind(kt)\").collect()[0][0]"
   ]
  },
  {
   "cell_type": "code",
   "execution_count": 50,
   "metadata": {
    "editable": true,
    "execution": {
     "iopub.execute_input": "2022-10-15T17:53:45.240451Z",
     "iopub.status.busy": "2022-10-15T17:53:45.240085Z",
     "iopub.status.idle": "2022-10-15T17:53:46.345573Z",
     "shell.execute_reply": "2022-10-15T17:53:46.344244Z",
     "shell.execute_reply.started": "2022-10-15T17:53:45.240411Z"
    },
    "tags": []
   },
   "outputs": [
    {
     "data": {
      "application/vnd.jupyter.widget-view+json": {
       "model_id": "f63bd876d6e14189ba8a68d1987c8307",
       "version_major": 2,
       "version_minor": 0
      },
      "text/plain": [
       "VBox()"
      ]
     },
     "metadata": {},
     "output_type": "display_data"
    },
    {
     "data": {
      "application/vnd.jupyter.widget-view+json": {
       "model_id": "",
       "version_major": 2,
       "version_minor": 0
      },
      "text/plain": [
       "FloatProgress(value=0.0, bar_style='info', description='Progress:', layout=Layout(height='25px', width='50%'),…"
      ]
     },
     "metadata": {},
     "output_type": "display_data"
    },
    {
     "name": "stdout",
     "output_type": "stream",
     "text": [
      "+--------+----------+------------------+----------+----------+--------------+--------------+--------+---------+----------------------+----------------------+--------------+-------------+----------------+----------+------------------------+-----+\n",
      "|storm_id|storm_name|associated_records|storm_date|storm_time|rec_identifier|    storm_type|latitude|longitude|max_sustained_wind(kt)|minimum_pressure(mbar)|      category|  coordinates|storm_state_code|storm_year|ATCF_cyclone_num_forYear|basin|\n",
      "+--------+----------+------------------+----------+----------+--------------+--------------+--------+---------+----------------------+----------------------+--------------+-------------+----------------+----------+------------------------+-----+\n",
      "|AL011950|      able|                51|1950-08-12|  00:00:00|          null|tropical storm|    17.1|    -55.5|                  35.0|                -999.0|tropical storm|(17.1, -55.5)|            null|      1950|                      01|   AL|\n",
      "|AL011950|      able|                51|1950-08-12|  06:00:00|          null|tropical storm|    17.7|    -56.3|                  40.0|                -999.0|tropical storm|(17.7, -56.3)|            null|      1950|                      01|   AL|\n",
      "|AL011950|      able|                51|1950-08-12|  12:00:00|          null|tropical storm|    18.2|    -57.4|                  45.0|                -999.0|tropical storm|(18.2, -57.4)|            null|      1950|                      01|   AL|\n",
      "|AL011950|      able|                51|1950-08-12|  18:00:00|          null|tropical storm|    19.0|    -58.6|                  50.0|                -999.0|tropical storm|(19.0, -58.6)|            null|      1950|                      01|   AL|\n",
      "|AL011950|      able|                51|1950-08-13|  00:00:00|          null|tropical storm|    20.0|    -60.0|                  50.0|                -999.0|tropical storm|(20.0, -60.0)|            null|      1950|                      01|   AL|\n",
      "|AL011950|      able|                51|1950-08-13|  06:00:00|          null|tropical storm|    20.7|    -61.1|                  50.0|                -999.0|tropical storm|(20.7, -61.1)|            null|      1950|                      01|   AL|\n",
      "|AL011950|      able|                51|1950-08-13|  12:00:00|          null|tropical storm|    21.3|    -62.2|                  55.0|                -999.0|tropical storm|(21.3, -62.2)|            null|      1950|                      01|   AL|\n",
      "|AL011950|      able|                51|1950-08-13|  18:00:00|          null|tropical storm|    22.0|    -63.2|                  55.0|                 997.0|tropical storm|(22.0, -63.2)|            null|      1950|                      01|   AL|\n",
      "|AL011950|      able|                51|1950-08-14|  00:00:00|          null|tropical storm|    22.7|    -63.8|                  60.0|                 995.0|tropical storm|(22.7, -63.8)|            null|      1950|                      01|   AL|\n",
      "|AL011950|      able|                51|1950-08-14|  06:00:00|          null|tropical storm|    23.1|    -64.6|                  60.0|                -999.0|tropical storm|(23.1, -64.6)|            null|      1950|                      01|   AL|\n",
      "|AL011950|      able|                51|1950-08-14|  12:00:00|          null|tropical storm|    23.4|    -65.4|                  60.0|                 995.0|tropical storm|(23.4, -65.4)|            null|      1950|                      01|   AL|\n",
      "|AL011950|      able|                51|1950-08-14|  18:00:00|          null|     hurricane|    23.9|    -66.0|                  65.0|                 989.0|             1|(23.9, -66.0)|            null|      1950|                      01|   AL|\n",
      "|AL011950|      able|                51|1950-08-15|  00:00:00|          null|     hurricane|    24.4|    -66.2|                  65.0|                -999.0|             1|(24.4, -66.2)|            null|      1950|                      01|   AL|\n",
      "|AL011950|      able|                51|1950-08-15|  06:00:00|          null|     hurricane|    24.8|    -66.5|                  65.0|                -999.0|             1|(24.8, -66.5)|            null|      1950|                      01|   AL|\n",
      "|AL011950|      able|                51|1950-08-15|  12:00:00|          null|     hurricane|    25.2|    -66.8|                  70.0|                 987.0|             1|(25.2, -66.8)|            null|      1950|                      01|   AL|\n",
      "|AL011950|      able|                51|1950-08-15|  18:00:00|          null|     hurricane|    25.5|    -67.5|                  75.0|                -999.0|             1|(25.5, -67.5)|            null|      1950|                      01|   AL|\n",
      "|AL011950|      able|                51|1950-08-16|  00:00:00|          null|     hurricane|    25.7|    -68.1|                  80.0|                -999.0|             1|(25.7, -68.1)|            null|      1950|                      01|   AL|\n",
      "|AL011950|      able|                51|1950-08-16|  06:00:00|          null|     hurricane|    25.7|    -68.7|                  80.0|                -999.0|             1|(25.7, -68.7)|            null|      1950|                      01|   AL|\n",
      "|AL011950|      able|                51|1950-08-16|  12:00:00|          null|     hurricane|    25.5|    -69.3|                  80.0|                 980.0|             1|(25.5, -69.3)|            null|      1950|                      01|   AL|\n",
      "|AL011950|      able|                51|1950-08-16|  18:00:00|          null|     hurricane|    25.4|    -69.8|                  85.0|                -999.0|             2|(25.4, -69.8)|            null|      1950|                      01|   AL|\n",
      "+--------+----------+------------------+----------+----------+--------------+--------------+--------+---------+----------------------+----------------------+--------------+-------------+----------------+----------+------------------------+-----+\n",
      "only showing top 20 rows"
     ]
    }
   ],
   "source": [
    "namedStorms.show()"
   ]
  },
  {
   "cell_type": "markdown",
   "metadata": {
    "editable": true
   },
   "source": [
    "# Build tables"
   ]
  },
  {
   "cell_type": "markdown",
   "metadata": {
    "editable": true
   },
   "source": [
    "![Schema](md_images/schemaCapstone.png) \n",
    "\n",
    "\n",
    "![DataDictionary](md_images/capstoneDataDict.png)"
   ]
  },
  {
   "cell_type": "markdown",
   "metadata": {
    "editable": true
   },
   "source": [
    "## saffir_simpson_hurricane_wind_scale_ref\n",
    "https://www.nhc.noaa.gov/aboutsshws.php#:~:text=The%20Saffir%2DSimpson%20Hurricane%20Wind,Scale%20estimates%20potential%20property%20damage."
   ]
  },
  {
   "cell_type": "code",
   "execution_count": 51,
   "metadata": {
    "editable": true,
    "execution": {
     "iopub.execute_input": "2022-10-15T17:54:30.732132Z",
     "iopub.status.busy": "2022-10-15T17:54:30.731801Z",
     "iopub.status.idle": "2022-10-15T17:54:48.842885Z",
     "shell.execute_reply": "2022-10-15T17:54:48.840232Z",
     "shell.execute_reply.started": "2022-10-15T17:54:30.732101Z"
    },
    "tags": []
   },
   "outputs": [
    {
     "data": {
      "application/vnd.jupyter.widget-view+json": {
       "model_id": "5a57a6317145470ab8275d0b9345c49a",
       "version_major": 2,
       "version_minor": 0
      },
      "text/plain": [
       "VBox()"
      ]
     },
     "metadata": {},
     "output_type": "display_data"
    },
    {
     "data": {
      "application/vnd.jupyter.widget-view+json": {
       "model_id": "",
       "version_major": 2,
       "version_minor": 0
      },
      "text/plain": [
       "FloatProgress(value=0.0, bar_style='info', description='Progress:', layout=Layout(height='25px', width='50%'),…"
      ]
     },
     "metadata": {},
     "output_type": "display_data"
    },
    {
     "name": "stdout",
     "output_type": "stream",
     "text": [
      "<bound method DataFrame.printSchema of DataFrame[category: int, min_sustained_wind(kt): int, max_sustained_wind(kt): int, sustained_wind(kt): string, brief_damage_description: string]>\n",
      "+--------+----------------------+----------------------+------------------+------------------------+\n",
      "|category|min_sustained_wind(kt)|max_sustained_wind(kt)|sustained_wind(kt)|brief_damage_description|\n",
      "+--------+----------------------+----------------------+------------------+------------------------+\n",
      "|       1|                    64|                    82|             64-82|    Power outages tha...|\n",
      "|       2|                    83|                    95|             83-95|    Near-total power ...|\n",
      "|       3|                    96|                   112|            96-112|    Electricity and w...|\n",
      "|       4|                   113|                   136|           113-136|    Catastrophic dama...|\n",
      "|       5|                   137|                     0|              137+|    Catastrophic dama...|\n",
      "+--------+----------------------+----------------------+------------------+------------------------+"
     ]
    }
   ],
   "source": [
    "\"\"\"\n",
    "NURDAT2 data contains no reference to\n",
    "category. In order to identify category, \n",
    "the Saffir_Simpson Wind Scale must be \n",
    "referenced. The max_sustained_wind(kt)\n",
    "can be measured against the min-max of \n",
    "each category's range to set the \n",
    "category, where the storm_type is \n",
    "hurricane\n",
    "\n",
    "\"\"\"\n",
    "\n",
    "data = [{'category': 1, \n",
    "         'sustained_wind(kt)': '64-82', \n",
    "         'max_sustained_wind(kt)': 82, \n",
    "         'min_sustained_wind(kt)': 64,\n",
    "         'sustained_wind(mph)': '74-95', \n",
    "         'brief_damage_description': \\\n",
    "         'Power outages that could last a few to several days.'},\n",
    "        \n",
    "       {'category': 2, \n",
    "        'sustained_wind(kt)': '83-95', \n",
    "        'max_sustained_wind(kt)': 95, \n",
    "        'min_sustained_wind(kt)': 83,\n",
    "        'sustained_wind(mph)': '96-110', \n",
    "        'brief_damage_description': \\\n",
    "        'Near-total power loss is expected \\\n",
    "        with outages that could last from several days to weeks.'},\n",
    "        \n",
    "       {'category': 3, \n",
    "        'sustained_wind(kt)': '96-112', \n",
    "        'max_sustained_wind(kt)': 112, \n",
    "        'min_sustained_wind(kt)': 96,\n",
    "        'sustained_wind(mph)': '111-129', \n",
    "        'brief_damage_description': \\\n",
    "        'Electricity and water will be \\\n",
    "        unavailable for several days to weeks after the storm passes.'},\n",
    "        \n",
    "       {'category': 4,\n",
    "        'sustained_wind(kt)': '113-136', \n",
    "        'max_sustained_wind(kt)': 136, \n",
    "        'min_sustained_wind(kt)': 113,\n",
    "        'sustained_wind(mph)': '130-156', \n",
    "        'brief_damage_description': \\\n",
    "        'Catastrophic damage will occur; most of \\\n",
    "        the area will be uninhabitable for weeks or months.'},\n",
    "        \n",
    "       {'category': 5,\n",
    "        'sustained_wind(kt)': '137+', \n",
    "        'min_sustained_wind(kt)': 137, \n",
    "        'sustained_wind(mph)': '157+',\n",
    "        'brief_damage_description': \\\n",
    "        'Catastrophic damage will occur; most of the \\\n",
    "        area will be uninhabitable for weeks or months.'}]\n",
    "\n",
    "\n",
    "schema = StructType([\n",
    "    StructField('category', Int()),\n",
    "    StructField('min_sustained_wind(kt)', Int()),\n",
    "    StructField('max_sustained_wind(kt)', Int()),\n",
    "    StructField('sustained_wind(kt)', Str()),\n",
    "    StructField('brief_damage_description', Str())\n",
    "])\n",
    "\n",
    "# create data frame\n",
    "saffir_simpson_scale = spark.createDataFrame(data, schema)\n",
    "print(saffir_simpson_scale.printSchema)\n",
    "saffir_simpson_scale.na.fill(value=0).show()"
   ]
  },
  {
   "cell_type": "code",
   "execution_count": 52,
   "metadata": {
    "editable": true,
    "execution": {
     "iopub.execute_input": "2022-10-15T17:54:48.849949Z",
     "iopub.status.busy": "2022-10-15T17:54:48.849511Z",
     "iopub.status.idle": "2022-10-15T17:54:49.140414Z",
     "shell.execute_reply": "2022-10-15T17:54:49.139398Z",
     "shell.execute_reply.started": "2022-10-15T17:54:48.849918Z"
    },
    "tags": []
   },
   "outputs": [
    {
     "data": {
      "application/vnd.jupyter.widget-view+json": {
       "model_id": "135de65115744abaab32fc9b81cc5759",
       "version_major": 2,
       "version_minor": 0
      },
      "text/plain": [
       "VBox()"
      ]
     },
     "metadata": {},
     "output_type": "display_data"
    },
    {
     "data": {
      "application/vnd.jupyter.widget-view+json": {
       "model_id": "",
       "version_major": 2,
       "version_minor": 0
      },
      "text/plain": [
       "FloatProgress(value=0.0, bar_style='info', description='Progress:', layout=Layout(height='25px', width='50%'),…"
      ]
     },
     "metadata": {},
     "output_type": "display_data"
    }
   ],
   "source": [
    "# # check data types\n",
    "\n",
    "# saffir_simpson_scale.select('min_sustained_wind(kt)').collect()[1][0]\n",
    "# saffir_simpson_scale.select('max_sustained_wind(kt)').collect()[1][0]"
   ]
  },
  {
   "cell_type": "code",
   "execution_count": 53,
   "metadata": {
    "editable": true,
    "execution": {
     "iopub.execute_input": "2022-10-15T17:54:49.144618Z",
     "iopub.status.busy": "2022-10-15T17:54:49.143347Z",
     "iopub.status.idle": "2022-10-15T17:54:51.133983Z",
     "shell.execute_reply": "2022-10-15T17:54:51.133061Z",
     "shell.execute_reply.started": "2022-10-15T17:54:49.144575Z"
    },
    "tags": []
   },
   "outputs": [
    {
     "data": {
      "application/vnd.jupyter.widget-view+json": {
       "model_id": "f84b73a31fb9467a8ea398fea2b99263",
       "version_major": 2,
       "version_minor": 0
      },
      "text/plain": [
       "VBox()"
      ]
     },
     "metadata": {},
     "output_type": "display_data"
    },
    {
     "data": {
      "application/vnd.jupyter.widget-view+json": {
       "model_id": "",
       "version_major": 2,
       "version_minor": 0
      },
      "text/plain": [
       "FloatProgress(value=0.0, bar_style='info', description='Progress:', layout=Layout(height='25px', width='50%'),…"
      ]
     },
     "metadata": {},
     "output_type": "display_data"
    }
   ],
   "source": [
    "# write to s3\n",
    "saffir_simpson_scale.write.mode('overwrite').csv('s3://capstonesources/OUTPUT/saffir_simpson_scale/saffir_simpson_scale.csv')"
   ]
  },
  {
   "cell_type": "markdown",
   "metadata": {
    "editable": true
   },
   "source": [
    "## state_ref"
   ]
  },
  {
   "cell_type": "code",
   "execution_count": 54,
   "metadata": {
    "editable": true,
    "execution": {
     "iopub.execute_input": "2022-10-15T17:54:57.566121Z",
     "iopub.status.busy": "2022-10-15T17:54:57.565757Z",
     "iopub.status.idle": "2022-10-15T17:54:58.093822Z",
     "shell.execute_reply": "2022-10-15T17:54:58.092718Z",
     "shell.execute_reply.started": "2022-10-15T17:54:57.566085Z"
    },
    "tags": []
   },
   "outputs": [
    {
     "data": {
      "application/vnd.jupyter.widget-view+json": {
       "model_id": "fa2262e958fc4695a143663ea7060dfa",
       "version_major": 2,
       "version_minor": 0
      },
      "text/plain": [
       "VBox()"
      ]
     },
     "metadata": {},
     "output_type": "display_data"
    },
    {
     "data": {
      "application/vnd.jupyter.widget-view+json": {
       "model_id": "",
       "version_major": 2,
       "version_minor": 0
      },
      "text/plain": [
       "FloatProgress(value=0.0, bar_style='info', description='Progress:', layout=Layout(height='25px', width='50%'),…"
      ]
     },
     "metadata": {},
     "output_type": "display_data"
    },
    {
     "name": "stdout",
     "output_type": "stream",
     "text": [
      "+----------+--------------------+--------+\n",
      "|state_code|          state_name|state_id|\n",
      "+----------+--------------------+--------+\n",
      "|        AL|             Alabama|       0|\n",
      "|        AK|              Alaska|       1|\n",
      "|        AZ|             Arizona|       2|\n",
      "|        AR|            Arkansas|       3|\n",
      "|        CA|          California|       4|\n",
      "|        CO|            Colorado|       5|\n",
      "|        CT|         Connecticut|       6|\n",
      "|        DE|            Delaware|       7|\n",
      "|        DC|District of Columbia|       8|\n",
      "|        FL|             Florida|       9|\n",
      "|        GA|             Georgia|      10|\n",
      "|        HI|              Hawaii|      11|\n",
      "|        ID|               Idaho|      12|\n",
      "|        IL|            Illinois|      13|\n",
      "|        IN|             Indiana|      14|\n",
      "|        IA|                Iowa|      15|\n",
      "|        KS|              Kansas|      16|\n",
      "|        KY|            Kentucky|      17|\n",
      "|        LA|           Louisiana|      18|\n",
      "|        ME|               Maine|      19|\n",
      "+----------+--------------------+--------+\n",
      "only showing top 20 rows"
     ]
    }
   ],
   "source": [
    "# transformation were handled when the json was read\n",
    "\n",
    "state_ref = states_data\n",
    "\n",
    "state_ref.show()"
   ]
  },
  {
   "cell_type": "code",
   "execution_count": 55,
   "metadata": {
    "editable": true,
    "execution": {
     "iopub.execute_input": "2022-10-15T17:54:58.095868Z",
     "iopub.status.busy": "2022-10-15T17:54:58.095506Z",
     "iopub.status.idle": "2022-10-15T17:54:59.193411Z",
     "shell.execute_reply": "2022-10-15T17:54:59.192504Z",
     "shell.execute_reply.started": "2022-10-15T17:54:58.095829Z"
    }
   },
   "outputs": [
    {
     "data": {
      "application/vnd.jupyter.widget-view+json": {
       "model_id": "1f7321bb62834eef9ebdaf18c1e3f116",
       "version_major": 2,
       "version_minor": 0
      },
      "text/plain": [
       "VBox()"
      ]
     },
     "metadata": {},
     "output_type": "display_data"
    },
    {
     "data": {
      "application/vnd.jupyter.widget-view+json": {
       "model_id": "",
       "version_major": 2,
       "version_minor": 0
      },
      "text/plain": [
       "FloatProgress(value=0.0, bar_style='info', description='Progress:', layout=Layout(height='25px', width='50%'),…"
      ]
     },
     "metadata": {},
     "output_type": "display_data"
    }
   ],
   "source": [
    "# write to s3\n",
    " \n",
    "state_ref.write.mode('overwrite').csv('s3://capstonesources/OUTPUT/state_ref/state_ref.csv')"
   ]
  },
  {
   "cell_type": "markdown",
   "metadata": {
    "editable": true
   },
   "source": [
    "## babyNames_byState_fact"
   ]
  },
  {
   "cell_type": "code",
   "execution_count": 56,
   "metadata": {
    "editable": true,
    "execution": {
     "iopub.execute_input": "2022-10-15T17:55:06.089842Z",
     "iopub.status.busy": "2022-10-15T17:55:06.089500Z",
     "iopub.status.idle": "2022-10-15T17:56:00.250569Z",
     "shell.execute_reply": "2022-10-15T17:56:00.248014Z",
     "shell.execute_reply.started": "2022-10-15T17:55:06.089815Z"
    },
    "tags": []
   },
   "outputs": [
    {
     "data": {
      "application/vnd.jupyter.widget-view+json": {
       "model_id": "f129d2614cef4f6485ec843ca8a22004",
       "version_major": 2,
       "version_minor": 0
      },
      "text/plain": [
       "VBox()"
      ]
     },
     "metadata": {},
     "output_type": "display_data"
    },
    {
     "data": {
      "application/vnd.jupyter.widget-view+json": {
       "model_id": "",
       "version_major": 2,
       "version_minor": 0
      },
      "text/plain": [
       "FloatProgress(value=0.0, bar_style='info', description='Progress:', layout=Layout(height='25px', width='50%'),…"
      ]
     },
     "metadata": {},
     "output_type": "display_data"
    },
    {
     "name": "stdout",
     "output_type": "stream",
     "text": [
      "+-----------+----------+----------+----------------+------+----------+\n",
      "|babyName_id|birth_year|popularity|birth_state_code|gender|birth_name|\n",
      "+-----------+----------+----------+----------------+------+----------+\n",
      "|          0|      1910|        13|              GA|     M|     aaron|\n",
      "|          1|      1910|        15|              NY|     M|     aaron|\n",
      "|          2|      1910|        15|              PA|     M|     aaron|\n",
      "|          3|      1910|         5|              TN|     M|     aaron|\n",
      "|          4|      1910|         5|              VA|     M|     aaron|\n",
      "|          5|      1910|         5|              WV|     M|     aaron|\n",
      "|          6|      1910|         6|              AR|     M|     aaron|\n",
      "|          7|      1910|         6|              MO|     M|     aaron|\n",
      "|          8|      1910|         7|              AL|     M|     aaron|\n",
      "|          9|      1910|         8|              IL|     M|     aaron|\n",
      "|         10|      1910|         8|              TX|     M|     aaron|\n",
      "|         11|      1910|         9|              MS|     M|     aaron|\n",
      "|         12|      1910|         9|              NC|     M|     aaron|\n",
      "|         13|      1910|         5|              MA|     F|     abbie|\n",
      "|         14|      1910|         7|              TX|     F|     abbie|\n",
      "|         15|      1910|         8|              AL|     F|     abbie|\n",
      "|         16|      1910|         8|              MS|     F|     abbie|\n",
      "|         17|      1910|        15|              NY|     M|       abe|\n",
      "|         18|      1910|         5|              GA|     M|       abe|\n",
      "|         19|      1910|         5|              PA|     M|       abe|\n",
      "+-----------+----------+----------+----------------+------+----------+\n",
      "only showing top 20 rows"
     ]
    }
   ],
   "source": [
    "# transformation were handled when the TXT files were read \n",
    "\n",
    "babyNames_byState_fact = namesbystate\n",
    "\n",
    "babyNames_byState_fact.show(4)"
   ]
  },
  {
   "cell_type": "code",
   "execution_count": 57,
   "metadata": {
    "editable": true,
    "execution": {
     "iopub.execute_input": "2022-10-15T17:56:00.255004Z",
     "iopub.status.busy": "2022-10-15T17:56:00.253708Z",
     "iopub.status.idle": "2022-10-15T17:56:48.752568Z",
     "shell.execute_reply": "2022-10-15T17:56:48.751356Z",
     "shell.execute_reply.started": "2022-10-15T17:56:00.254940Z"
    }
   },
   "outputs": [
    {
     "data": {
      "application/vnd.jupyter.widget-view+json": {
       "model_id": "6c77545b5a004e249372c5d949402e72",
       "version_major": 2,
       "version_minor": 0
      },
      "text/plain": [
       "VBox()"
      ]
     },
     "metadata": {},
     "output_type": "display_data"
    },
    {
     "data": {
      "application/vnd.jupyter.widget-view+json": {
       "model_id": "",
       "version_major": 2,
       "version_minor": 0
      },
      "text/plain": [
       "FloatProgress(value=0.0, bar_style='info', description='Progress:', layout=Layout(height='25px', width='50%'),…"
      ]
     },
     "metadata": {},
     "output_type": "display_data"
    }
   ],
   "source": [
    "# write to s3\n",
    "\n",
    "babyNames_byState_fact.write.mode('overwrite').csv('s3://capstonesources/OUTPUT/babyNames_byState_fact/babyNames_byState_fact.csv')"
   ]
  },
  {
   "cell_type": "markdown",
   "metadata": {
    "editable": true
   },
   "source": [
    "## storms_byName_dim"
   ]
  },
  {
   "cell_type": "code",
   "execution_count": 58,
   "metadata": {
    "editable": true,
    "execution": {
     "iopub.execute_input": "2022-10-15T17:57:02.901853Z",
     "iopub.status.busy": "2022-10-15T17:57:02.901502Z",
     "iopub.status.idle": "2022-10-15T17:57:04.494820Z",
     "shell.execute_reply": "2022-10-15T17:57:04.493824Z",
     "shell.execute_reply.started": "2022-10-15T17:57:02.901823Z"
    },
    "tags": []
   },
   "outputs": [
    {
     "data": {
      "application/vnd.jupyter.widget-view+json": {
       "model_id": "48fed644bf3846f9a6571660f15d7ed2",
       "version_major": 2,
       "version_minor": 0
      },
      "text/plain": [
       "VBox()"
      ]
     },
     "metadata": {},
     "output_type": "display_data"
    },
    {
     "data": {
      "application/vnd.jupyter.widget-view+json": {
       "model_id": "",
       "version_major": 2,
       "version_minor": 0
      },
      "text/plain": [
       "FloatProgress(value=0.0, bar_style='info', description='Progress:', layout=Layout(height='25px', width='50%'),…"
      ]
     },
     "metadata": {},
     "output_type": "display_data"
    },
    {
     "name": "stdout",
     "output_type": "stream",
     "text": [
      "+--------+-----+------------------------+----------+----------+------------------+\n",
      "|storm_id|basin|ATCF_cyclone_num_forYear|storm_year|storm_name|associated_records|\n",
      "+--------+-----+------------------------+----------+----------+------------------+\n",
      "|AL021951|   AL|                      02|      1951|      able|                36|\n",
      "|AL101955|   AL|                      10|      1955|     janet|                40|\n",
      "|AL201995|   AL|                      20|      1995| sebastien|                19|\n",
      "|AL161969|   AL|                      16|      1969|     gerda|                23|\n",
      "|AL051999|   AL|                      05|      1999|    dennis|                66|\n",
      "|AL072016|   AL|                      07|      2016|    gaston|                53|\n",
      "|AL032019|   AL|                      03|      2019|     three|                 5|\n",
      "|AL061984|   AL|                      06|      1984|    arthur|                33|\n",
      "|AL051997|   AL|                      05|      1997|     danny|                47|\n",
      "|AL141954|   AL|                      14|      1954|     hazel|                56|\n",
      "|AL021975|   AL|                      02|      1975|       amy|                31|\n",
      "|AL211995|   AL|                      21|      1995|     tanya|                29|\n",
      "|AL031996|   AL|                      03|      1996|     cesar|                18|\n",
      "|AL122007|   AL|                      12|      2007|     karen|                19|\n",
      "|AL062018|   AL|                      06|      2018|  florence|                79|\n",
      "|AL091951|   AL|                      09|      1951|       how|                53|\n",
      "|AL031962|   AL|                      03|      1962|     celia|                39|\n",
      "|AL021988|   AL|                      02|      1988|     beryl|                12|\n",
      "|AL121990|   AL|                      12|      1990| josephine|                62|\n",
      "|AL072000|   AL|                      07|      2000|     debby|                23|\n",
      "+--------+-----+------------------------+----------+----------+------------------+\n",
      "only showing top 20 rows"
     ]
    }
   ],
   "source": [
    "storms_byName_dim = namedStorms \\\n",
    "    .select(['storm_id', \n",
    "             'basin',\n",
    "             'ATCF_cyclone_num_forYear',\n",
    "             'storm_year',\n",
    "             'storm_name',\n",
    "             'associated_records'\n",
    "            ]) \\\n",
    "    .dropDuplicates()\n",
    "\n",
    "storms_byName_dim.show()"
   ]
  },
  {
   "cell_type": "code",
   "execution_count": 59,
   "metadata": {
    "editable": true,
    "execution": {
     "iopub.execute_input": "2022-10-15T17:57:04.497543Z",
     "iopub.status.busy": "2022-10-15T17:57:04.497187Z",
     "iopub.status.idle": "2022-10-15T17:57:12.711096Z",
     "shell.execute_reply": "2022-10-15T17:57:12.709868Z",
     "shell.execute_reply.started": "2022-10-15T17:57:04.497502Z"
    }
   },
   "outputs": [
    {
     "data": {
      "application/vnd.jupyter.widget-view+json": {
       "model_id": "743a9845cb2547d795b9a53e66fcac68",
       "version_major": 2,
       "version_minor": 0
      },
      "text/plain": [
       "VBox()"
      ]
     },
     "metadata": {},
     "output_type": "display_data"
    },
    {
     "data": {
      "application/vnd.jupyter.widget-view+json": {
       "model_id": "",
       "version_major": 2,
       "version_minor": 0
      },
      "text/plain": [
       "FloatProgress(value=0.0, bar_style='info', description='Progress:', layout=Layout(height='25px', width='50%'),…"
      ]
     },
     "metadata": {},
     "output_type": "display_data"
    }
   ],
   "source": [
    "# write to s3\n",
    "\n",
    "storms_byName_dim.write.mode('overwrite').csv('s3://capstonesources/OUTPUT/storms_byName_dim/storms_byName_dim.csv')"
   ]
  },
  {
   "cell_type": "markdown",
   "metadata": {
    "editable": true
   },
   "source": [
    "## storms_location_dim"
   ]
  },
  {
   "cell_type": "code",
   "execution_count": 60,
   "metadata": {
    "editable": true,
    "execution": {
     "iopub.execute_input": "2022-10-15T17:57:13.848493Z",
     "iopub.status.busy": "2022-10-15T17:57:13.848150Z",
     "iopub.status.idle": "2022-10-15T17:57:14.131154Z",
     "shell.execute_reply": "2022-10-15T17:57:14.129652Z",
     "shell.execute_reply.started": "2022-10-15T17:57:13.848463Z"
    },
    "tags": []
   },
   "outputs": [
    {
     "data": {
      "application/vnd.jupyter.widget-view+json": {
       "model_id": "3cd5741943544d72a3aaddb86112c330",
       "version_major": 2,
       "version_minor": 0
      },
      "text/plain": [
       "VBox()"
      ]
     },
     "metadata": {},
     "output_type": "display_data"
    },
    {
     "data": {
      "application/vnd.jupyter.widget-view+json": {
       "model_id": "",
       "version_major": 2,
       "version_minor": 0
      },
      "text/plain": [
       "FloatProgress(value=0.0, bar_style='info', description='Progress:', layout=Layout(height='25px', width='50%'),…"
      ]
     },
     "metadata": {},
     "output_type": "display_data"
    }
   ],
   "source": [
    "# select named storm that have storm_state_codes\n",
    "\n",
    "storms_location_dim = namedStorms \\\n",
    "    .select(['storm_id', \n",
    "            'storm_name',\n",
    "            'storm_year',\n",
    "            'storm_type',\n",
    "            'storm_state_code' \n",
    "            ]) \\\n",
    "    .where(namedStorms['storm_state_code'].isNotNull()) \\"
   ]
  },
  {
   "cell_type": "code",
   "execution_count": 61,
   "metadata": {
    "editable": true,
    "execution": {
     "iopub.execute_input": "2022-10-15T17:57:14.439518Z",
     "iopub.status.busy": "2022-10-15T17:57:14.439177Z",
     "iopub.status.idle": "2022-10-15T17:57:16.019532Z",
     "shell.execute_reply": "2022-10-15T17:57:16.018228Z",
     "shell.execute_reply.started": "2022-10-15T17:57:14.439488Z"
    },
    "tags": []
   },
   "outputs": [
    {
     "data": {
      "application/vnd.jupyter.widget-view+json": {
       "model_id": "64a8f7212f0a4810ac8c4b6b647ba498",
       "version_major": 2,
       "version_minor": 0
      },
      "text/plain": [
       "VBox()"
      ]
     },
     "metadata": {},
     "output_type": "display_data"
    },
    {
     "data": {
      "application/vnd.jupyter.widget-view+json": {
       "model_id": "",
       "version_major": 2,
       "version_minor": 0
      },
      "text/plain": [
       "FloatProgress(value=0.0, bar_style='info', description='Progress:', layout=Layout(height='25px', width='50%'),…"
      ]
     },
     "metadata": {},
     "output_type": "display_data"
    },
    {
     "name": "stdout",
     "output_type": "stream",
     "text": [
      "+--------+----------+-------------------+----------------+---------------+\n",
      "|storm_id|storm_name|storm_type         |storm_state_code|max(storm_year)|\n",
      "+--------+----------+-------------------+----------------+---------------+\n",
      "|AL092017|harvey    |hurricane          |TX              |2017           |\n",
      "|AL112017|irma      |hurricane          |FL              |2017           |\n",
      "|AL041985|danny     |hurricane          |LA              |1985           |\n",
      "|AL051961|esther    |tropical storm     |MA              |1961           |\n",
      "|AL092011|irene     |tropical storm     |NY              |2011           |\n",
      "|AL111995|jerry     |tropical storm     |FL              |1995           |\n",
      "|AL051960|donna     |hurricane          |NC              |1960           |\n",
      "|AL011995|allison   |tropical storm     |FL              |1995           |\n",
      "|AL051958|ella      |tropical storm     |TX              |1958           |\n",
      "|AL192020|sally     |tropical depression|FL              |2020           |\n",
      "|AL071956|flossy    |hurricane          |LA              |1956           |\n",
      "|AL042021|danny     |tropical storm     |SC              |2021           |\n",
      "|AL141968|gladys    |hurricane          |FL              |1968           |\n",
      "|AL101984|diana     |hurricane          |NC              |1984           |\n",
      "|AL061996|fran      |hurricane          |NC              |1996           |\n",
      "|AL142016|matthew   |hurricane          |SC              |2016           |\n",
      "|AL071956|flossy    |hurricane          |FL              |1956           |\n",
      "|AL092004|ivan      |tropical depression|LA              |2004           |\n",
      "|AL031991|bob       |tropical storm     |ME              |1991           |\n",
      "|AL051960|donna     |hurricane          |NY              |1960           |\n",
      "+--------+----------+-------------------+----------------+---------------+\n",
      "only showing top 20 rows"
     ]
    }
   ],
   "source": [
    "# groupby the max storm_year and drop dups\n",
    "storms_location_dim = storms_location_dim \\\n",
    "    .groupBy(['storm_id',\n",
    "             'storm_name',\n",
    "             'storm_type',\n",
    "             'storm_state_code'\n",
    "             ]).agg(F.max(\"storm_year\"))\\\n",
    "    .dropDuplicates() \n",
    "\n",
    "storms_location_dim.show(truncate=False)"
   ]
  },
  {
   "cell_type": "code",
   "execution_count": 62,
   "metadata": {
    "editable": true,
    "execution": {
     "iopub.execute_input": "2022-10-15T17:57:16.022379Z",
     "iopub.status.busy": "2022-10-15T17:57:16.021404Z",
     "iopub.status.idle": "2022-10-15T17:57:16.330083Z",
     "shell.execute_reply": "2022-10-15T17:57:16.328621Z",
     "shell.execute_reply.started": "2022-10-15T17:57:16.022333Z"
    },
    "tags": []
   },
   "outputs": [
    {
     "data": {
      "application/vnd.jupyter.widget-view+json": {
       "model_id": "8412a5128a5c48e9ab8e46e5a6662b47",
       "version_major": 2,
       "version_minor": 0
      },
      "text/plain": [
       "VBox()"
      ]
     },
     "metadata": {},
     "output_type": "display_data"
    },
    {
     "data": {
      "application/vnd.jupyter.widget-view+json": {
       "model_id": "",
       "version_major": 2,
       "version_minor": 0
      },
      "text/plain": [
       "FloatProgress(value=0.0, bar_style='info', description='Progress:', layout=Layout(height='25px', width='50%'),…"
      ]
     },
     "metadata": {},
     "output_type": "display_data"
    }
   ],
   "source": [
    "# create an 'index'\n",
    "\n",
    "storms_location_dim = storms_location_dim \\\n",
    "    .withColumn(\"location_id\", \\\n",
    "                F.monotonically_increasing_id())\n",
    "\n",
    "win = W.orderBy(\"location_id\")\n",
    "\n",
    "storms_location_dim = storms_location_dim \\\n",
    "    .withColumn(\"location_id\", \\\n",
    "                F.row_number().over(win)-1)"
   ]
  },
  {
   "cell_type": "code",
   "execution_count": 63,
   "metadata": {
    "editable": true,
    "execution": {
     "iopub.execute_input": "2022-10-15T17:57:16.333341Z",
     "iopub.status.busy": "2022-10-15T17:57:16.332915Z",
     "iopub.status.idle": "2022-10-15T17:57:19.451250Z",
     "shell.execute_reply": "2022-10-15T17:57:19.449524Z",
     "shell.execute_reply.started": "2022-10-15T17:57:16.333300Z"
    },
    "tags": []
   },
   "outputs": [
    {
     "data": {
      "application/vnd.jupyter.widget-view+json": {
       "model_id": "708835ce359c4fce97bc087254fef7b9",
       "version_major": 2,
       "version_minor": 0
      },
      "text/plain": [
       "VBox()"
      ]
     },
     "metadata": {},
     "output_type": "display_data"
    },
    {
     "data": {
      "application/vnd.jupyter.widget-view+json": {
       "model_id": "",
       "version_major": 2,
       "version_minor": 0
      },
      "text/plain": [
       "FloatProgress(value=0.0, bar_style='info', description='Progress:', layout=Layout(height='25px', width='50%'),…"
      ]
     },
     "metadata": {},
     "output_type": "display_data"
    },
    {
     "name": "stdout",
     "output_type": "stream",
     "text": [
      "+-----------+--------+----------+---------------+-------------------+----------------+\n",
      "|location_id|storm_id|storm_name|max(storm_year)|         storm_type|storm_state_code|\n",
      "+-----------+--------+----------+---------------+-------------------+----------------+\n",
      "|          0|AL092017|    harvey|           2017|          hurricane|              TX|\n",
      "|          1|AL112017|      irma|           2017|          hurricane|              FL|\n",
      "|          2|AL041985|     danny|           1985|          hurricane|              LA|\n",
      "|          3|AL051961|    esther|           1961|     tropical storm|              MA|\n",
      "|          4|AL092011|     irene|           2011|     tropical storm|              NY|\n",
      "|          5|AL111995|     jerry|           1995|     tropical storm|              FL|\n",
      "|          6|AL051960|     donna|           1960|          hurricane|              NC|\n",
      "|          7|AL011995|   allison|           1995|     tropical storm|              FL|\n",
      "|          8|AL051958|      ella|           1958|     tropical storm|              TX|\n",
      "|          9|AL192020|     sally|           2020|tropical depression|              FL|\n",
      "|         10|AL071956|    flossy|           1956|          hurricane|              LA|\n",
      "|         11|AL042021|     danny|           2021|     tropical storm|              SC|\n",
      "|         12|AL141968|    gladys|           1968|          hurricane|              FL|\n",
      "|         13|AL101984|     diana|           1984|          hurricane|              NC|\n",
      "|         14|AL061996|      fran|           1996|          hurricane|              NC|\n",
      "|         15|AL142016|   matthew|           2016|          hurricane|              SC|\n",
      "|         16|AL071956|    flossy|           1956|          hurricane|              FL|\n",
      "|         17|AL092004|      ivan|           2004|tropical depression|              LA|\n",
      "|         18|AL031991|       bob|           1991|     tropical storm|              ME|\n",
      "|         19|AL051960|     donna|           1960|          hurricane|              NY|\n",
      "+-----------+--------+----------+---------------+-------------------+----------------+\n",
      "only showing top 20 rows"
     ]
    }
   ],
   "source": [
    "# reorder and show\n",
    "\n",
    "storms_location_dim = storms_location_dim \\\n",
    "    .select([\n",
    "        'location_id', \n",
    "        'storm_id',\n",
    "        'storm_name',\n",
    "        'max(storm_year)',\n",
    "        'storm_type',\n",
    "        'storm_state_code' \\\n",
    "    ])\n",
    "\n",
    "storms_location_dim.show()"
   ]
  },
  {
   "cell_type": "code",
   "execution_count": 64,
   "metadata": {
    "editable": true,
    "execution": {
     "iopub.execute_input": "2022-10-15T17:57:19.642583Z",
     "iopub.status.busy": "2022-10-15T17:57:19.642122Z",
     "iopub.status.idle": "2022-10-15T17:57:21.829590Z",
     "shell.execute_reply": "2022-10-15T17:57:21.828285Z",
     "shell.execute_reply.started": "2022-10-15T17:57:19.642538Z"
    },
    "tags": []
   },
   "outputs": [
    {
     "data": {
      "application/vnd.jupyter.widget-view+json": {
       "model_id": "f33bc738417843e78a3c3de18a763bfd",
       "version_major": 2,
       "version_minor": 0
      },
      "text/plain": [
       "VBox()"
      ]
     },
     "metadata": {},
     "output_type": "display_data"
    },
    {
     "data": {
      "application/vnd.jupyter.widget-view+json": {
       "model_id": "",
       "version_major": 2,
       "version_minor": 0
      },
      "text/plain": [
       "FloatProgress(value=0.0, bar_style='info', description='Progress:', layout=Layout(height='25px', width='50%'),…"
      ]
     },
     "metadata": {},
     "output_type": "display_data"
    },
    {
     "name": "stdout",
     "output_type": "stream",
     "text": [
      "+-----------+--------+----------+---------------+-------------------+----------------+\n",
      "|location_id|storm_id|storm_name|max(storm_year)|         storm_type|storm_state_code|\n",
      "+-----------+--------+----------+---------------+-------------------+----------------+\n",
      "|          0|AL092017|    harvey|           2017|          hurricane|              TX|\n",
      "|          1|AL112017|      irma|           2017|          hurricane|              FL|\n",
      "|          2|AL041985|     danny|           1985|          hurricane|              LA|\n",
      "|          3|AL051961|    esther|           1961|     tropical storm|              MA|\n",
      "|          4|AL092011|     irene|           2011|     tropical storm|              NY|\n",
      "|          5|AL111995|     jerry|           1995|     tropical storm|              FL|\n",
      "|          6|AL051960|     donna|           1960|          hurricane|              NC|\n",
      "|          7|AL011995|   allison|           1995|     tropical storm|              FL|\n",
      "|          8|AL051958|      ella|           1958|     tropical storm|              TX|\n",
      "|          9|AL192020|     sally|           2020|tropical depression|              FL|\n",
      "|         10|AL071956|    flossy|           1956|          hurricane|              LA|\n",
      "|         11|AL042021|     danny|           2021|     tropical storm|              SC|\n",
      "|         12|AL141968|    gladys|           1968|          hurricane|              FL|\n",
      "|         13|AL101984|     diana|           1984|          hurricane|              NC|\n",
      "|         14|AL061996|      fran|           1996|          hurricane|              NC|\n",
      "|         15|AL142016|   matthew|           2016|          hurricane|              SC|\n",
      "|         16|AL071956|    flossy|           1956|          hurricane|              FL|\n",
      "|         17|AL092004|      ivan|           2004|tropical depression|              LA|\n",
      "|         18|AL031991|       bob|           1991|     tropical storm|              ME|\n",
      "|         19|AL051960|     donna|           1960|          hurricane|              NY|\n",
      "+-----------+--------+----------+---------------+-------------------+----------------+\n",
      "only showing top 20 rows"
     ]
    }
   ],
   "source": [
    "# reorder and show\n",
    "\n",
    "storms_location_dim = storms_location_dim \\\n",
    "    .select([\n",
    "        'location_id', \n",
    "        'storm_id',\n",
    "        'storm_name',\n",
    "        'max(storm_year)',\n",
    "        'storm_type',\n",
    "        'storm_state_code' \\\n",
    "    ])\n",
    "\n",
    "storms_location_dim.show()"
   ]
  },
  {
   "cell_type": "code",
   "execution_count": 65,
   "metadata": {
    "editable": true,
    "execution": {
     "iopub.execute_input": "2022-10-15T17:57:21.833154Z",
     "iopub.status.busy": "2022-10-15T17:57:21.831315Z",
     "iopub.status.idle": "2022-10-15T17:57:24.428601Z",
     "shell.execute_reply": "2022-10-15T17:57:24.351659Z",
     "shell.execute_reply.started": "2022-10-15T17:57:21.833111Z"
    },
    "tags": []
   },
   "outputs": [
    {
     "data": {
      "application/vnd.jupyter.widget-view+json": {
       "model_id": "7cad543969e14a8bbcad38ff62157ea4",
       "version_major": 2,
       "version_minor": 0
      },
      "text/plain": [
       "VBox()"
      ]
     },
     "metadata": {},
     "output_type": "display_data"
    },
    {
     "data": {
      "application/vnd.jupyter.widget-view+json": {
       "model_id": "",
       "version_major": 2,
       "version_minor": 0
      },
      "text/plain": [
       "FloatProgress(value=0.0, bar_style='info', description='Progress:', layout=Layout(height='25px', width='50%'),…"
      ]
     },
     "metadata": {},
     "output_type": "display_data"
    },
    {
     "name": "stdout",
     "output_type": "stream",
     "text": [
      "+-----------+--------+----------+---------------+-------------------+----------------+\n",
      "|location_id|storm_id|storm_name|max(storm_year)|         storm_type|storm_state_code|\n",
      "+-----------+--------+----------+---------------+-------------------+----------------+\n",
      "|         29|AL032010|    bonnie|           2010|     tropical storm|              FL|\n",
      "|         51|AL022004|    bonnie|           2004|     tropical storm|              FL|\n",
      "|        101|AL021986|    bonnie|           1986|          hurricane|              TX|\n",
      "|        182|AL021998|    bonnie|           1998|          hurricane|              NC|\n",
      "|        210|AL022016|    bonnie|           2016|tropical depression|              SC|\n",
      "+-----------+--------+----------+---------------+-------------------+----------------+"
     ]
    }
   ],
   "source": [
    "# sanity check - use any or all names: \n",
    "#     bonnie (expect 5 records), \n",
    "#     andrew (expect 2 records), \n",
    "#     sandy (expect 1 record), \n",
    "#     elsa (expect 3 records) \n",
    "#     katrina (expect 2 records)\n",
    "\n",
    "test = storms_location_dim.filter((F.col(\"storm_name\") == 'bonnie'))\n",
    "test.show()"
   ]
  },
  {
   "cell_type": "code",
   "execution_count": 66,
   "metadata": {
    "editable": true,
    "execution": {
     "iopub.execute_input": "2022-10-15T17:57:24.431187Z",
     "iopub.status.busy": "2022-10-15T17:57:24.430792Z",
     "iopub.status.idle": "2022-10-15T17:57:27.328188Z",
     "shell.execute_reply": "2022-10-15T17:57:27.244843Z",
     "shell.execute_reply.started": "2022-10-15T17:57:24.431147Z"
    }
   },
   "outputs": [
    {
     "data": {
      "application/vnd.jupyter.widget-view+json": {
       "model_id": "5fea380d520248a193d6e65d7277c56d",
       "version_major": 2,
       "version_minor": 0
      },
      "text/plain": [
       "VBox()"
      ]
     },
     "metadata": {},
     "output_type": "display_data"
    },
    {
     "data": {
      "application/vnd.jupyter.widget-view+json": {
       "model_id": "",
       "version_major": 2,
       "version_minor": 0
      },
      "text/plain": [
       "FloatProgress(value=0.0, bar_style='info', description='Progress:', layout=Layout(height='25px', width='50%'),…"
      ]
     },
     "metadata": {},
     "output_type": "display_data"
    }
   ],
   "source": [
    "# write to s3\n",
    "\n",
    "storms_location_dim.write.mode('overwrite').csv('s3://capstonesources/OUTPUT/storms_location_dim/storms_location_dim.csv')"
   ]
  },
  {
   "cell_type": "markdown",
   "metadata": {
    "editable": true
   },
   "source": [
    "## storm_severity_dim"
   ]
  },
  {
   "cell_type": "code",
   "execution_count": 67,
   "metadata": {
    "editable": true,
    "execution": {
     "iopub.execute_input": "2022-10-15T17:57:30.241489Z",
     "iopub.status.busy": "2022-10-15T17:57:30.240998Z",
     "iopub.status.idle": "2022-10-15T17:57:30.549960Z",
     "shell.execute_reply": "2022-10-15T17:57:30.548607Z",
     "shell.execute_reply.started": "2022-10-15T17:57:30.241454Z"
    },
    "tags": []
   },
   "outputs": [
    {
     "data": {
      "application/vnd.jupyter.widget-view+json": {
       "model_id": "2291f406c04f4ef9875ed21b235e8966",
       "version_major": 2,
       "version_minor": 0
      },
      "text/plain": [
       "VBox()"
      ]
     },
     "metadata": {},
     "output_type": "display_data"
    },
    {
     "data": {
      "application/vnd.jupyter.widget-view+json": {
       "model_id": "",
       "version_major": 2,
       "version_minor": 0
      },
      "text/plain": [
       "FloatProgress(value=0.0, bar_style='info', description='Progress:', layout=Layout(height='25px', width='50%'),…"
      ]
     },
     "metadata": {},
     "output_type": "display_data"
    }
   ],
   "source": [
    "# select named storms with catergories\n",
    "\n",
    "storms_severity_dim = namedStorms \\\n",
    "    .select(['storm_id', \n",
    "             'storm_name',\n",
    "             'storm_year',\n",
    "#              'storm_type',\n",
    "             'category',\n",
    "            'max_sustained_wind(kt)'         \n",
    "            ]) \\\n",
    "    .dropDuplicates()"
   ]
  },
  {
   "cell_type": "code",
   "execution_count": 68,
   "metadata": {
    "editable": true,
    "execution": {
     "iopub.execute_input": "2022-10-15T17:57:30.893318Z",
     "iopub.status.busy": "2022-10-15T17:57:30.892984Z",
     "iopub.status.idle": "2022-10-15T17:57:34.842424Z",
     "shell.execute_reply": "2022-10-15T17:57:34.840922Z",
     "shell.execute_reply.started": "2022-10-15T17:57:30.893289Z"
    },
    "tags": []
   },
   "outputs": [
    {
     "data": {
      "application/vnd.jupyter.widget-view+json": {
       "model_id": "82eda07a44424ab7a66fb7f0abb82458",
       "version_major": 2,
       "version_minor": 0
      },
      "text/plain": [
       "VBox()"
      ]
     },
     "metadata": {},
     "output_type": "display_data"
    },
    {
     "data": {
      "application/vnd.jupyter.widget-view+json": {
       "model_id": "",
       "version_major": 2,
       "version_minor": 0
      },
      "text/plain": [
       "FloatProgress(value=0.0, bar_style='info', description='Progress:', layout=Layout(height='25px', width='50%'),…"
      ]
     },
     "metadata": {},
     "output_type": "display_data"
    },
    {
     "name": "stdout",
     "output_type": "stream",
     "text": [
      "+--------+----------+----------+----------------------+---------------------------+\n",
      "|storm_id|storm_name|storm_year|category              |max(max_sustained_wind(kt))|\n",
      "+--------+----------+----------+----------------------+---------------------------+\n",
      "|AL111959|judith    |1959      |1                     |75.0                       |\n",
      "|AL101951|item      |1951      |tropical storm        |55.0                       |\n",
      "|AL081975|doris     |1975      |tropical storm        |60.0                       |\n",
      "|AL081950|how       |1950      |tropical storm        |40.0                       |\n",
      "|AL102018|joyce     |2018      |tropical storm        |45.0                       |\n",
      "|AL012010|alex      |2010      |1                     |80.0                       |\n",
      "|AL052008|edouard   |2008      |tropical depression   |30.0                       |\n",
      "|AL031996|cesar     |1996      |1                     |75.0                       |\n",
      "|AL092016|hermine   |2016      |extratropical storm   |60.0                       |\n",
      "|AL061991|claudette |1991      |4                     |115.0                      |\n",
      "|AL132010|karl      |2010      |2                     |95.0                       |\n",
      "|AL122005|katrina   |2005      |extratropical storm   |30.0                       |\n",
      "|AL011966|alma      |1966      |tropical storm        |60.0                       |\n",
      "|AL012007|andrea    |2007      |subtropical depression|30.0                       |\n",
      "|AL152018|nadine    |2018      |tropical storm        |55.0                       |\n",
      "|AL092020|isaias    |2020      |extratropical storm   |45.0                       |\n",
      "|AL192020|sally     |2020      |tropical depression   |30.0                       |\n",
      "|AL022016|bonnie    |2016      |tropical storm        |40.0                       |\n",
      "|AL071952|dog       |1952      |tropical storm        |60.0                       |\n",
      "|AL031954|alice     |1954      |tropical depression   |30.0                       |\n",
      "+--------+----------+----------+----------------------+---------------------------+\n",
      "only showing top 20 rows"
     ]
    }
   ],
   "source": [
    "# groupby the max max_winds and drop dups\n",
    "\n",
    "storms_severity_dim = storms_severity_dim \\\n",
    "    .groupBy(['storm_id',\n",
    "             'storm_name',\n",
    "             'storm_year',\n",
    "             'category' \n",
    "             ]).agg(F.max(\"max_sustained_wind(kt)\")) \\\n",
    "    .dropDuplicates()\n",
    "\n",
    "storms_severity_dim.show(truncate=False)"
   ]
  },
  {
   "cell_type": "code",
   "execution_count": 69,
   "metadata": {
    "editable": true,
    "execution": {
     "iopub.execute_input": "2022-10-15T17:57:34.846591Z",
     "iopub.status.busy": "2022-10-15T17:57:34.846115Z",
     "iopub.status.idle": "2022-10-15T17:57:35.836015Z",
     "shell.execute_reply": "2022-10-15T17:57:35.834709Z",
     "shell.execute_reply.started": "2022-10-15T17:57:34.846549Z"
    },
    "tags": []
   },
   "outputs": [
    {
     "data": {
      "application/vnd.jupyter.widget-view+json": {
       "model_id": "3b7e3241075e4ac5904d90413d5f12bc",
       "version_major": 2,
       "version_minor": 0
      },
      "text/plain": [
       "VBox()"
      ]
     },
     "metadata": {},
     "output_type": "display_data"
    },
    {
     "data": {
      "application/vnd.jupyter.widget-view+json": {
       "model_id": "",
       "version_major": 2,
       "version_minor": 0
      },
      "text/plain": [
       "FloatProgress(value=0.0, bar_style='info', description='Progress:', layout=Layout(height='25px', width='50%'),…"
      ]
     },
     "metadata": {},
     "output_type": "display_data"
    }
   ],
   "source": [
    "# create an 'index'\n",
    "\n",
    "storms_severity_dim = storms_severity_dim \\\n",
    "    .withColumn(\"severity_id\", \\\n",
    "                F.monotonically_increasing_id())\n",
    "\n",
    "win = W.orderBy(\"severity_id\")\n",
    "\n",
    "storms_severity_dim = storms_severity_dim \\\n",
    "    .withColumn(\"severity_id\", \\\n",
    "                F.row_number().over(win)-1)"
   ]
  },
  {
   "cell_type": "code",
   "execution_count": 70,
   "metadata": {
    "editable": true,
    "execution": {
     "iopub.execute_input": "2022-10-15T17:57:35.838905Z",
     "iopub.status.busy": "2022-10-15T17:57:35.838177Z",
     "iopub.status.idle": "2022-10-15T17:57:36.369307Z",
     "shell.execute_reply": "2022-10-15T17:57:36.368425Z",
     "shell.execute_reply.started": "2022-10-15T17:57:35.838863Z"
    },
    "tags": []
   },
   "outputs": [
    {
     "data": {
      "application/vnd.jupyter.widget-view+json": {
       "model_id": "b613f7e261bf46d298145f316d066dba",
       "version_major": 2,
       "version_minor": 0
      },
      "text/plain": [
       "VBox()"
      ]
     },
     "metadata": {},
     "output_type": "display_data"
    },
    {
     "data": {
      "application/vnd.jupyter.widget-view+json": {
       "model_id": "",
       "version_major": 2,
       "version_minor": 0
      },
      "text/plain": [
       "FloatProgress(value=0.0, bar_style='info', description='Progress:', layout=Layout(height='25px', width='50%'),…"
      ]
     },
     "metadata": {},
     "output_type": "display_data"
    }
   ],
   "source": [
    "# reorder and  show\n",
    "\n",
    "storms_severity_dim = storms_severity_dim \\\n",
    "    .select(['severity_id', \n",
    "             'storm_id',\n",
    "             'storm_name',\n",
    "             'storm_year',\n",
    "             'category',\n",
    "             col('max(max_sustained_wind(kt))').alias('max_sustained_wind(kt)') \\\n",
    "            ])"
   ]
  },
  {
   "cell_type": "code",
   "execution_count": 71,
   "metadata": {
    "editable": true,
    "execution": {
     "iopub.execute_input": "2022-10-15T17:57:36.428042Z",
     "iopub.status.busy": "2022-10-15T17:57:36.427351Z",
     "iopub.status.idle": "2022-10-15T17:57:42.278275Z",
     "shell.execute_reply": "2022-10-15T17:57:42.276866Z",
     "shell.execute_reply.started": "2022-10-15T17:57:36.428004Z"
    },
    "tags": []
   },
   "outputs": [
    {
     "data": {
      "application/vnd.jupyter.widget-view+json": {
       "model_id": "c7783556af8d481e87cceb39c7971d25",
       "version_major": 2,
       "version_minor": 0
      },
      "text/plain": [
       "VBox()"
      ]
     },
     "metadata": {},
     "output_type": "display_data"
    },
    {
     "data": {
      "application/vnd.jupyter.widget-view+json": {
       "model_id": "",
       "version_major": 2,
       "version_minor": 0
      },
      "text/plain": [
       "FloatProgress(value=0.0, bar_style='info', description='Progress:', layout=Layout(height='25px', width='50%'),…"
      ]
     },
     "metadata": {},
     "output_type": "display_data"
    },
    {
     "name": "stdout",
     "output_type": "stream",
     "text": [
      "+-----------+--------+----------+----------+--------------------+----------------------+\n",
      "|severity_id|storm_id|storm_name|storm_year|            category|max_sustained_wind(kt)|\n",
      "+-----------+--------+----------+----------+--------------------+----------------------+\n",
      "|        300|AL182012|     sandy|      2012| tropical depression|                  30.0|\n",
      "|        853|AL182012|     sandy|      2012|                   2|                  95.0|\n",
      "|        902|AL182012|     sandy|      2012|                   1|                  80.0|\n",
      "|       1014|AL182012|     sandy|      2012|low - not tropica...|                  25.0|\n",
      "|       1046|AL182012|     sandy|      2012| extratropical storm|                  75.0|\n",
      "|       2275|AL182012|     sandy|      2012|      tropical storm|                  60.0|\n",
      "|       2408|AL182012|     sandy|      2012|                   3|                 100.0|\n",
      "+-----------+--------+----------+----------+--------------------+----------------------+"
     ]
    }
   ],
   "source": [
    "# sanity check - use any or all names: \n",
    "#     andrew (expect 9 records)\n",
    "#     fred (expect 14 records), \n",
    "#     elsa (expect 4 records) \n",
    "#     florence (expect 40 records), \n",
    "#     sandy (expect 7 record), \n",
    "\n",
    "test = storms_severity_dim.filter((F.col(\"storm_name\") == 'sandy'))\n",
    "test.show()"
   ]
  },
  {
   "cell_type": "code",
   "execution_count": 72,
   "metadata": {
    "editable": true,
    "execution": {
     "iopub.execute_input": "2022-10-15T17:57:42.280817Z",
     "iopub.status.busy": "2022-10-15T17:57:42.280140Z",
     "iopub.status.idle": "2022-10-15T17:57:46.050869Z",
     "shell.execute_reply": "2022-10-15T17:57:46.049602Z",
     "shell.execute_reply.started": "2022-10-15T17:57:42.280774Z"
    }
   },
   "outputs": [
    {
     "data": {
      "application/vnd.jupyter.widget-view+json": {
       "model_id": "7ac0eb128bad4bcb8852c5ef6218774e",
       "version_major": 2,
       "version_minor": 0
      },
      "text/plain": [
       "VBox()"
      ]
     },
     "metadata": {},
     "output_type": "display_data"
    },
    {
     "data": {
      "application/vnd.jupyter.widget-view+json": {
       "model_id": "",
       "version_major": 2,
       "version_minor": 0
      },
      "text/plain": [
       "FloatProgress(value=0.0, bar_style='info', description='Progress:', layout=Layout(height='25px', width='50%'),…"
      ]
     },
     "metadata": {},
     "output_type": "display_data"
    }
   ],
   "source": [
    "# write to s3\n",
    " \n",
    "storms_severity_dim.write.mode('overwrite').csv('s3://capstonesources/OUTPUT/storms_severity_dim/storms_severity_dim.csv')"
   ]
  },
  {
   "cell_type": "markdown",
   "metadata": {
    "editable": true
   },
   "source": [
    "## storms_metadata_fact"
   ]
  },
  {
   "cell_type": "code",
   "execution_count": 73,
   "metadata": {
    "editable": true,
    "execution": {
     "iopub.execute_input": "2022-10-15T17:57:49.437894Z",
     "iopub.status.busy": "2022-10-15T17:57:49.437548Z",
     "iopub.status.idle": "2022-10-15T17:57:49.983637Z",
     "shell.execute_reply": "2022-10-15T17:57:49.982183Z",
     "shell.execute_reply.started": "2022-10-15T17:57:49.437865Z"
    },
    "tags": []
   },
   "outputs": [
    {
     "data": {
      "application/vnd.jupyter.widget-view+json": {
       "model_id": "47e1bdc016da47acba9e53cef20db0ad",
       "version_major": 2,
       "version_minor": 0
      },
      "text/plain": [
       "VBox()"
      ]
     },
     "metadata": {},
     "output_type": "display_data"
    },
    {
     "data": {
      "application/vnd.jupyter.widget-view+json": {
       "model_id": "",
       "version_major": 2,
       "version_minor": 0
      },
      "text/plain": [
       "FloatProgress(value=0.0, bar_style='info', description='Progress:', layout=Layout(height='25px', width='50%'),…"
      ]
     },
     "metadata": {},
     "output_type": "display_data"
    }
   ],
   "source": [
    "# join dfs\n",
    "\n",
    "name = storms_byName_dim \\\n",
    "    .select(['storm_id',\n",
    "             'storm_name',\n",
    "             'storm_year'\n",
    "            ])\n",
    "\n",
    "sev = storms_severity_dim \\\n",
    "    .select([ \\\n",
    "             'storm_id',\n",
    "             'storm_name',\n",
    "             F.col('storm_year').alias('sev_storm_year'),\n",
    "             'severity_id',\n",
    "             'category'\n",
    "            ])\n",
    "\n",
    "\n",
    "loc = storms_location_dim \\\n",
    "    .select([ \\\n",
    "             'storm_id',\n",
    "             'storm_name',\n",
    "             col('max(storm_year)').alias('loc_storm_year'),\n",
    "             'location_id',\n",
    "             'storm_state_code'\n",
    "            ])\n",
    "\n",
    "\n",
    "storms_metadata_fact = name \\\n",
    "            .join(sev, ['storm_id', 'storm_name'], 'inner') \\\n",
    "            .join(loc, ['storm_id', 'storm_name'], 'inner') \\\n",
    "            .dropDuplicates()"
   ]
  },
  {
   "cell_type": "code",
   "execution_count": 74,
   "metadata": {
    "editable": true,
    "execution": {
     "iopub.execute_input": "2022-10-15T17:57:51.962059Z",
     "iopub.status.busy": "2022-10-15T17:57:51.961720Z",
     "iopub.status.idle": "2022-10-15T17:58:00.131883Z",
     "shell.execute_reply": "2022-10-15T17:58:00.130586Z",
     "shell.execute_reply.started": "2022-10-15T17:57:51.962028Z"
    },
    "tags": []
   },
   "outputs": [
    {
     "data": {
      "application/vnd.jupyter.widget-view+json": {
       "model_id": "56cbdd31ae054970a38b0da37b5bd02d",
       "version_major": 2,
       "version_minor": 0
      },
      "text/plain": [
       "VBox()"
      ]
     },
     "metadata": {},
     "output_type": "display_data"
    },
    {
     "data": {
      "application/vnd.jupyter.widget-view+json": {
       "model_id": "",
       "version_major": 2,
       "version_minor": 0
      },
      "text/plain": [
       "FloatProgress(value=0.0, bar_style='info', description='Progress:', layout=Layout(height='25px', width='50%'),…"
      ]
     },
     "metadata": {},
     "output_type": "display_data"
    },
    {
     "name": "stdout",
     "output_type": "stream",
     "text": [
      "+--------+----------+----------+--------------+-----------+--------------------+--------------+-----------+----------------+\n",
      "|storm_id|storm_name|storm_year|sev_storm_year|severity_id|            category|loc_storm_year|location_id|storm_state_code|\n",
      "+--------+----------+----------+--------------+-----------+--------------------+--------------+-----------+----------------+\n",
      "|AL011966|      alma|      1966|          1966|          3|      tropical storm|          1966|        117|              FL|\n",
      "|AL092016|   hermine|      2016|          2016|          4| extratropical storm|          2016|        126|              FL|\n",
      "|AL122005|   katrina|      2005|          2005|         10| extratropical storm|          2005|        135|              LA|\n",
      "|AL122005|   katrina|      2005|          2005|         10| extratropical storm|          2005|        102|              FL|\n",
      "|AL111959|    judith|      1959|          1959|         11|                   1|          1959|         87|              FL|\n",
      "|AL052008|   edouard|      2008|          2008|         12| tropical depression|          2008|        105|              TX|\n",
      "|AL092020|    isaias|      2020|          2020|         15| extratropical storm|          2020|         22|              NC|\n",
      "|AL192020|     sally|      2020|          2020|         16| tropical depression|          2020|        113|              AL|\n",
      "|AL192020|     sally|      2020|          2020|         16| tropical depression|          2020|          9|              FL|\n",
      "|AL022016|    bonnie|      2016|          2016|         17|      tropical storm|          2016|        210|              SC|\n",
      "|AL021950|     baker|      1950|          1950|         20|                   2|          1950|         30|              AL|\n",
      "|AL102007|       ten|      2007|          2007|         21|low - not tropica...|          2007|        109|              FL|\n",
      "|AL141954|     hazel|      1954|          1954|         24|                   3|          1954|        187|              NC|\n",
      "|AL131987|     floyd|      1987|          1987|         28| extratropical storm|          1987|        203|              FL|\n",
      "|AL052019|    dorian|      2019|          2019|         31| tropical depression|          2019|        232|              NC|\n",
      "|AL101959|     irene|      1959|          1959|         32| tropical depression|          1959|        221|              AL|\n",
      "|AL091969|   camille|      1969|          1969|         34|                   2|          1969|        226|              MS|\n",
      "|AL092012|     isaac|      2012|          2012|         36|                   1|          2012|         91|              LA|\n",
      "|AL011966|      alma|      1966|          1966|         37|                   3|          1966|        117|              FL|\n",
      "|AL062002|       fay|      2002|          2002|         43|      tropical storm|          2002|         25|              TX|\n",
      "+--------+----------+----------+--------------+-----------+--------------------+--------------+-----------+----------------+\n",
      "only showing top 20 rows"
     ]
    }
   ],
   "source": [
    "storms_metadata_fact.show()"
   ]
  },
  {
   "cell_type": "code",
   "execution_count": 75,
   "metadata": {
    "editable": true,
    "execution": {
     "iopub.execute_input": "2022-10-15T17:58:00.849381Z",
     "iopub.status.busy": "2022-10-15T17:58:00.848951Z",
     "iopub.status.idle": "2022-10-15T17:58:07.527612Z",
     "shell.execute_reply": "2022-10-15T17:58:07.452367Z",
     "shell.execute_reply.started": "2022-10-15T17:58:00.849336Z"
    },
    "tags": []
   },
   "outputs": [
    {
     "data": {
      "application/vnd.jupyter.widget-view+json": {
       "model_id": "143ecb5819254069bed9b10c1666ec90",
       "version_major": 2,
       "version_minor": 0
      },
      "text/plain": [
       "VBox()"
      ]
     },
     "metadata": {},
     "output_type": "display_data"
    },
    {
     "data": {
      "application/vnd.jupyter.widget-view+json": {
       "model_id": "",
       "version_major": 2,
       "version_minor": 0
      },
      "text/plain": [
       "FloatProgress(value=0.0, bar_style='info', description='Progress:', layout=Layout(height='25px', width='50%'),…"
      ]
     },
     "metadata": {},
     "output_type": "display_data"
    },
    {
     "name": "stdout",
     "output_type": "stream",
     "text": [
      "+--------+----------+----------+-----------+-----------+----------------+-----------------------------------------------+\n",
      "|storm_id|storm_name|storm_year|severity_id|location_id|storm_state_code|max(category)                                  |\n",
      "+--------+----------+----------+-----------+-----------+----------------+-----------------------------------------------+\n",
      "|AL011953|alice     |1953      |362        |200        |FL              |tropical depression                            |\n",
      "|AL011953|alice     |1953      |1022       |200        |FL              |tropical storm                                 |\n",
      "|AL011955|brenda    |1955      |1788       |213        |LA              |tropical depression                            |\n",
      "|AL011955|brenda    |1955      |2865       |213        |LA              |tropical storm                                 |\n",
      "|AL011959|arlene    |1959      |1846       |48         |LA              |tropical storm                                 |\n",
      "|AL011959|arlene    |1959      |2760       |48         |LA              |tropical depression                            |\n",
      "|AL011966|alma      |1966      |8          |117        |FL              |tropical storm                                 |\n",
      "|AL011966|alma      |1966      |39         |117        |FL              |3                                              |\n",
      "|AL011966|alma      |1966      |1008       |117        |FL              |2                                              |\n",
      "|AL011966|alma      |1966      |2088       |117        |FL              |1                                              |\n",
      "|AL011966|alma      |1966      |2278       |117        |FL              |extratropical storm                            |\n",
      "|AL011966|alma      |1966      |2280       |117        |FL              |tropical depression                            |\n",
      "|AL011968|abby      |1968      |428        |99         |FL              |tropical storm                                 |\n",
      "|AL011968|abby      |1968      |1815       |99         |FL              |low - not tropical-subtropical-or-extratropical|\n",
      "|AL011968|abby      |1968      |2875       |99         |FL              |tropical depression                            |\n",
      "|AL011968|abby      |1968      |2915       |99         |FL              |1                                              |\n",
      "|AL011994|alberto   |1994      |847        |189        |FL              |tropical depression                            |\n",
      "|AL011994|alberto   |1994      |935        |189        |FL              |tropical storm                                 |\n",
      "|AL011995|allison   |1995      |1128       |7          |FL              |1                                              |\n",
      "|AL011995|allison   |1995      |2255       |7          |FL              |tropical storm                                 |\n",
      "+--------+----------+----------+-----------+-----------+----------------+-----------------------------------------------+\n",
      "only showing top 20 rows"
     ]
    }
   ],
   "source": [
    "# groupby category\n",
    "\n",
    "storms_metadata_fact = storms_metadata_fact \\\n",
    "    .groupBy(['storm_id',\n",
    "             'storm_name',\n",
    "             'storm_year',\n",
    "             'severity_id',\n",
    "             'location_id',\n",
    "             'storm_state_code' \n",
    "             ]).agg(F.max(\"category\"))\\\n",
    "    .dropDuplicates()\n",
    "    \n",
    "storms_metadata_fact.show(truncate=False)"
   ]
  },
  {
   "cell_type": "code",
   "execution_count": 76,
   "metadata": {
    "editable": true,
    "execution": {
     "iopub.execute_input": "2022-10-15T17:58:07.533483Z",
     "iopub.status.busy": "2022-10-15T17:58:07.529779Z",
     "iopub.status.idle": "2022-10-15T17:58:08.641096Z",
     "shell.execute_reply": "2022-10-15T17:58:08.640003Z",
     "shell.execute_reply.started": "2022-10-15T17:58:07.533440Z"
    },
    "tags": []
   },
   "outputs": [
    {
     "data": {
      "application/vnd.jupyter.widget-view+json": {
       "model_id": "c4a686eec3374099b856f1a3ab9f8d6d",
       "version_major": 2,
       "version_minor": 0
      },
      "text/plain": [
       "VBox()"
      ]
     },
     "metadata": {},
     "output_type": "display_data"
    },
    {
     "data": {
      "application/vnd.jupyter.widget-view+json": {
       "model_id": "",
       "version_major": 2,
       "version_minor": 0
      },
      "text/plain": [
       "FloatProgress(value=0.0, bar_style='info', description='Progress:', layout=Layout(height='25px', width='50%'),…"
      ]
     },
     "metadata": {},
     "output_type": "display_data"
    }
   ],
   "source": [
    "# create an 'index'\n",
    "\n",
    "storms_metadata_fact = storms_metadata_fact \\\n",
    "    .withColumn(\"storm_meta_id\", \\\n",
    "                F.monotonically_increasing_id())\n",
    "\n",
    "win = W.orderBy(\"storm_meta_id\")\n",
    "\n",
    "storms_metadata_fact = storms_metadata_fact \\\n",
    "    .withColumn(\"storm_meta_id\", \\\n",
    "                F.row_number().over(win)-1)"
   ]
  },
  {
   "cell_type": "code",
   "execution_count": 77,
   "metadata": {
    "editable": true,
    "execution": {
     "iopub.execute_input": "2022-10-15T17:58:12.968329Z",
     "iopub.status.busy": "2022-10-15T17:58:12.967999Z",
     "iopub.status.idle": "2022-10-15T17:58:18.945831Z",
     "shell.execute_reply": "2022-10-15T17:58:18.944867Z",
     "shell.execute_reply.started": "2022-10-15T17:58:12.968301Z"
    },
    "tags": []
   },
   "outputs": [
    {
     "data": {
      "application/vnd.jupyter.widget-view+json": {
       "model_id": "c61d55bcfd364c8ca4c9d17d9a987b91",
       "version_major": 2,
       "version_minor": 0
      },
      "text/plain": [
       "VBox()"
      ]
     },
     "metadata": {},
     "output_type": "display_data"
    },
    {
     "data": {
      "application/vnd.jupyter.widget-view+json": {
       "model_id": "",
       "version_major": 2,
       "version_minor": 0
      },
      "text/plain": [
       "FloatProgress(value=0.0, bar_style='info', description='Progress:', layout=Layout(height='25px', width='50%'),…"
      ]
     },
     "metadata": {},
     "output_type": "display_data"
    },
    {
     "name": "stdout",
     "output_type": "stream",
     "text": [
      "+-------------+--------+----------+----------+-----------+--------------------+-----------+----------------+\n",
      "|storm_meta_id|storm_id|storm_name|storm_year|severity_id|            category|location_id|storm_state_code|\n",
      "+-------------+--------+----------+----------+-----------+--------------------+-----------+----------------+\n",
      "|            0|AL011953|     alice|      1953|        373| tropical depression|        200|              FL|\n",
      "|            1|AL011953|     alice|      1953|       1015|      tropical storm|        200|              FL|\n",
      "|            2|AL011955|    brenda|      1955|       1789| tropical depression|        213|              LA|\n",
      "|            3|AL011955|    brenda|      1955|       2871|      tropical storm|        213|              LA|\n",
      "|            4|AL011959|    arlene|      1959|       1843|      tropical storm|         48|              LA|\n",
      "|            5|AL011959|    arlene|      1959|       2766| tropical depression|         48|              LA|\n",
      "|            6|AL011966|      alma|      1966|          6|      tropical storm|        117|              FL|\n",
      "|            7|AL011966|      alma|      1966|         36|                   3|        117|              FL|\n",
      "|            8|AL011966|      alma|      1966|       1000|                   2|        117|              FL|\n",
      "|            9|AL011966|      alma|      1966|       2088|                   1|        117|              FL|\n",
      "|           10|AL011966|      alma|      1966|       2276| extratropical storm|        117|              FL|\n",
      "|           11|AL011966|      alma|      1966|       2281| tropical depression|        117|              FL|\n",
      "|           12|AL011968|      abby|      1968|        429|      tropical storm|         99|              FL|\n",
      "|           13|AL011968|      abby|      1968|       1822|low - not tropica...|         99|              FL|\n",
      "|           14|AL011968|      abby|      1968|       2872| tropical depression|         99|              FL|\n",
      "|           15|AL011968|      abby|      1968|       2927|                   1|         99|              FL|\n",
      "|           16|AL011994|   alberto|      1994|        849| tropical depression|        189|              FL|\n",
      "|           17|AL011994|   alberto|      1994|        933|      tropical storm|        189|              FL|\n",
      "|           18|AL011995|   allison|      1995|       1133|                   1|          7|              FL|\n",
      "|           19|AL011995|   allison|      1995|       2253|      tropical storm|          7|              FL|\n",
      "+-------------+--------+----------+----------+-----------+--------------------+-----------+----------------+\n",
      "only showing top 20 rows"
     ]
    }
   ],
   "source": [
    "# reorder\n",
    "storms_metadata_fact = storms_metadata_fact \\\n",
    "    .select(['storm_meta_id', \n",
    "             'storm_id',\n",
    "             'storm_name',\n",
    "             'storm_year',\n",
    "             'severity_id',\n",
    "             col('max(category)').alias('category'),\n",
    "             'location_id',\n",
    "             'storm_state_code'\n",
    "            ])\n",
    "\n",
    "storms_metadata_fact.show()"
   ]
  },
  {
   "cell_type": "code",
   "execution_count": 78,
   "metadata": {
    "editable": true,
    "execution": {
     "iopub.execute_input": "2022-10-15T17:58:18.949203Z",
     "iopub.status.busy": "2022-10-15T17:58:18.947592Z",
     "iopub.status.idle": "2022-10-15T17:58:23.447468Z",
     "shell.execute_reply": "2022-10-15T17:58:23.446352Z",
     "shell.execute_reply.started": "2022-10-15T17:58:18.949161Z"
    },
    "tags": []
   },
   "outputs": [
    {
     "data": {
      "application/vnd.jupyter.widget-view+json": {
       "model_id": "5fe6e92766c849f2aaf382e9474b5de1",
       "version_major": 2,
       "version_minor": 0
      },
      "text/plain": [
       "VBox()"
      ]
     },
     "metadata": {},
     "output_type": "display_data"
    },
    {
     "data": {
      "application/vnd.jupyter.widget-view+json": {
       "model_id": "",
       "version_major": 2,
       "version_minor": 0
      },
      "text/plain": [
       "FloatProgress(value=0.0, bar_style='info', description='Progress:', layout=Layout(height='25px', width='50%'),…"
      ]
     },
     "metadata": {},
     "output_type": "display_data"
    },
    {
     "name": "stdout",
     "output_type": "stream",
     "text": [
      "+-------------+--------+----------+----------+-----------+-------------------+-----------+----------------+\n",
      "|storm_meta_id|storm_id|storm_name|storm_year|severity_id|           category|location_id|storm_state_code|\n",
      "+-------------+--------+----------+----------+-----------+-------------------+-----------+----------------+\n",
      "|          449|AL052021|      elsa|      2021|        399|     tropical storm|        183|              FL|\n",
      "|          450|AL052021|      elsa|      2021|        399|     tropical storm|        193|              NY|\n",
      "|          451|AL052021|      elsa|      2021|        399|     tropical storm|        219|              RI|\n",
      "|          452|AL052021|      elsa|      2021|       1353|extratropical storm|        183|              FL|\n",
      "|          453|AL052021|      elsa|      2021|       1353|extratropical storm|        193|              NY|\n",
      "|          454|AL052021|      elsa|      2021|       1353|extratropical storm|        219|              RI|\n",
      "|          455|AL052021|      elsa|      2021|       1719|                  1|        183|              FL|\n",
      "|          456|AL052021|      elsa|      2021|       1719|                  1|        193|              NY|\n",
      "|          457|AL052021|      elsa|      2021|       1719|                  1|        219|              RI|\n",
      "|          458|AL052021|      elsa|      2021|       2052|tropical depression|        183|              FL|\n",
      "|          459|AL052021|      elsa|      2021|       2052|tropical depression|        193|              NY|\n",
      "|          460|AL052021|      elsa|      2021|       2052|tropical depression|        219|              RI|\n",
      "+-------------+--------+----------+----------+-----------+-------------------+-----------+----------------+"
     ]
    }
   ],
   "source": [
    "# sanity check - use any or all names: \n",
    "#     fred (expect 5 records)\n",
    "#     carol (expect 12 records), \n",
    "#     elsa (expect 12 records) \n",
    "\n",
    "test = storms_metadata_fact.filter(F.col(\"storm_name\") == 'elsa')\n",
    "test.show()"
   ]
  },
  {
   "cell_type": "code",
   "execution_count": 79,
   "metadata": {
    "editable": true,
    "execution": {
     "iopub.execute_input": "2022-10-15T17:58:23.531101Z",
     "iopub.status.busy": "2022-10-15T17:58:23.527143Z",
     "iopub.status.idle": "2022-10-15T17:58:28.539936Z",
     "shell.execute_reply": "2022-10-15T17:58:28.538703Z",
     "shell.execute_reply.started": "2022-10-15T17:58:23.531055Z"
    }
   },
   "outputs": [
    {
     "data": {
      "application/vnd.jupyter.widget-view+json": {
       "model_id": "047b370c234b4f1b89bbfa90cc2ca0e7",
       "version_major": 2,
       "version_minor": 0
      },
      "text/plain": [
       "VBox()"
      ]
     },
     "metadata": {},
     "output_type": "display_data"
    },
    {
     "data": {
      "application/vnd.jupyter.widget-view+json": {
       "model_id": "",
       "version_major": 2,
       "version_minor": 0
      },
      "text/plain": [
       "FloatProgress(value=0.0, bar_style='info', description='Progress:', layout=Layout(height='25px', width='50%'),…"
      ]
     },
     "metadata": {},
     "output_type": "display_data"
    }
   ],
   "source": [
    "# write to s3\n",
    "\n",
    "storms_metadata_fact.write.mode('overwrite').csv('s3://capstonesources/OUTPUT/storms_metadata_fact/storms_metadata_fact.csv')"
   ]
  },
  {
   "cell_type": "markdown",
   "metadata": {
    "editable": true
   },
   "source": [
    "## storm_babyNames_fact"
   ]
  },
  {
   "cell_type": "code",
   "execution_count": 80,
   "metadata": {
    "editable": true,
    "execution": {
     "iopub.execute_input": "2022-10-15T17:58:32.441361Z",
     "iopub.status.busy": "2022-10-15T17:58:32.440851Z",
     "iopub.status.idle": "2022-10-15T17:58:33.428063Z",
     "shell.execute_reply": "2022-10-15T17:58:33.350740Z",
     "shell.execute_reply.started": "2022-10-15T17:58:32.441317Z"
    },
    "tags": []
   },
   "outputs": [
    {
     "data": {
      "application/vnd.jupyter.widget-view+json": {
       "model_id": "5d06b8d23ab345ed8c634b5b73b2c38c",
       "version_major": 2,
       "version_minor": 0
      },
      "text/plain": [
       "VBox()"
      ]
     },
     "metadata": {},
     "output_type": "display_data"
    },
    {
     "data": {
      "application/vnd.jupyter.widget-view+json": {
       "model_id": "",
       "version_major": 2,
       "version_minor": 0
      },
      "text/plain": [
       "FloatProgress(value=0.0, bar_style='info', description='Progress:', layout=Layout(height='25px', width='50%'),…"
      ]
     },
     "metadata": {},
     "output_type": "display_data"
    }
   ],
   "source": [
    "# join storms metadata fact table to baby names fact\n",
    "meta = storms_metadata_fact \\\n",
    "    .select(['storm_meta_id',\n",
    "            'storm_id',\n",
    "            'storm_name',\n",
    "            'storm_year',\n",
    "            'storm_state_code',\n",
    "            'category',\n",
    "            'storm_meta_id',\n",
    "            'storm_id',\n",
    "            'location_id',\n",
    "            'severity_id'\n",
    "            ])\n",
    "\n",
    "bby = babyNames_byState_fact \\\n",
    "      .select(['babyName_id', \n",
    "              'birth_name',\n",
    "              'birth_year',\n",
    "              'birth_state_code',\n",
    "              'popularity',\n",
    "              'gender'\n",
    "            ])\n",
    "\n",
    "\n",
    "on = [(meta.storm_name == bby.birth_name)]\n",
    "storms_babyNames_fact = meta \\\n",
    "            .join(bby, on, 'inner') \\\n",
    "            .select(meta['storm_meta_id']\n",
    "                    ,meta['storm_id'] \\\n",
    "                    ,bby['babyName_id']\\\n",
    "                    ,meta['storm_id'] \\\n",
    "                    ,meta['storm_name'] \\\n",
    "                    ,bby['birth_name'] \\\n",
    "                    ,bby['gender'] \\\n",
    "                    ,bby['birth_year'] \\\n",
    "                    ,bby['popularity'] \\\n",
    "                    ,meta['storm_year'] \\\n",
    "                    ,meta['category'] \\\n",
    "                    ,meta['storm_state_code'] \\\n",
    "                    ,bby['birth_state_code'] \\\n",
    "                   ) \\\n",
    "            .dropDuplicates()"
   ]
  },
  {
   "cell_type": "code",
   "execution_count": 81,
   "metadata": {
    "editable": true,
    "execution": {
     "iopub.execute_input": "2022-10-15T17:58:33.429962Z",
     "iopub.status.busy": "2022-10-15T17:58:33.429598Z",
     "iopub.status.idle": "2022-10-15T17:58:34.046202Z",
     "shell.execute_reply": "2022-10-15T17:58:34.045103Z",
     "shell.execute_reply.started": "2022-10-15T17:58:33.429922Z"
    },
    "tags": []
   },
   "outputs": [
    {
     "data": {
      "application/vnd.jupyter.widget-view+json": {
       "model_id": "3fb7eae0d9f14b1d9c0b14874c6a98d9",
       "version_major": 2,
       "version_minor": 0
      },
      "text/plain": [
       "VBox()"
      ]
     },
     "metadata": {},
     "output_type": "display_data"
    },
    {
     "data": {
      "application/vnd.jupyter.widget-view+json": {
       "model_id": "",
       "version_major": 2,
       "version_minor": 0
      },
      "text/plain": [
       "FloatProgress(value=0.0, bar_style='info', description='Progress:', layout=Layout(height='25px', width='50%'),…"
      ]
     },
     "metadata": {},
     "output_type": "display_data"
    }
   ],
   "source": [
    "# create an 'index'\n",
    "\n",
    "storms_babyNames_fact = storms_babyNames_fact \\\n",
    "    .withColumn(\"storm_babyName_id\", \\\n",
    "                F.monotonically_increasing_id())\n",
    "\n",
    "win = W.orderBy(\"storm_babyName_id\")\n",
    "\n",
    "storms_babyNames_fact = storms_babyNames_fact \\\n",
    "    .withColumn(\"storm_babyName_id\", \\\n",
    "                F.row_number().over(win)-1)"
   ]
  },
  {
   "cell_type": "code",
   "execution_count": 82,
   "metadata": {
    "editable": true,
    "execution": {
     "iopub.execute_input": "2022-10-15T17:58:34.049091Z",
     "iopub.status.busy": "2022-10-15T17:58:34.048509Z",
     "iopub.status.idle": "2022-10-15T17:58:34.728054Z",
     "shell.execute_reply": "2022-10-15T17:58:34.726716Z",
     "shell.execute_reply.started": "2022-10-15T17:58:34.049048Z"
    },
    "tags": []
   },
   "outputs": [
    {
     "data": {
      "application/vnd.jupyter.widget-view+json": {
       "model_id": "7257706c8c55466482c4b647b63efedf",
       "version_major": 2,
       "version_minor": 0
      },
      "text/plain": [
       "VBox()"
      ]
     },
     "metadata": {},
     "output_type": "display_data"
    },
    {
     "data": {
      "application/vnd.jupyter.widget-view+json": {
       "model_id": "",
       "version_major": 2,
       "version_minor": 0
      },
      "text/plain": [
       "FloatProgress(value=0.0, bar_style='info', description='Progress:', layout=Layout(height='25px', width='50%'),…"
      ]
     },
     "metadata": {},
     "output_type": "display_data"
    }
   ],
   "source": [
    "storms_babyNames_fact = storms_babyNames_fact \\\n",
    "    .select(['storm_babyName_id',\n",
    "            'babyName_id',\n",
    "            'storm_meta_id',\n",
    "            'storm_id',\n",
    "            'storm_name',\n",
    "            'storm_year',\n",
    "            'category',\n",
    "            'storm_state_code',\n",
    "            'birth_year',\n",
    "            'birth_name',\n",
    "            'popularity',\n",
    "            'birth_state_code',\n",
    "            'gender'\n",
    "            ]).dropDuplicates()"
   ]
  },
  {
   "cell_type": "code",
   "execution_count": 83,
   "metadata": {
    "editable": true,
    "execution": {
     "iopub.execute_input": "2022-10-15T17:58:35.529134Z",
     "iopub.status.busy": "2022-10-15T17:58:35.528722Z",
     "iopub.status.idle": "2022-10-15T18:01:00.186622Z",
     "shell.execute_reply": "2022-10-15T18:01:00.183005Z",
     "shell.execute_reply.started": "2022-10-15T17:58:35.529096Z"
    },
    "tags": []
   },
   "outputs": [
    {
     "data": {
      "application/vnd.jupyter.widget-view+json": {
       "model_id": "5917f4a913c740749585d2bba2ff033a",
       "version_major": 2,
       "version_minor": 0
      },
      "text/plain": [
       "VBox()"
      ]
     },
     "metadata": {},
     "output_type": "display_data"
    },
    {
     "data": {
      "application/vnd.jupyter.widget-view+json": {
       "model_id": "",
       "version_major": 2,
       "version_minor": 0
      },
      "text/plain": [
       "FloatProgress(value=0.0, bar_style='info', description='Progress:', layout=Layout(height='25px', width='50%'),…"
      ]
     },
     "metadata": {},
     "output_type": "display_data"
    },
    {
     "name": "stdout",
     "output_type": "stream",
     "text": [
      "+-----------------+-----------+-------------+--------+----------+----------+--------------+----------------+----------+----------+----------+----------------+------+\n",
      "|storm_babyName_id|babyName_id|storm_meta_id|storm_id|storm_name|storm_year|      category|storm_state_code|birth_year|birth_name|popularity|birth_state_code|gender|\n",
      "+-----------------+-----------+-------------+--------+----------+----------+--------------+----------------+----------+----------+----------+----------------+------+\n",
      "|                0|     440544|           12|AL011968|      abby|      1968|tropical storm|              FL|      1924|      abby|         5|              NY|     F|\n",
      "|                1|     478946|           12|AL011968|      abby|      1968|tropical storm|              FL|      1925|      abby|        14|              NY|     F|\n",
      "|                2|     516545|           12|AL011968|      abby|      1968|tropical storm|              FL|      1926|      abby|        10|              NY|     F|\n",
      "|                3|     553860|           12|AL011968|      abby|      1968|tropical storm|              FL|      1927|      abby|        12|              NY|     F|\n",
      "|                4|     591305|           12|AL011968|      abby|      1968|tropical storm|              FL|      1928|      abby|        14|              NY|     F|\n",
      "+-----------------+-----------+-------------+--------+----------+----------+--------------+----------------+----------+----------+----------+----------------+------+\n",
      "only showing top 5 rows\n",
      "\n",
      "         storm_babyName_id  babyName_id  storm_meta_id  storm_id storm_name  \\\n",
      "2354851            2354851      2282836            685  AL092004       ivan   \n",
      "1709016            1709016      2330042            502  AL062004    frances   \n",
      "1106578            1106578      3669957            308  AL042005     dennis   \n",
      "2882876            2882876      2844074           1043  AL192020      sally   \n",
      "372816              372816      4012541            113  AL022007      barry   \n",
      "\n",
      "        storm_year             category storm_state_code birth_year  \\\n",
      "2354851       2004  extratropical storm               LA       1967   \n",
      "1709016       2004                    4               FL       1968   \n",
      "1106578       2005                    4               FL       1991   \n",
      "2882876       2020  tropical depression               FL       1977   \n",
      "372816        2007  tropical depression               FL       1996   \n",
      "\n",
      "        birth_name popularity birth_state_code gender  \n",
      "2354851       ivan          6               GA      M  \n",
      "1709016    frances         41               AL      F  \n",
      "1106578     dennis         20               UT      M  \n",
      "2882876      sally          6               ND      F  \n",
      "372816       barry         29               FL      M"
     ]
    }
   ],
   "source": [
    "storms_babyNames_fact.show(5)\n",
    "# storms_babyNames_fact.toPandas().sample(5)"
   ]
  },
  {
   "cell_type": "code",
   "execution_count": 84,
   "metadata": {
    "editable": true,
    "execution": {
     "iopub.execute_input": "2022-10-15T18:01:00.196134Z",
     "iopub.status.busy": "2022-10-15T18:01:00.193502Z",
     "iopub.status.idle": "2022-10-15T18:02:15.180589Z",
     "shell.execute_reply": "2022-10-15T18:02:15.178279Z",
     "shell.execute_reply.started": "2022-10-15T18:01:00.196077Z"
    }
   },
   "outputs": [
    {
     "data": {
      "application/vnd.jupyter.widget-view+json": {
       "model_id": "8cfab1116db943229afbcb04e8eaf2b9",
       "version_major": 2,
       "version_minor": 0
      },
      "text/plain": [
       "VBox()"
      ]
     },
     "metadata": {},
     "output_type": "display_data"
    },
    {
     "data": {
      "application/vnd.jupyter.widget-view+json": {
       "model_id": "",
       "version_major": 2,
       "version_minor": 0
      },
      "text/plain": [
       "FloatProgress(value=0.0, bar_style='info', description='Progress:', layout=Layout(height='25px', width='50%'),…"
      ]
     },
     "metadata": {},
     "output_type": "display_data"
    }
   ],
   "source": [
    "# write to s3\n",
    "\n",
    "storms_babyNames_fact.write.mode('overwrite').csv('s3://capstonesources/OUTPUT/storms_babyNames_fact/storms_babyNames_fact.csv')"
   ]
  },
  {
   "cell_type": "markdown",
   "metadata": {
    "editable": true
   },
   "source": [
    "# Validation"
   ]
  },
  {
   "cell_type": "code",
   "execution_count": null,
   "metadata": {
    "editable": true
   },
   "outputs": [],
   "source": [
    "# check files are in bucket under partition\n",
    "\n",
    "import boto3\n",
    "s3 = boto3.resource('s3')\n",
    "\n",
    "## bucket\n",
    "bucket = s3.Bucket('s3://capstonesources/')\n",
    "\n",
    "## list objects within a given prefix\n",
    "for obj in bucket.objects.filter(Delimiter='/', Prefix='OUTPUT/'):\n",
    "    print(obj.key)"
   ]
  },
  {
   "cell_type": "code",
   "execution_count": null,
   "metadata": {
    "editable": true
   },
   "outputs": [],
   "source": [
    "# match counts from capstonePANDAS.ipynb\n",
    "\n",
    "state_ref.count()\n",
    "saffir_simpson_scale.count()\n",
    "babyNames_byState_fact.count()\n",
    "storms_byName_dim.count()\n",
    "storms_location_dim.count()\n",
    "storms_severity_dim.count()\n",
    "storms_metadata_fact.count()\n",
    "storms_babyNames_fact.count()"
   ]
  },
  {
   "cell_type": "code",
   "execution_count": null,
   "metadata": {
    "editable": true
   },
   "outputs": [],
   "source": [
    "# emily made landfall in 2017 as a tropical storm\n",
    "# looking at birth names in FL in 2017 - 2019, the popularity for the name did go down\n",
    "\n",
    "testset = storm_babyNames_fact.select(['storm_id', \n",
    "                                'storm_name', \n",
    "                                'storm_year', \n",
    "                                'storm_state_code',\n",
    "                                'birth_year', \n",
    "                                'birth_name', \n",
    "                                'popularity', \n",
    "                                'birth_state_code', \n",
    "                                'gender'])\n",
    "\n",
    "testset = testset.select([ \\\n",
    "         (\n",
    "            (testset['birth_name']=='emily') & \n",
    "            (testset['storm_year']== 2017) &\n",
    "            (testset['storm_state_code']== 'FL')\n",
    "         ) & \n",
    "         ((\n",
    "          (testset['birth_year']== 2017)   &  \n",
    "          (testset['birth_state_code']== 'FL')\n",
    "         ) |\n",
    "         (\n",
    "          (testset['birth_year']== 2018)   &  \n",
    "          (testset['birth_state_code']== 'FL')\n",
    "         ) |\n",
    "          (\n",
    "          (testset['birth_year']== 2021)   &  \n",
    "          (testset['birth_state_code']== 'FL')\n",
    "     ))\n",
    "      ])\n",
    "\n",
    "testsetProof = testset\\\n",
    "    .groupby(['storm_id',\n",
    "         'storm_name', \n",
    "         'storm_year', \n",
    "         'storm_state_code',\n",
    "         'birth_year', \n",
    "         'birth_name',\n",
    "         'birth_state_code',\n",
    "         'gender']).agg(F.max('popularity'))\n",
    "                        \n",
    "testsetProof"
   ]
  },
  {
   "cell_type": "code",
   "execution_count": null,
   "metadata": {
    "editable": true
   },
   "outputs": [],
   "source": []
  }
 ],
 "metadata": {
  "kernelspec": {
   "display_name": "Python 3",
   "language": "python",
   "name": "python3"
  },
  "language_info": {
   "codemirror_mode": {
    "name": "ipython",
    "version": 3
   },
   "file_extension": ".py",
   "mimetype": "text/x-python",
   "name": "python",
   "nbconvert_exporter": "python",
   "pygments_lexer": "ipython3",
   "version": "3.6.3"
  }
 },
 "nbformat": 4,
 "nbformat_minor": 5
}
