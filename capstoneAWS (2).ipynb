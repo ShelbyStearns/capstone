{
 "cells": [
  {
   "cell_type": "markdown",
   "metadata": {
    "editable": true
   },
   "source": [
    "# Programmatically Start/Terminate AWS Service Needed for Capstone\n",
    "Works provided... \n",
    "- the capstone.cfg has the proper credentials\n",
    "- configuration variable for your environment are input\n",
    "- the workspace doesn't reset while running\n",
    "- the workspace doesn't reset between running a cluster and before terminating a cluster"
   ]
  },
  {
   "cell_type": "markdown",
   "metadata": {
    "editable": true
   },
   "source": [
    "# Import Global Libraries"
   ]
  },
  {
   "cell_type": "code",
   "execution_count": 1,
   "metadata": {
    "editable": true
   },
   "outputs": [],
   "source": [
    "import os\n",
    "import boto3\n",
    "import pandas as pd\n",
    "import json\n",
    "import botocore\n",
    "import time\n",
    "import datetime as dt"
   ]
  },
  {
   "cell_type": "markdown",
   "metadata": {
    "editable": true
   },
   "source": [
    "# Obtain Needed Configuration Variables"
   ]
  },
  {
   "cell_type": "code",
   "execution_count": 2,
   "metadata": {
    "editable": true
   },
   "outputs": [],
   "source": [
    "def config_variables(cfgPath):\n",
    "    \"\"\"\n",
    "    using the filepath to the cfg, \n",
    "    parses variables from a cfg file\n",
    "    \"\"\"\n",
    "    import configparser \n",
    "    config = configparser.ConfigParser()\n",
    "    config.read_file(open(cfgPath))\n",
    "    \n",
    "    return config"
   ]
  },
  {
   "cell_type": "code",
   "execution_count": 58,
   "metadata": {
    "editable": true
   },
   "outputs": [],
   "source": [
    "cfgPath='/home/workspace/capstone.cfg'\n",
    "\n",
    "# aws profile\n",
    "os.environ[\"AWS_ACCESS_KEY_ID\"] = \\\n",
    "    config_variables(cfgPath).get(\"AWS\", \"AWS_ACCESS_KEY_ID\")\n",
    "\n",
    "os.environ['AWS_SECRET_ACCESS_KEY'] = \\\n",
    "    config_variables(cfgPath).get(\"AWS\", \"AWS_SECRET_ACCESS_KEY\")\n",
    "\n",
    "os.environ['REGION'] = config_variables(cfgPath).get(\"AWS\", \"REGION\")\n",
    "\n",
    "os.environ['DEFAULT_OUTPUT_FORMAT'] = \\\n",
    "    config_variables(cfgPath).get(\"AWS\", \"DEFAULT_OUTPUT_FORMAT\")\n",
    "\n",
    "# S3 \n",
    "REGION = config_variables(cfgPath).get(\"AWS\", \"REGION\")\n",
    "SOURCE_BUCKET = config_variables('/home/workspace/capstone.cfg') \\\n",
    "    .get(\"S3\", \"SOURCE_BUCKET\")\n",
    "# print(REGION, SOURCE_BUCKET)\n",
    "\n",
    "# EMR \n",
    "key_pair_name = config_variables(cfgPath).get(\"EMR\", \"key_pair_name\")\n",
    "pem = config_variables(cfgPath).get(\"EMR\", \"pem\")\n",
    "pemPath = config_variables(cfgPath).get(\"EMR\", \"pemPath\")\n",
    "profile = config_variables(cfgPath).get(\"EMR\", \"profile\")\n",
    "region = config_variables(cfgPath).get(\"EMR\", \"region\")\n",
    "\n",
    "#IAM\n",
    "IAM_ROLE_NAME = config_variables(cfgPath).get(\"IAM\", \"IAM_ROLE_NAME\")\n",
    "\n",
    "# print('key_pair_name: ', key_pair_name)\n",
    "# print('pem:           ', pem)\n",
    "# print('pemPath:       ', pemPath)\n",
    "# print('profile:       ', profile)\n",
    "# print('region:        ', region)"
   ]
  },
  {
   "cell_type": "markdown",
   "metadata": {
    "editable": true
   },
   "source": [
    "# Run Terminal Commands"
   ]
  },
  {
   "cell_type": "code",
   "execution_count": 61,
   "metadata": {
    "editable": true
   },
   "outputs": [],
   "source": [
    "def run_CmdList(cmd_list):\n",
    "    \"\"\"\n",
    "    - prereq: import subprocess\n",
    "    - relies on the subprocess.call method to open\n",
    "      the respective shell of the operating system\n",
    "      and execute a list of commands (as strings)\n",
    "    \"\"\"\n",
    "    import subprocess\n",
    "    for cmd in cmd_list:\n",
    "        subprocess.call(cmd, shell=True)\n",
    "        print('command run: '+ cmd)"
   ]
  },
  {
   "cell_type": "markdown",
   "metadata": {
    "editable": true
   },
   "source": [
    "## Customize Workspace - Programmatically"
   ]
  },
  {
   "cell_type": "code",
   "execution_count": 60,
   "metadata": {
    "editable": true
   },
   "outputs": [
    {
     "name": "stdout",
     "output_type": "stream",
     "text": [
      "command run: pip uninstall awscli\n",
      "command run: rm -rf hadoop-aws-2.7.3.jar +           rm -rf awscliv2.zip +           rm -rf aws\n",
      "command run: curl \"https://awscli.amazonaws.com/awscli-exe-linux-x86_64.zip\" -o \"awscliv2.zip\"\n",
      "command run: unzip awscliv2.zip\n",
      "command run: sudo ./aws/install\n",
      "command run: sudo apt-get update +           sudo apt-get install -yy less +           sudo apt-get install openssh-client\n",
      "command run: sudo wget https://repo1.maven.org/maven2/org/apache/hadoop/hadoop-aws/2.7.3/hadoop-aws-2.7.3.jar\n",
      "command run: sudo python3 -m pip install pandas\n",
      "command run: pip install --upgrade numpy\n"
     ]
    }
   ],
   "source": [
    "run_CmdList(\n",
    "    [\n",
    "        ('pip uninstall awscli'),\n",
    "        \n",
    "        ('rm -rf awscliv2.zip + \\\n",
    "          rm -rf aws'),\n",
    "        \n",
    "        ('curl \"https://awscli.amazonaws.com/awscli-exe-linux-x86_64.zip\" -o \"awscliv2.zip\"'),\n",
    "        \n",
    "        ('unzip awscliv2.zip'),\n",
    "        \n",
    "        ('sudo ./aws/install'),\n",
    "        \n",
    "        ('sudo apt-get update + \\\n",
    "          sudo apt-get install -yy less + \\\n",
    "          sudo apt-get install openssh-client'),\n",
    "        \n",
    "#         ('sudo wget https://repo1.maven.org/maven2/org/apache/hadoop/hadoop-aws/2.7.3/hadoop-aws-2.7.3.jar'),\n",
    "#         ('sudo wget https://jar-download.com/artifacts/org.apache.hadoop/hadoop-aws/2.7.0/source-code/org/apache/hadoop/fs/s3/S3FileSystem.java'),\n",
    "        \n",
    "        ('sudo python3 -m pip install pandas'),\n",
    "        ('pip install --upgrade numpy')\n",
    "    ]\n",
    ")"
   ]
  },
  {
   "cell_type": "markdown",
   "metadata": {
    "editable": true
   },
   "source": [
    "## AWS Configure - Programmatically "
   ]
  },
  {
   "cell_type": "code",
   "execution_count": 62,
   "metadata": {
    "editable": true
   },
   "outputs": [
    {
     "name": "stdout",
     "output_type": "stream",
     "text": [
      "AWS configure variables have been set\n"
     ]
    }
   ],
   "source": [
    "profile = \"default\"\n",
    "\n",
    "# suppress print for aws configure variables\n",
    "import contextlib\n",
    "\n",
    "with contextlib.redirect_stdout(None):\n",
    "    run_CmdList(\n",
    "        [\n",
    "            ('rm -rf ~/.aws/config + \\\n",
    "              rm -rf ~/.aws/credentials'),\n",
    "            \n",
    "            ('rmdir /root/.aws'),\n",
    "            ('mkdir /root/.aws'),\n",
    "            \n",
    "            ('aws --profile '\n",
    "                 + profile \\\n",
    "                 + ' configure set aws_access_key_id ' \\\n",
    "                 + os.environ[\"AWS_ACCESS_KEY_ID\"]),\n",
    "            \n",
    "            ('aws --profile '\n",
    "                 + profile \\\n",
    "                 + ' configure set aws_secret_access_key ' \\\n",
    "                 + os.environ[\"AWS_SECRET_ACCESS_KEY\"]),\n",
    "            \n",
    "            ('aws --profile '\n",
    "                 + profile \\\n",
    "                 + ' configure set region ' \\\n",
    "                 + os.environ[\"REGION\"]), \n",
    "            \n",
    "            ('aws --profile '\n",
    "                 + profile \\\n",
    "                 + ' configure set output_format ' \\\n",
    "                 + os.environ[\"DEFAULT_OUTPUT_FORMAT\"] ), \n",
    "            \n",
    "            ('export AWS_CONFIG_FILE=~/.aws/config'),\n",
    "            ('export AWS_SHARED_CREDENTIALS_FILE=~/.aws/credentials')\n",
    "        ]\n",
    "    )\n",
    "print('AWS configure variables have been set')"
   ]
  },
  {
   "cell_type": "markdown",
   "metadata": {
    "editable": true
   },
   "source": [
    "# Create boto3 session, clients and resources"
   ]
  },
  {
   "cell_type": "markdown",
   "metadata": {
    "editable": true
   },
   "source": [
    "Create boto3 session"
   ]
  },
  {
   "cell_type": "code",
   "execution_count": 101,
   "metadata": {
    "editable": true
   },
   "outputs": [],
   "source": [
    "def createBoto3Session(profile_name='default'): \n",
    "    \"\"\"\n",
    "    create boto3 session\n",
    "    params: profile can be set \n",
    "    or defaults to 'default'\n",
    "    \"\"\"\n",
    "#     import boto3\n",
    "    session = boto3.session.Session(profile_name=profile_name)    \n",
    "    print('Created session')\n",
    "    return session"
   ]
  },
  {
   "cell_type": "code",
   "execution_count": 102,
   "metadata": {
    "editable": true
   },
   "outputs": [
    {
     "name": "stdout",
     "output_type": "stream",
     "text": [
      "Created session\n"
     ]
    }
   ],
   "source": [
    "session = createBoto3Session(profile)"
   ]
  },
  {
   "cell_type": "markdown",
   "metadata": {
    "editable": true
   },
   "source": [
    "Create boto3 clients"
   ]
  },
  {
   "cell_type": "code",
   "execution_count": 103,
   "metadata": {
    "editable": true
   },
   "outputs": [],
   "source": [
    "def createSessionClients(session, awsService, REGION):  \n",
    "    \"\"\"\n",
    "    create boto3 client \n",
    "    from a session.\n",
    "    \n",
    "    params: aws service and region  \n",
    "    \"\"\"\n",
    "#     import boto3\n",
    "    client = session.client(awsService,\n",
    "                          region_name= REGION)\n",
    "    print(\"Created Client: \" + awsService)\n",
    "    \n",
    "    return client"
   ]
  },
  {
   "cell_type": "code",
   "execution_count": 104,
   "metadata": {
    "editable": true
   },
   "outputs": [
    {
     "name": "stdout",
     "output_type": "stream",
     "text": [
      "Created Client: ec2\n",
      "Created Client: emr\n",
      "Created Client: iam\n",
      "Created Client: s3\n",
      "Created Client: sagemaker\n"
     ]
    }
   ],
   "source": [
    "ec2 = createSessionClients(session,'ec2', REGION)\n",
    "emr = createSessionClients(session,'emr', REGION)\n",
    "iam = createSessionClients(session,'iam', REGION)\n",
    "s3_client = createSessionClients(session,'s3', REGION)\n",
    "sagemaker = createSessionClients(session,'sagemaker', REGION)"
   ]
  },
  {
   "cell_type": "markdown",
   "metadata": {
    "editable": true
   },
   "source": [
    "Create boto3 resources"
   ]
  },
  {
   "cell_type": "code",
   "execution_count": 105,
   "metadata": {
    "editable": true
   },
   "outputs": [],
   "source": [
    "def createSessionResources(session, awsService, REGION): \n",
    "    \"\"\"\n",
    "    creates boto3 resource\n",
    "    from a session\n",
    "    \n",
    "    params: aws service and region\n",
    "    \"\"\"\n",
    "#     import boto3\n",
    "    resource = session.resource(awsService, region_name= REGION)\n",
    "    print(\"Created Resource: \" + awsService)\n",
    "    \n",
    "    return resource"
   ]
  },
  {
   "cell_type": "code",
   "execution_count": 106,
   "metadata": {
    "editable": true
   },
   "outputs": [
    {
     "name": "stdout",
     "output_type": "stream",
     "text": [
      "Created Resource: ec2\n",
      "Created Resource: s3\n"
     ]
    }
   ],
   "source": [
    "ec2_resource = createSessionResources(session, 'ec2', REGION)\n",
    "s3_resource = createSessionResources(session, 's3', REGION)"
   ]
  },
  {
   "cell_type": "markdown",
   "metadata": {
    "editable": true
   },
   "source": [
    "# IAM Role"
   ]
  },
  {
   "cell_type": "markdown",
   "metadata": {
    "editable": true
   },
   "source": [
    "### Create new role\n",
    "- Create an IAM Role that makes enables Sagemaker access"
   ]
  },
  {
   "cell_type": "code",
   "execution_count": null,
   "metadata": {
    "editable": true
   },
   "outputs": [],
   "source": [
    "# def createNew_IAM_Role(IAM_ROLE_NAME):\n",
    "#     \"\"\"  \n",
    "#     - prereq: using boto3 - create clients\n",
    "#     - uses the create_role method to create a new IAM Role\n",
    "#     - referenced: Udacity, Lesson 3: Implementing Data Warehouses on AWS, Exercise 2: Infrastructure as Code\n",
    "#     \"\"\" \n",
    "#     print('Creating a new IAM Role')\n",
    "#     try:        \n",
    "#         name = iam.create_role(\n",
    "#             Path='/',\n",
    "#             RoleName=IAM_ROLE_NAME,       \n",
    "#             Description = \"Allows sagemaker to call AWS services on your behalf.\",\n",
    "#             AssumeRolePolicyDocument=json.dumps({\n",
    "#                         \"Version\": \"2012-10-17\",\n",
    "#                         \"Statement\": [\n",
    "#                             {\"Sid\": \"\",\n",
    "#                                 \"Effect\": \"Allow\",\n",
    "#                                 \"Principal\": {\"Service\": \"sagemaker.amazonaws.com\"},\n",
    "#                                 \"Action\": \"sts:AssumeRole\"} \n",
    "#                             ]}) \n",
    "#         )\n",
    "#         return(name)        \n",
    "#     except Exception as e:\n",
    "#         print(e)"
   ]
  },
  {
   "cell_type": "code",
   "execution_count": null,
   "metadata": {
    "editable": true
   },
   "outputs": [],
   "source": [
    "# # print(IAM_ROLE_NAME)\n",
    "# createNew_IAM_Role(IAM_ROLE_NAME)"
   ]
  },
  {
   "cell_type": "markdown",
   "metadata": {
    "editable": true
   },
   "source": [
    "### Attach Policy"
   ]
  },
  {
   "cell_type": "code",
   "execution_count": null,
   "metadata": {
    "editable": true
   },
   "outputs": [],
   "source": [
    "# def IAM_attachingPolicy(IAM_ROLE_NAME):\n",
    "#     \"\"\"  \n",
    "#     - prereq: using boto3 - create clients, create needed IAM Role\n",
    "#     - uses the attach_role_policy method to attach a policy to an IAM Role\n",
    "#     - referenced: Udacity, Lesson 3: Implementing Data Warehouses on AWS, Exercise 2: Infrastructure as Code\n",
    "#     \"\"\" \n",
    "#     print('Creating the IAM attaching policy')\n",
    "#     try:\n",
    "#         iam.attach_role_policy(RoleName=IAM_ROLE_NAME,\n",
    "#                            PolicyArn=\"arn:aws:iam::aws:policy/AmazonSageMakerFullAccess\"\n",
    "#                           )['ResponseMetadata']['HTTPStatusCode']\n",
    "#     except Exception as e:\n",
    "#         print(e)"
   ]
  },
  {
   "cell_type": "code",
   "execution_count": null,
   "metadata": {
    "editable": true
   },
   "outputs": [],
   "source": [
    "# # IAM_attachingPolicy(IAM_ROLE_NAME)\n",
    "# IAM_attachingPolicy(IAM_ROLE_NAME)"
   ]
  },
  {
   "cell_type": "markdown",
   "metadata": {
    "editable": true
   },
   "source": [
    "### Get ARN"
   ]
  },
  {
   "cell_type": "code",
   "execution_count": null,
   "metadata": {
    "editable": true
   },
   "outputs": [],
   "source": [
    "# def IAM_roleARN(IAM_ROLE_NAME):   \n",
    "#     \"\"\"  \n",
    "#     - prereq: using boto3 - create clients, create needed IAM Role\n",
    "#     - uses the get-role method to obtain the ARN\n",
    "#     - referenced: Udacity, Lesson 3: Implementing Data Warehouses on AWS, Exercise 2: Infrastructure as Code\n",
    "#     \"\"\"  \n",
    "#     try: \n",
    "#         roleArn = iam.get_role(RoleName=IAM_ROLE_NAME)['Role']['Arn']\n",
    "#         return roleArn\n",
    "#     except Exception as e:\n",
    "#         print(e)"
   ]
  },
  {
   "cell_type": "code",
   "execution_count": null,
   "metadata": {
    "editable": true
   },
   "outputs": [],
   "source": [
    "# IAM_roleARN(IAM_ROLE_NAME)"
   ]
  },
  {
   "cell_type": "markdown",
   "metadata": {
    "editable": true
   },
   "source": [
    "# Create a new S3 Bucket and Load with source data files"
   ]
  },
  {
   "cell_type": "markdown",
   "metadata": {
    "editable": true
   },
   "source": [
    "Create new s3 bucket"
   ]
  },
  {
   "cell_type": "code",
   "execution_count": 35,
   "metadata": {
    "editable": true
   },
   "outputs": [],
   "source": [
    "def create_new_S3(s3_client, BUCKET, REGION):\n",
    "    \"\"\"\n",
    "    create a new S3 bucket\n",
    "    \n",
    "    params: bucket name and region\n",
    "    \"\"\"\n",
    "    print(\"Creating new S3 Bucket\")\n",
    "    try: \n",
    "        s3_new = s3_client.create_bucket(\n",
    "                    ACL= 'public-read-write',\n",
    "                    Bucket= BUCKET,\n",
    "                    CreateBucketConfiguration={\n",
    "                        'LocationConstraint': REGION})\n",
    "         \n",
    "        return s3_new\n",
    "            \n",
    "    except Exception as e:\n",
    "        print(e)"
   ]
  },
  {
   "cell_type": "code",
   "execution_count": 36,
   "metadata": {
    "editable": true
   },
   "outputs": [
    {
     "name": "stdout",
     "output_type": "stream",
     "text": [
      "Creating new S3 Bucket\n",
      "An error occurred (BucketAlreadyOwnedByYou) when calling the CreateBucket operation: Your previous request to create the named bucket succeeded and you already own it.\n"
     ]
    }
   ],
   "source": [
    "create_new_S3(s3_client, SOURCE_BUCKET, REGION)"
   ]
  },
  {
   "cell_type": "markdown",
   "metadata": {
    "editable": true
   },
   "source": [
    "Upload source files to an s3 bucket"
   ]
  },
  {
   "cell_type": "code",
   "execution_count": null,
   "metadata": {
    "editable": true
   },
   "outputs": [],
   "source": [
    "def upload_multiple_files_toS3Folder(s3_client, PATH, KEY, BUCKET, folder):  \n",
    "    \"\"\"\n",
    "    using the boto3 s3 client\n",
    "    loops through a directory for file types\n",
    "    uploads to an S3 bucket by partition\n",
    "    \"\"\"\n",
    "#     import os\n",
    "    import glob    \n",
    "    \n",
    "    print(\"Uploading source files\")    \n",
    "    files = glob.glob(PATH + KEY)  \n",
    "\n",
    "    try: \n",
    "        for f in files: \n",
    "            upload = s3_client.upload_file(\n",
    "                Filename = f,\n",
    "                Bucket = BUCKET,\n",
    "                Key = folder + f.split(\"/\")[-1])\n",
    "\n",
    "        return upload\n",
    "    \n",
    "    except Exception as e:\n",
    "        print(e)  "
   ]
  },
  {
   "cell_type": "code",
   "execution_count": null,
   "metadata": {
    "editable": true
   },
   "outputs": [],
   "source": [
    "upload_multiple_files_toS3Folder(s3_client, 'source_namesbystate/', '*.TXT', SOURCE_BUCKET, 'SOURCE/')\n",
    "upload_multiple_files_toS3Folder(s3_client, 'source_weather/', '*.txt', SOURCE_BUCKET, 'SOURCE/')\n",
    "upload_multiple_files_toS3Folder(s3_client, 'source_weather/', '*.csv', SOURCE_BUCKET, 'SOURCE/')\n",
    "upload_multiple_files_toS3Folder(s3_client, 'source_states/', '*.json', SOURCE_BUCKET, 'SOURCE/')\n",
    "# upload_multiple_files_toS3Folder(s3_client, 'notebook/', '*.ipynb', SOURCE_BUCKET, 'NOTEBOOK/')\n"
   ]
  },
  {
   "cell_type": "markdown",
   "metadata": {
    "editable": true,
    "jupyter": {
     "source_hidden": true
    }
   },
   "source": [
    "# Create emr cluster"
   ]
  },
  {
   "cell_type": "markdown",
   "metadata": {
    "editable": true
   },
   "source": [
    "### configure a key pair with private permissions - and move into ~/.aws"
   ]
  },
  {
   "cell_type": "code",
   "execution_count": 107,
   "metadata": {
    "editable": true
   },
   "outputs": [],
   "source": [
    "# reference: https://www.learnaws.org/2020/12/16/aws-ec2-boto3-ultimate-guide/\n",
    "\n",
    "def configureKeyPair(keyName, sourcePath, destinationPath ):   \n",
    "    \"\"\"\n",
    "    configure an EC2 keyname pair \n",
    "    write the private key to file with 400 permissions\n",
    "    \"\"\"\n",
    "#     import os\n",
    "    import shutil\n",
    "    key_pair = ec2.create_key_pair(KeyName=keyName)\n",
    "    private_key = key_pair[\"KeyMaterial\"]\n",
    "\n",
    "    # write private key to file with 400 permissions\n",
    "    with os.fdopen(os.open(sourcePath, os.O_WRONLY | os.O_CREAT, 0o400), \"w+\") as fileHandle:\n",
    "        fileHandle.write(private_key)\n",
    "        \n",
    "    # move file to ~/.aws\n",
    "    shutil.move(sourcePath, destinationPath)"
   ]
  },
  {
   "cell_type": "code",
   "execution_count": 108,
   "metadata": {
    "editable": true
   },
   "outputs": [],
   "source": [
    "configureKeyPair(key_pair_name, \"/home/workspace/capstoneCluster_west.pem\", \"/root/.aws/capstoneCluster_west.pem\")"
   ]
  },
  {
   "cell_type": "markdown",
   "metadata": {
    "editable": true
   },
   "source": [
    "### create EMR cluster with an instance group"
   ]
  },
  {
   "cell_type": "code",
   "execution_count": 109,
   "metadata": {
    "editable": true
   },
   "outputs": [],
   "source": [
    "# reference: https://hands-on.cloud/working-with-emr-in-python-using-boto3/#h-create-emr-cluster-with-an-instance-group\n",
    "\n",
    "def createEmrClusterInstnceGrp(clusterName, \n",
    "                               emrRelease, \n",
    "                               MstInstnceType, \n",
    "                               CoreInstnceType, \n",
    "                               CoreInstanceCount,\n",
    "                               Ec2KeyName, \n",
    "                               Ec2SubnetId, \n",
    "                               appName):\n",
    "    \"\"\"\n",
    "    create an emr cluster with an instance group\n",
    "    \"\"\"\n",
    "    # import boto3\n",
    "    import json\n",
    "\n",
    "    response = emr.run_job_flow(\n",
    "        Name=clusterName,\n",
    "        ReleaseLabel=emrRelease,\n",
    "        Instances={\n",
    "            'KeepJobFlowAliveWhenNoSteps': True,\n",
    "            'TerminationProtected': False,\n",
    "            'InstanceGroups': [\n",
    "                {\n",
    "                    'Name': 'Master',\n",
    "                    'Market': 'ON_DEMAND',\n",
    "                    'InstanceRole': 'MASTER',\n",
    "                    'InstanceType': MstInstnceType,\n",
    "                    'InstanceCount': 1,\n",
    "                    'EbsConfiguration': {\n",
    "                        'EbsBlockDeviceConfigs': [\n",
    "                            {\n",
    "                                'VolumeSpecification': {\n",
    "                                    'VolumeType': 'gp2',\n",
    "                                    'SizeInGB': 10\n",
    "                                },\n",
    "                                'VolumesPerInstance': 1\n",
    "                            },\n",
    "                        ],\n",
    "                        'EbsOptimized': False\n",
    "                    }\n",
    "                },\n",
    "                {\n",
    "                    'Name': 'Core',\n",
    "                    'Market': 'ON_DEMAND',\n",
    "                    'InstanceRole': 'CORE',\n",
    "                    'InstanceType': CoreInstnceType,\n",
    "                    'InstanceCount': CoreInstanceCount,\n",
    "                    'EbsConfiguration': {\n",
    "                        'EbsBlockDeviceConfigs': [\n",
    "                            {\n",
    "                                'VolumeSpecification': {\n",
    "                                    'VolumeType': 'gp2',\n",
    "                                    'SizeInGB': 10\n",
    "                                },\n",
    "                                'VolumesPerInstance': 1\n",
    "                            },\n",
    "                        ],\n",
    "                        'EbsOptimized': False\n",
    "                    }\n",
    "                },\n",
    "            ],\n",
    "            'Ec2KeyName': Ec2KeyName,\n",
    "            'Ec2SubnetId': Ec2SubnetId\n",
    "        },\n",
    "        Applications=[\n",
    "            {\n",
    "                'Name': appName,\n",
    "            },\n",
    "\n",
    "        ],\n",
    "        VisibleToAllUsers=True,\n",
    "        ServiceRole='EMR_DefaultRole',\n",
    "        JobFlowRole='EMR_EC2_DefaultRole'\n",
    "    )\n",
    "\n",
    "\n",
    "\n",
    "#     print(json.dumps(response, indent=4, sort_keys=True, default=str))  \n",
    "    response = emr.list_clusters()\n",
    "    cluster_id = response['Clusters'][0]['Id']\n",
    "    print(\"Created \" + clusterName + \": \" + cluster_id)"
   ]
  },
  {
   "cell_type": "code",
   "execution_count": 110,
   "metadata": {
    "editable": true
   },
   "outputs": [
    {
     "name": "stdout",
     "output_type": "stream",
     "text": [
      "Created capstoneCluster: j-21Q51T38GLHHT\n"
     ]
    }
   ],
   "source": [
    "createEmrClusterInstnceGrp(\"capstoneCluster\", \n",
    "                               'emr-5.28.0', \n",
    "                               'm5.xlarge', \n",
    "                               'm5.xlarge', \n",
    "                               1,\n",
    "                               key_pair_name, \n",
    "                               'subnet-08e09f3646458e68f', \n",
    "                               'Spark')"
   ]
  },
  {
   "cell_type": "code",
   "execution_count": 111,
   "metadata": {
    "editable": true
   },
   "outputs": [],
   "source": [
    "def get_newlyCreated_emrClusterId(emr_client):\n",
    "    \"\"\"\n",
    "    using boto3 emr client, gets\n",
    "    the cluster id\n",
    "    \"\"\"\n",
    "    response = emr.list_clusters()\n",
    "    cluster_id = response['Clusters'][0]['Id']\n",
    "    cluster_name = response['Clusters'][0]['Name']\n",
    "    print(\"Cluster Name = \" + cluster_name + \", Cluster ID = \" + cluster_id)\n",
    "    \n",
    "    return cluster_id"
   ]
  },
  {
   "cell_type": "code",
   "execution_count": 112,
   "metadata": {
    "editable": true
   },
   "outputs": [
    {
     "name": "stdout",
     "output_type": "stream",
     "text": [
      "Cluster Name = capstoneCluster, Cluster ID = j-21Q51T38GLHHT\n"
     ]
    }
   ],
   "source": [
    "clusterId = get_newlyCreated_emrClusterId(emr)"
   ]
  },
  {
   "cell_type": "code",
   "execution_count": 113,
   "metadata": {
    "editable": true
   },
   "outputs": [],
   "source": [
    "def get_emrClusterStatus(emr_client, clusterId):\n",
    "    \"\"\"\n",
    "    using the boto3 emr client, get the status of the\n",
    "    cluster using the cluster id\n",
    "    \"\"\"\n",
    "    try: \n",
    "        response = emr.list_clusters()\n",
    "        for cluster in response['Clusters']:\n",
    "            if cluster['Id'] == clusterId:\n",
    "                clusterStatus = cluster['Status']['State']\n",
    "#                 print(\"Cluster State = \" + clusterStatus)\n",
    "                return clusterStatus\n",
    "            else: \n",
    "                pass\n",
    "\n",
    "    except Exception as e: \n",
    "        print(e)"
   ]
  },
  {
   "cell_type": "code",
   "execution_count": 114,
   "metadata": {
    "editable": true
   },
   "outputs": [
    {
     "data": {
      "text/plain": [
       "'STARTING'"
      ]
     },
     "execution_count": 114,
     "metadata": {},
     "output_type": "execute_result"
    }
   ],
   "source": [
    "clusterStatus = get_emrClusterStatus(emr, clusterId)\n",
    "clusterStatus"
   ]
  },
  {
   "cell_type": "code",
   "execution_count": 115,
   "metadata": {
    "editable": true
   },
   "outputs": [],
   "source": [
    "# clusterStatus = get_emrClusterStatus(emr, 'j-2SZAN9KS8PBH')\n",
    "# clusterStatus"
   ]
  },
  {
   "cell_type": "markdown",
   "metadata": {
    "editable": true
   },
   "source": [
    "### identify the master node"
   ]
  },
  {
   "cell_type": "code",
   "execution_count": 116,
   "metadata": {
    "editable": true
   },
   "outputs": [],
   "source": [
    "def identifyMasterNode(emr_client, clusterId):  \n",
    "    \"\"\"\n",
    "    using the boto3 emr client and cluster id of an\n",
    "    emr cluster, waits for the cluster status to move from \n",
    "    starting to waiting before brining back the \n",
    "    master node\n",
    "    \"\"\"\n",
    "    import time \n",
    "#     import datetime as dt\n",
    "\n",
    "    try: \n",
    "        startTime = dt.datetime.now() \n",
    "        print(\"Cluster Id: \" + clusterId)\n",
    "#         print(\"So begins the wait...\")\n",
    "        clusterStatus = get_emrClusterStatus(emr_client, clusterId)           \n",
    "        while True:\n",
    "            if clusterStatus == 'STARTING':                \n",
    "                currentTime = dt.datetime.now()\n",
    "                time.sleep(30)                \n",
    "                clusterStatus = get_emrClusterStatus(emr, clusterId)                \n",
    "                print(\"elapsed time: \", (currentTime - startTime))   \n",
    "            \n",
    "            elif clusterStatus == 'WAITING':                \n",
    "                response = emr.list_instances(\n",
    "                ClusterId=clusterId,\n",
    "                InstanceGroupTypes=['MASTER'])\n",
    "                \n",
    "                response\n",
    "                masterNode= response['Instances'][0]['PublicDnsName'] \n",
    "\n",
    "                print('Master Node: ' + masterNode)\n",
    "                return masterNode\n",
    "            \n",
    "            else:\n",
    "                print(\"Uh-oh! Cluster Status not 'STARTING' or 'WAITING'\")\n",
    "                break\n",
    "                \n",
    "    except Exception as e:\n",
    "        print(e)      "
   ]
  },
  {
   "cell_type": "code",
   "execution_count": 117,
   "metadata": {
    "editable": true
   },
   "outputs": [
    {
     "name": "stdout",
     "output_type": "stream",
     "text": [
      "Cluster Id: j-21Q51T38GLHHT\n",
      "elapsed time:  0:00:00.196990\n",
      "elapsed time:  0:00:30.678513\n",
      "elapsed time:  0:01:01.157459\n",
      "elapsed time:  0:01:31.732478\n",
      "elapsed time:  0:02:02.210017\n",
      "elapsed time:  0:02:32.591587\n",
      "elapsed time:  0:03:03.058114\n",
      "elapsed time:  0:03:33.586440\n",
      "Master Node: ec2-54-190-29-181.us-west-2.compute.amazonaws.com\n"
     ]
    },
    {
     "data": {
      "text/plain": [
       "'ec2-54-190-29-181.us-west-2.compute.amazonaws.com'"
      ]
     },
     "execution_count": 117,
     "metadata": {},
     "output_type": "execute_result"
    }
   ],
   "source": [
    "identifyMasterNode(emr, clusterId)"
   ]
  },
  {
   "cell_type": "markdown",
   "metadata": {
    "editable": true
   },
   "source": [
    "### load files to MasterNode"
   ]
  },
  {
   "cell_type": "code",
   "execution_count": 118,
   "metadata": {
    "editable": true
   },
   "outputs": [],
   "source": [
    "def scp_CmdCalls(emr_client, clusterId, pemPath, pem): \n",
    "    \"\"\"\n",
    "    using the boto3 emr client, \n",
    "    load files to the master node \n",
    "    in a specific cluster\n",
    "    \"\"\"\n",
    "#     import boto3\n",
    "    \n",
    "    masterNode = identifyMasterNode(emr_client, clusterId) \n",
    "\n",
    "    scp_cmdList = []\n",
    "\n",
    "    pem_toMasterNode = 'scp -i ' + pemPath + ' ' + pemPath + ' hadoop@' + masterNode + ':/home/hadoop/'\n",
    "    cfg_toMasterNode = 'scp -i ~/.aws/' + pem + ' capstone.cfg hadoop@' + masterNode + ':/home/hadoop/'\n",
    "#     py_toMasterNode = 'scp -i ~/.aws/' + pem + ' capstone.py hadoop@' + masterNode + ':/home/hadoop/'\n",
    "\n",
    "    scp_cmdList.append(pem_toMasterNode + \", \" + cfg_toMasterNode)    \n",
    "    scp_cmds = run_CmdList(scp_cmdList)\n",
    "\n",
    "    return scp_cmds"
   ]
  },
  {
   "cell_type": "code",
   "execution_count": 119,
   "metadata": {
    "editable": true
   },
   "outputs": [
    {
     "name": "stdout",
     "output_type": "stream",
     "text": [
      "Cluster Id: j-21Q51T38GLHHT\n",
      "Master Node: ec2-54-190-29-181.us-west-2.compute.amazonaws.com\n",
      "command run: scp -i ~/.aws/capstoneCluster_west.pem ~/.aws/capstoneCluster_west.pem hadoop@ec2-54-190-29-181.us-west-2.compute.amazonaws.com:/home/hadoop/, scp -i ~/.aws/capstoneCluster_west.pem capstone.cfg hadoop@ec2-54-190-29-181.us-west-2.compute.amazonaws.com:/home/hadoop/\n"
     ]
    }
   ],
   "source": [
    "scp_CmdCalls(emr, clusterId, pemPath, pem)"
   ]
  },
  {
   "cell_type": "markdown",
   "metadata": {
    "editable": true
   },
   "source": [
    "### MANUAL STEP: connect to master node"
   ]
  },
  {
   "cell_type": "code",
   "execution_count": 120,
   "metadata": {
    "editable": true
   },
   "outputs": [
    {
     "name": "stdout",
     "output_type": "stream",
     "text": [
      "Cluster Id: j-21Q51T38GLHHT\n",
      "Master Node: ec2-54-190-29-181.us-west-2.compute.amazonaws.com\n",
      "run this command in the terminal-->  ssh hadoop@ec2-54-190-29-181.us-west-2.compute.amazonaws.com -i ~/.aws/capstoneCluster_west.pem\n"
     ]
    }
   ],
   "source": [
    "masterNode = identifyMasterNode(emr, clusterId)\n",
    "print('run this command in the terminal-->  ' + 'ssh hadoop@' + masterNode + ' -i ' + pemPath)"
   ]
  },
  {
   "cell_type": "code",
   "execution_count": null,
   "metadata": {
    "editable": true
   },
   "outputs": [],
   "source": [
    "# def connectSSH_toMasterNode(emr_client, clusterId, pemPath):\n",
    "#     \"\"\"\n",
    "#     \"\"\"\n",
    "# #     import boto3\n",
    "\n",
    "#     masterNode = identifyMasterNode(emr_client, clusterId)    \n",
    "#     connectSSH = ['ssh hadoop@' + masterNode + ' -i ' + pemPath]    \n",
    "#     connectionEMR = run_CmdList(connectSSH)\n",
    "    \n",
    "#     return connectionEMR"
   ]
  },
  {
   "cell_type": "code",
   "execution_count": null,
   "metadata": {
    "editable": true
   },
   "outputs": [],
   "source": [
    "# connectSSH_toMasterNode(emr, clusterId, pemPath)"
   ]
  },
  {
   "cell_type": "markdown",
   "metadata": {
    "editable": true
   },
   "source": [
    "# Cleanup "
   ]
  },
  {
   "cell_type": "markdown",
   "metadata": {
    "editable": true
   },
   "source": [
    "### terminate emr cluster"
   ]
  },
  {
   "cell_type": "code",
   "execution_count": 121,
   "metadata": {
    "editable": true
   },
   "outputs": [],
   "source": [
    "def terminate_emrCluster(emr_client, clusterId):\n",
    "    \"\"\"\n",
    "    user input required to start termination of a cluster\n",
    "    looks to ensure status of the cluster is terminated\n",
    "    \"\"\"\n",
    "#     import boto3\n",
    "#     import datetime as dt\n",
    "    try:\n",
    "        terminate_emrCluster = input('Ready to delete your EMR Cluster? Please answer: Yes or No...').lower()  \n",
    "        \n",
    "        if terminate_emrCluster.startswith('y'):  \n",
    "            \n",
    "            startTime = dt.datetime.now()\n",
    "            clusterStatus = get_emrClusterStatus(emr_client, clusterId)   \n",
    "            \n",
    "            if clusterStatus == 'WAITING':\n",
    "                response = emr_client.terminate_job_flows(\n",
    "                JobFlowIds=[clusterId]) \n",
    "                \n",
    "                clusterStatus = get_emrClusterStatus(emr_client, clusterId)   \n",
    "                \n",
    "                while \"TERM\" not in clusterStatus:\n",
    "                    currentTime = dt.datetime.now()\n",
    "                    time.sleep(10)\n",
    "\n",
    "                    clusterStatus = get_emrClusterStatus(emr_client, clusterId)\n",
    "\n",
    "                    print(\"elapsed time: \", (currentTime - startTime))\n",
    "                    \n",
    "                print(\"Rest Assured! Your EMR = \" + clusterStatus)\n",
    "\n",
    "            else:\n",
    "                print(\"Congrats! Cluster Status = \" + clusterStatus)\n",
    "                \n",
    "        else:\n",
    "            print(\"Okaaaay. It's your funeral!\")\n",
    "    \n",
    "    except Exception as e:\n",
    "        print(e)     "
   ]
  },
  {
   "cell_type": "code",
   "execution_count": 122,
   "metadata": {
    "editable": true
   },
   "outputs": [
    {
     "name": "stdin",
     "output_type": "stream",
     "text": [
      "Ready to delete your EMR Cluster? Please answer: Yes or No... yes\n"
     ]
    },
    {
     "name": "stdout",
     "output_type": "stream",
     "text": [
      "Rest Assured! Your EMR = TERMINATING\n"
     ]
    }
   ],
   "source": [
    "# happy path\n",
    "terminate_emrCluster(emr, clusterId)"
   ]
  },
  {
   "cell_type": "code",
   "execution_count": 86,
   "metadata": {
    "editable": true
   },
   "outputs": [],
   "source": [
    "# test\n",
    "# terminate_emrCluster(emr, 'j-19112GB5ITTAP')"
   ]
  },
  {
   "cell_type": "code",
   "execution_count": 123,
   "metadata": {
    "editable": true
   },
   "outputs": [
    {
     "data": {
      "text/plain": [
       "'TERMINATING'"
      ]
     },
     "execution_count": 123,
     "metadata": {},
     "output_type": "execute_result"
    }
   ],
   "source": [
    "# double-check cluster status\n",
    "get_emrClusterStatus(emr, clusterId)"
   ]
  },
  {
   "cell_type": "markdown",
   "metadata": {
    "editable": true
   },
   "source": [
    "### delete the key pair"
   ]
  },
  {
   "cell_type": "code",
   "execution_count": 124,
   "metadata": {
    "editable": true
   },
   "outputs": [],
   "source": [
    "def deleteKeyPair(keyName):\n",
    "    \"\"\"\n",
    "    user input required to terminate an EC2 keypair\n",
    "    \"\"\"\n",
    "    try:\n",
    "        deleteKeyPair = input('Ready to delete your EC2 KeyPair? Please answer: Yes or No...').lower()\n",
    "        if deleteKeyPair.startswith('y'):\n",
    "            response = ec2.delete_key_pair(KeyName=keyName)\n",
    "            return response\n",
    "        else: \n",
    "            print(\"Okay. Maybe later then.\")\n",
    "\n",
    "    except Exception as e:\n",
    "        print(e)"
   ]
  },
  {
   "cell_type": "code",
   "execution_count": 125,
   "metadata": {
    "editable": true
   },
   "outputs": [
    {
     "name": "stdin",
     "output_type": "stream",
     "text": [
      "Ready to delete your EC2 KeyPair? Please answer: Yes or No... yes\n"
     ]
    },
    {
     "data": {
      "text/plain": [
       "{'ResponseMetadata': {'RequestId': 'eec83bac-5925-4325-ae64-9c93bf273717',\n",
       "  'HTTPStatusCode': 200,\n",
       "  'HTTPHeaders': {'x-amzn-requestid': 'eec83bac-5925-4325-ae64-9c93bf273717',\n",
       "   'cache-control': 'no-cache, no-store',\n",
       "   'strict-transport-security': 'max-age=31536000; includeSubDomains',\n",
       "   'content-type': 'text/xml;charset=UTF-8',\n",
       "   'content-length': '227',\n",
       "   'date': 'Sun, 16 Oct 2022 17:47:13 GMT',\n",
       "   'server': 'AmazonEC2'},\n",
       "  'RetryAttempts': 0}}"
      ]
     },
     "execution_count": 125,
     "metadata": {},
     "output_type": "execute_result"
    }
   ],
   "source": [
    "deleteKeyPair(key_pair_name)"
   ]
  },
  {
   "cell_type": "markdown",
   "metadata": {
    "editable": true
   },
   "source": [
    "### empty s3 buckets and delete s3 buckets"
   ]
  },
  {
   "cell_type": "code",
   "execution_count": 126,
   "metadata": {
    "editable": true
   },
   "outputs": [],
   "source": [
    "def delete_S3(s3_resource, BUCKET):\n",
    "    \"\"\"\n",
    "    using boto3 s3 resource, empties the contents of an S3 bucket\n",
    "    then deletes the bucket\n",
    "    \"\"\"\n",
    "    try:\n",
    "        deleteS3 = input('Ready to delete your S3 Bucket? Please answer: Yes or No...').lower()\n",
    "        if deleteS3.startswith('y'):\n",
    "            # to use .Bucket, the boto3 resource must be used\n",
    "            s3_bucket = s3_resource.Bucket(BUCKET)\n",
    "            \n",
    "            s3_bucket.objects.all().delete()\n",
    "            print('Bucket:', BUCKET, 'has been emptied')\n",
    "            \n",
    "            s3_bucket.delete()\n",
    "            print('Bucket:', BUCKET, 'has been deleted')\n",
    "        else: \n",
    "            print(\"Okay. Maybe later then.\")\n",
    "\n",
    "    except Exception as e:\n",
    "        print(e)"
   ]
  },
  {
   "cell_type": "code",
   "execution_count": 127,
   "metadata": {
    "editable": true
   },
   "outputs": [
    {
     "name": "stdin",
     "output_type": "stream",
     "text": [
      "Ready to delete your S3 Bucket? Please answer: Yes or No... yes\n"
     ]
    },
    {
     "name": "stdout",
     "output_type": "stream",
     "text": [
      "Bucket: capstonesources has been emptied\n",
      "Bucket: capstonesources has been deleted\n"
     ]
    }
   ],
   "source": [
    "delete_S3(s3_resource, SOURCE_BUCKET)"
   ]
  },
  {
   "cell_type": "markdown",
   "metadata": {
    "editable": true
   },
   "source": [
    "### delete notebook (WIP)"
   ]
  },
  {
   "cell_type": "code",
   "execution_count": null,
   "metadata": {
    "editable": true
   },
   "outputs": [],
   "source": [
    "# def deleteEMRnb(sagemaker_client, notebook):\n",
    "#     \"\"\"\n",
    "#     using sagemaker, stop then deletes a notebook instance\n",
    "#     \"\"\"\n",
    "#     try:\n",
    "#         deleteEMRnb = input('Ready to delete your EMR Notebook? Please answer: Yes or No...').lower()\n",
    "#         if deleteEMRnb.startswith('y'):\n",
    "#             response_stop = sagemaker.stop_notebook_instance(NotebookInstanceName=notebook)\n",
    "#             response_delete = sagemaker.delete_notebook_instance(NotebookInstanceName=notebook)\n",
    "#             return response_delete\n",
    "#         else: \n",
    "#             print(\"Okay. Maybe later then.\")\n",
    "\n",
    "#     except Exception as e:\n",
    "#         print(e)"
   ]
  },
  {
   "cell_type": "code",
   "execution_count": null,
   "metadata": {
    "editable": true
   },
   "outputs": [],
   "source": [
    "# deleteEMRnb(sagemaker, 'capstone')"
   ]
  },
  {
   "cell_type": "markdown",
   "metadata": {
    "editable": true
   },
   "source": [
    "### delete IAM Role\n",
    "- to conserve costs, all AWS resources must be deleted after the required jobs have been completed and validated\n",
    "- running end-to-end as program (vs. in ipython), by requiring input, the user is forced to formally acknowledge the deletion of the resource before the job will continue"
   ]
  },
  {
   "cell_type": "code",
   "execution_count": null,
   "metadata": {
    "editable": true
   },
   "outputs": [],
   "source": [
    "# def deleteIAM():\n",
    "#     \"\"\"\n",
    "#     deletes an iam role\n",
    "#     \"\"\"\n",
    "#     deleteIAM = input('Ready to delete your IAM Role Name? Please answer: Yes or No...').lower()\n",
    "\n",
    "#     try:\n",
    "#         if deleteIAM.startswith('y'):\n",
    "#             iam.detach_role_policy(RoleName=IAM_ROLE_NAME, PolicyArn=\"arn:aws:iam::aws:policy/AmazonSageMakerFullAccess\")\n",
    "#             iam.delete_role(RoleName=IAM_ROLE_NAME)\n",
    "#             print('Role:',IAM_ROLE_NAME,'has been deleted')\n",
    "#         else: \n",
    "#             print(\"Okay. Maybe later then.\")\n",
    "\n",
    "#     except Exception as e:\n",
    "#         print(e)"
   ]
  },
  {
   "cell_type": "markdown",
   "metadata": {
    "editable": true
   },
   "source": [
    "### remove folders/files from workspace"
   ]
  },
  {
   "cell_type": "code",
   "execution_count": null,
   "metadata": {
    "editable": true
   },
   "outputs": [],
   "source": [
    "def workspace_cleanUpFiles(cmd_list):\n",
    "    \"\"\"\n",
    "    removes files from the workspace\n",
    "    \"\"\"\n",
    "    try:\n",
    "        cleanWrksp = input('Ready to cleanup your Udacity Workspace? Please answer: Yes or No...').lower()\n",
    "        if cleanWrksp.startswith('y'):\n",
    "            rmFiles = run_CmdList(cmd_list)\n",
    "            return rmFiles\n",
    "        else: \n",
    "            print('Manual cleanup for you then!')\n",
    "    except Exception as e:\n",
    "        print(e)"
   ]
  },
  {
   "cell_type": "code",
   "execution_count": null,
   "metadata": {
    "editable": true
   },
   "outputs": [],
   "source": [
    "workspace_cleanUpFiles(\n",
    "    [\n",
    "        ('rm -rf hadoop-aws-2.7.0.jar'),\n",
    "        ('rm -rf S3FileSystem.java'),\n",
    "        ('rm -rf awscliv2.zip'),\n",
    "        ('rm -rf aws')\n",
    "    ]\n",
    ")"
   ]
  },
  {
   "cell_type": "code",
   "execution_count": null,
   "metadata": {
    "editable": true
   },
   "outputs": [],
   "source": []
  }
 ],
 "metadata": {
  "kernelspec": {
   "display_name": "Python 3",
   "language": "python",
   "name": "python3"
  },
  "language_info": {
   "codemirror_mode": {
    "name": "ipython",
    "version": 3
   },
   "file_extension": ".py",
   "mimetype": "text/x-python",
   "name": "python",
   "nbconvert_exporter": "python",
   "pygments_lexer": "ipython3",
   "version": "3.6.3"
  }
 },
 "nbformat": 4,
 "nbformat_minor": 4
}
